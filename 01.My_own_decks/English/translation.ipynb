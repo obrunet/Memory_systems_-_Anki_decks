{
 "cells": [
  {
   "cell_type": "markdown",
   "metadata": {},
   "source": [
    "on windows add env variable with the name and the path of the webdriver\n",
    "to test\n",
    "cmd.exe > chromedriver\n",
    "... chromedriver has successfully started ...\n",
    "\n",
    "sudo vim /home/username/.profile\n",
    "export PATH=$PATH:/pathtodriver/webdriver\n"
   ]
  },
  {
   "cell_type": "markdown",
   "metadata": {},
   "source": [
    "https://realpython.com/modern-web-automation-with-python-and-selenium/"
   ]
  },
  {
   "cell_type": "markdown",
   "metadata": {},
   "source": [
    "https://www.geeksforgeeks.org/selenium-python-tutorial/"
   ]
  },
  {
   "cell_type": "markdown",
   "metadata": {},
   "source": [
    "https://www.browserstack.com/guide/python-selenium-to-run-web-automation-test"
   ]
  },
  {
   "cell_type": "markdown",
   "metadata": {},
   "source": [
    "https://translate.google.com/?sl=en&tl=fr&text=abandon%0A&op=translate"
   ]
  },
  {
   "cell_type": "code",
   "execution_count": 1,
   "metadata": {},
   "outputs": [],
   "source": [
    "from selenium import webdriver\n",
    "from selenium.webdriver.support import expected_conditions as EC\n",
    "from selenium.webdriver.support.ui import WebDriverWait\n",
    "from selenium.webdriver.common.by import By\n",
    "#from fake_useragent import UserAgent\n",
    "from random import randrange\n",
    "from datetime import datetime\n",
    "import time\n",
    "\n",
    "#ua = UserAgent()\n",
    "#userAgent = ua.random\n",
    "userAgent = \"Mozilla/5.0 (Windows NT 10.0; Win64; x64) AppleWebKit/537.36 (KHTML, like Gecko) Chrome/92.0.4515.131 Safari/537.36\"\n",
    "options = webdriver.ChromeOptions()\n",
    "options.add_argument(f\"user-agent={userAgent}\")\n",
    "options.add_experimental_option('excludeSwitches', ['enable-logging'])\n",
    "browser = webdriver.Chrome(executable_path=r\"chromedriver.exe\", options=options)\n",
    "\n",
    "def translate_term(text, target_lang, source_lang=\"en\"):\n",
    "    translation = 'N/A'\n",
    "\n",
    "    try:\n",
    "        browser.get(f\"https://translate.google.com/?sl={source_lang}&tl={target_lang}&text={text}&op=translate\")\n",
    "        condition = EC.presence_of_element_located((By.XPATH, f\"//span[@data-language-for-alternatives='{target_lang}']/span[1]\"))\n",
    "        element = WebDriverWait(browser, 10).until(condition)\n",
    "        translation = element.text\n",
    "        time.sleep(randrange(2))\n",
    "    except Exception:\n",
    "        now = datetime.now()\n",
    "        current_time = now.strftime(\"%H:%M:%S\")\n",
    "        print(\"Something went wrong at: \", current_time)        \n",
    "\n",
    "    return translation\n",
    "    "
   ]
  },
  {
   "cell_type": "code",
   "execution_count": 2,
   "metadata": {},
   "outputs": [
    {
     "name": "stdout",
     "output_type": "stream",
     "text": [
      "abolir\n",
      "Something went wrong at:  21:04:10\n",
      "N/A\n",
      "Souris\n",
      "zone\n",
      "voyage en avion\n"
     ]
    }
   ],
   "source": [
    "print(translate_term(text=\"abolish\", target_lang=\"fr\"))\n",
    "print(translate_term(text=\"nice\", target_lang=\"fr\"))\n",
    "print(translate_term(text=\"mouse\", target_lang=\"fr\"))\n",
    "print(translate_term(text=\"zone\", target_lang=\"fr\"))\n",
    "print(translate_term(text=\"flight\", target_lang=\"fr\"))"
   ]
  },
  {
   "cell_type": "code",
   "execution_count": 3,
   "metadata": {},
   "outputs": [],
   "source": [
    "browser.close()"
   ]
  }
 ],
 "metadata": {
  "kernelspec": {
   "display_name": "Python 3",
   "language": "python",
   "name": "python3"
  },
  "language_info": {
   "codemirror_mode": {
    "name": "ipython",
    "version": 3
   },
   "file_extension": ".py",
   "mimetype": "text/x-python",
   "name": "python",
   "nbconvert_exporter": "python",
   "pygments_lexer": "ipython3",
   "version": "3.8.5"
  }
 },
 "nbformat": 4,
 "nbformat_minor": 4
}
