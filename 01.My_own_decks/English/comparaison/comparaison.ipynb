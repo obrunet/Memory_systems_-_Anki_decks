{
 "cells": [
  {
   "cell_type": "code",
   "execution_count": 19,
   "id": "17720d4b",
   "metadata": {},
   "outputs": [
    {
     "data": {
      "text/html": [
       "<div>\n",
       "<style scoped>\n",
       "    .dataframe tbody tr th:only-of-type {\n",
       "        vertical-align: middle;\n",
       "    }\n",
       "\n",
       "    .dataframe tbody tr th {\n",
       "        vertical-align: top;\n",
       "    }\n",
       "\n",
       "    .dataframe thead th {\n",
       "        text-align: right;\n",
       "    }\n",
       "</style>\n",
       "<table border=\"1\" class=\"dataframe\">\n",
       "  <thead>\n",
       "    <tr style=\"text-align: right;\">\n",
       "      <th></th>\n",
       "      <th>word</th>\n",
       "      <th>type</th>\n",
       "      <th>phonetic</th>\n",
       "      <th>content_example</th>\n",
       "      <th>source_and_online_sound</th>\n",
       "      <th>google_img</th>\n",
       "      <th>explanation</th>\n",
       "      <th>source</th>\n",
       "      <th>level</th>\n",
       "    </tr>\n",
       "  </thead>\n",
       "  <tbody>\n",
       "    <tr>\n",
       "      <th>0</th>\n",
       "      <td>a</td>\n",
       "      <td>(indefinite article)</td>\n",
       "      <td>/ə/ /eɪ/</td>\n",
       "      <td>&lt;div class=\"content-container\"&gt;&lt;ul class=\"cont...</td>\n",
       "      <td>&lt;source src=\"https://www.oxfordlearnersdiction...</td>\n",
       "      <td>&lt;a href=\"https://www.google.com/search?biw=128...</td>\n",
       "      <td>&lt;div class=\"content-container\"&gt;&lt;h2 class=\"h\"&gt;a...</td>\n",
       "      <td>This card's content is collected from the foll...</td>\n",
       "      <td>A</td>\n",
       "    </tr>\n",
       "    <tr>\n",
       "      <th>1</th>\n",
       "      <td>abandon</td>\n",
       "      <td>(verb)</td>\n",
       "      <td>/əˈbændən/ /əˈbændən/</td>\n",
       "      <td>&lt;div class=\"content-container\"&gt;&lt;ul class=\"cont...</td>\n",
       "      <td>&lt;source src=\"https://www.oxfordlearnersdiction...</td>\n",
       "      <td>&lt;a href=\"https://www.google.com/search?biw=128...</td>\n",
       "      <td>&lt;div class=\"content-container\"&gt;&lt;h2 class=\"h\"&gt;a...</td>\n",
       "      <td>This card's content is collected from the foll...</td>\n",
       "      <td>a</td>\n",
       "    </tr>\n",
       "  </tbody>\n",
       "</table>\n",
       "</div>"
      ],
      "text/plain": [
       "      word                  type               phonetic  \\\n",
       "0        a  (indefinite article)               /ə/ /eɪ/   \n",
       "1  abandon                (verb)  /əˈbændən/ /əˈbændən/   \n",
       "\n",
       "                                     content_example  \\\n",
       "0  <div class=\"content-container\"><ul class=\"cont...   \n",
       "1  <div class=\"content-container\"><ul class=\"cont...   \n",
       "\n",
       "                             source_and_online_sound  \\\n",
       "0  <source src=\"https://www.oxfordlearnersdiction...   \n",
       "1  <source src=\"https://www.oxfordlearnersdiction...   \n",
       "\n",
       "                                          google_img  \\\n",
       "0  <a href=\"https://www.google.com/search?biw=128...   \n",
       "1  <a href=\"https://www.google.com/search?biw=128...   \n",
       "\n",
       "                                         explanation  \\\n",
       "0  <div class=\"content-container\"><h2 class=\"h\">a...   \n",
       "1  <div class=\"content-container\"><h2 class=\"h\">a...   \n",
       "\n",
       "                                              source level  \n",
       "0  This card's content is collected from the foll...     A  \n",
       "1  This card's content is collected from the foll...     a  "
      ]
     },
     "execution_count": 19,
     "metadata": {},
     "output_type": "execute_result"
    }
   ],
   "source": [
    "import pandas as pd\n",
    "\n",
    "anki_df = pd.read_csv(\"[English] The Oxford 5000 Most Important Words.txt\", sep=\"\\t\", header=None)\n",
    "anki_df.columns = ['word', 'type', 'phonetic', 'content_example', 'source_and_online_sound', 'google_img', 'explanation', 'source', 'level']\n",
    "anki_df.head(2)"
   ]
  },
  {
   "cell_type": "code",
   "execution_count": 2,
   "id": "6a753db4",
   "metadata": {},
   "outputs": [
    {
     "data": {
      "text/html": [
       "<div>\n",
       "<style scoped>\n",
       "    .dataframe tbody tr th:only-of-type {\n",
       "        vertical-align: middle;\n",
       "    }\n",
       "\n",
       "    .dataframe tbody tr th {\n",
       "        vertical-align: top;\n",
       "    }\n",
       "\n",
       "    .dataframe thead th {\n",
       "        text-align: right;\n",
       "    }\n",
       "</style>\n",
       "<table border=\"1\" class=\"dataframe\">\n",
       "  <thead>\n",
       "    <tr style=\"text-align: right;\">\n",
       "      <th></th>\n",
       "      <th>all</th>\n",
       "    </tr>\n",
       "  </thead>\n",
       "  <tbody>\n",
       "    <tr>\n",
       "      <th>0</th>\n",
       "      <td>a indefinitearticleA1</td>\n",
       "    </tr>\n",
       "    <tr>\n",
       "      <th>1</th>\n",
       "      <td>abandon verbB2</td>\n",
       "    </tr>\n",
       "  </tbody>\n",
       "</table>\n",
       "</div>"
      ],
      "text/plain": [
       "                       all\n",
       "0  a indefinitearticleA1  \n",
       "1         abandon verbB2  "
      ]
     },
     "execution_count": 2,
     "metadata": {},
     "output_type": "execute_result"
    }
   ],
   "source": [
    "manual_df = pd.read_csv(\"check.txt\", sep=\"\\t\", header=None)\n",
    "manual_df.columns = ['all']\n",
    "manual_df.head(2)"
   ]
  },
  {
   "cell_type": "code",
   "execution_count": 3,
   "id": "47b86b9d",
   "metadata": {},
   "outputs": [
    {
     "data": {
      "text/html": [
       "<div>\n",
       "<style scoped>\n",
       "    .dataframe tbody tr th:only-of-type {\n",
       "        vertical-align: middle;\n",
       "    }\n",
       "\n",
       "    .dataframe tbody tr th {\n",
       "        vertical-align: top;\n",
       "    }\n",
       "\n",
       "    .dataframe thead th {\n",
       "        text-align: right;\n",
       "    }\n",
       "</style>\n",
       "<table border=\"1\" class=\"dataframe\">\n",
       "  <thead>\n",
       "    <tr style=\"text-align: right;\">\n",
       "      <th></th>\n",
       "      <th>all</th>\n",
       "      <th>word</th>\n",
       "    </tr>\n",
       "  </thead>\n",
       "  <tbody>\n",
       "    <tr>\n",
       "      <th>0</th>\n",
       "      <td>a indefinitearticleA1</td>\n",
       "      <td>a</td>\n",
       "    </tr>\n",
       "    <tr>\n",
       "      <th>1</th>\n",
       "      <td>abandon verbB2</td>\n",
       "      <td>abandon</td>\n",
       "    </tr>\n",
       "    <tr>\n",
       "      <th>2</th>\n",
       "      <td>ability nounA2</td>\n",
       "      <td>ability</td>\n",
       "    </tr>\n",
       "    <tr>\n",
       "      <th>3</th>\n",
       "      <td>able adjectiveA2</td>\n",
       "      <td>able</td>\n",
       "    </tr>\n",
       "    <tr>\n",
       "      <th>4</th>\n",
       "      <td>abolish verbC1</td>\n",
       "      <td>abolish</td>\n",
       "    </tr>\n",
       "  </tbody>\n",
       "</table>\n",
       "</div>"
      ],
      "text/plain": [
       "                       all     word\n",
       "0  a indefinitearticleA1          a\n",
       "1         abandon verbB2    abandon\n",
       "2         ability nounA2    ability\n",
       "3       able adjectiveA2       able\n",
       "4         abolish verbC1    abolish"
      ]
     },
     "execution_count": 3,
     "metadata": {},
     "output_type": "execute_result"
    }
   ],
   "source": [
    "manual_df['word'] = manual_df['all'].apply(lambda x: x.split(\" \")[0])\n",
    "manual_df.head()"
   ]
  },
  {
   "cell_type": "code",
   "execution_count": 4,
   "id": "0d8dfc22",
   "metadata": {},
   "outputs": [
    {
     "data": {
      "text/html": [
       "<div>\n",
       "<style scoped>\n",
       "    .dataframe tbody tr th:only-of-type {\n",
       "        vertical-align: middle;\n",
       "    }\n",
       "\n",
       "    .dataframe tbody tr th {\n",
       "        vertical-align: top;\n",
       "    }\n",
       "\n",
       "    .dataframe thead th {\n",
       "        text-align: right;\n",
       "    }\n",
       "</style>\n",
       "<table border=\"1\" class=\"dataframe\">\n",
       "  <thead>\n",
       "    <tr style=\"text-align: right;\">\n",
       "      <th></th>\n",
       "      <th>words</th>\n",
       "      <th>levels</th>\n",
       "      <th>def_urls</th>\n",
       "      <th>types</th>\n",
       "      <th>sound_urls</th>\n",
       "    </tr>\n",
       "  </thead>\n",
       "  <tbody>\n",
       "    <tr>\n",
       "      <th>0</th>\n",
       "      <td>a</td>\n",
       "      <td>a1</td>\n",
       "      <td>/definition/english/a_1</td>\n",
       "      <td>indefinite article</td>\n",
       "      <td>/media/english/us_pron/a/a__/a__us/a__us_2_rr.mp3</td>\n",
       "    </tr>\n",
       "    <tr>\n",
       "      <th>1</th>\n",
       "      <td>abandon</td>\n",
       "      <td>b2</td>\n",
       "      <td>/definition/english/abandon_1</td>\n",
       "      <td>verb</td>\n",
       "      <td>/media/english/us_pron/a/aba/aband/abandon__us...</td>\n",
       "    </tr>\n",
       "    <tr>\n",
       "      <th>2</th>\n",
       "      <td>ability</td>\n",
       "      <td>a2</td>\n",
       "      <td>/definition/english/ability_1</td>\n",
       "      <td>noun</td>\n",
       "      <td>/media/english/us_pron/a/abi/abili/ability__us...</td>\n",
       "    </tr>\n",
       "    <tr>\n",
       "      <th>3</th>\n",
       "      <td>able</td>\n",
       "      <td>a2</td>\n",
       "      <td>/definition/english/able_1</td>\n",
       "      <td>adjective</td>\n",
       "      <td>/media/english/us_pron/a/abl/able_/able__us_2.mp3</td>\n",
       "    </tr>\n",
       "    <tr>\n",
       "      <th>4</th>\n",
       "      <td>abolish</td>\n",
       "      <td>c1</td>\n",
       "      <td>/definition/english/abolish</td>\n",
       "      <td>verb</td>\n",
       "      <td>/media/english/us_pron/a/abo/aboli/abolish__us...</td>\n",
       "    </tr>\n",
       "  </tbody>\n",
       "</table>\n",
       "</div>"
      ],
      "text/plain": [
       "     words levels                       def_urls               types  \\\n",
       "0        a     a1        /definition/english/a_1  indefinite article   \n",
       "1  abandon     b2  /definition/english/abandon_1                verb   \n",
       "2  ability     a2  /definition/english/ability_1                noun   \n",
       "3     able     a2     /definition/english/able_1           adjective   \n",
       "4  abolish     c1    /definition/english/abolish                verb   \n",
       "\n",
       "                                          sound_urls  \n",
       "0  /media/english/us_pron/a/a__/a__us/a__us_2_rr.mp3  \n",
       "1  /media/english/us_pron/a/aba/aband/abandon__us...  \n",
       "2  /media/english/us_pron/a/abi/abili/ability__us...  \n",
       "3  /media/english/us_pron/a/abl/able_/able__us_2.mp3  \n",
       "4  /media/english/us_pron/a/abo/aboli/abolish__us...  "
      ]
     },
     "execution_count": 4,
     "metadata": {},
     "output_type": "execute_result"
    }
   ],
   "source": [
    "scraped_df = pd.read_csv(\"words_list.txt\")\n",
    "scraped_df.head(5)"
   ]
  },
  {
   "cell_type": "code",
   "execution_count": 5,
   "id": "be722e1e",
   "metadata": {},
   "outputs": [
    {
     "data": {
      "text/plain": [
       "(4914, 4949, 4958)"
      ]
     },
     "execution_count": 5,
     "metadata": {},
     "output_type": "execute_result"
    }
   ],
   "source": [
    "anki_words = set(anki_df['word'])\n",
    "manual_words = set(manual_df['word'])\n",
    "scraped_words = set(scraped_df[\"words\"])\n",
    "\n",
    "len(anki_words), len(manual_words), len(scraped_words)"
   ]
  },
  {
   "cell_type": "markdown",
   "id": "7620fda4",
   "metadata": {},
   "source": [
    "Words in Scraped but not in the other datasets"
   ]
  },
  {
   "cell_type": "code",
   "execution_count": 6,
   "id": "b292bf3d",
   "metadata": {},
   "outputs": [
    {
     "data": {
      "text/plain": [
       "44"
      ]
     },
     "execution_count": 6,
     "metadata": {},
     "output_type": "execute_result"
    }
   ],
   "source": [
    "len(scraped_words.difference(anki_words))"
   ]
  },
  {
   "cell_type": "code",
   "execution_count": 61,
   "id": "8835e465",
   "metadata": {},
   "outputs": [
    {
     "data": {
      "text/plain": [
       "{'ability',\n",
       " 'abolish',\n",
       " 'according to',\n",
       " 'accused',\n",
       " 'all right',\n",
       " 'any more',\n",
       " 'bass',\n",
       " 'bid',\n",
       " 'bow',\n",
       " 'can',\n",
       " 'close',\n",
       " 'content',\n",
       " 'contrary',\n",
       " 'entrance',\n",
       " 'grave',\n",
       " 'have to',\n",
       " 'ice cream',\n",
       " 'last',\n",
       " 'lead',\n",
       " 'leading',\n",
       " 'lie',\n",
       " 'live',\n",
       " 'lower',\n",
       " 'minute',\n",
       " 'next to',\n",
       " 'no one',\n",
       " \"o'clock\",\n",
       " 'ought',\n",
       " 'pension',\n",
       " 'per cent',\n",
       " 'plus',\n",
       " 'process',\n",
       " 'recount',\n",
       " 'refuse',\n",
       " 'retail',\n",
       " 'ring',\n",
       " 'row',\n",
       " 'sake',\n",
       " 'second',\n",
       " 'tear',\n",
       " 'used',\n",
       " 'used to',\n",
       " 'wind',\n",
       " 'wound'}"
      ]
     },
     "execution_count": 61,
     "metadata": {},
     "output_type": "execute_result"
    }
   ],
   "source": [
    "missing_words = scraped_words.difference(anki_words)\n",
    "missing_words"
   ]
  },
  {
   "cell_type": "code",
   "execution_count": 8,
   "id": "cafc056f",
   "metadata": {},
   "outputs": [
    {
     "data": {
      "text/plain": [
       "38"
      ]
     },
     "execution_count": 8,
     "metadata": {},
     "output_type": "execute_result"
    }
   ],
   "source": [
    "len(scraped_words.difference(manual_words))"
   ]
  },
  {
   "cell_type": "markdown",
   "id": "e1a6ca87",
   "metadata": {},
   "source": [
    "Words in the other datasets but not scraped"
   ]
  },
  {
   "cell_type": "code",
   "execution_count": 9,
   "id": "db0fd561",
   "metadata": {},
   "outputs": [
    {
     "data": {
      "text/plain": [
       "0"
      ]
     },
     "execution_count": 9,
     "metadata": {},
     "output_type": "execute_result"
    }
   ],
   "source": [
    "len(anki_words.difference(scraped_words))"
   ]
  },
  {
   "cell_type": "code",
   "execution_count": 10,
   "id": "9ee90556",
   "metadata": {},
   "outputs": [
    {
     "data": {
      "text/plain": [
       "29"
      ]
     },
     "execution_count": 10,
     "metadata": {},
     "output_type": "execute_result"
    }
   ],
   "source": [
    "len(manual_words.difference(scraped_words))"
   ]
  },
  {
   "cell_type": "code",
   "execution_count": 11,
   "id": "fc734617",
   "metadata": {},
   "outputs": [
    {
     "data": {
      "text/plain": [
       "{'AIDS',\n",
       " 'April',\n",
       " 'August',\n",
       " 'CD',\n",
       " 'DVD',\n",
       " 'December',\n",
       " 'February',\n",
       " 'Friday',\n",
       " 'I',\n",
       " 'ID',\n",
       " 'IT',\n",
       " 'January',\n",
       " 'July',\n",
       " 'June',\n",
       " 'March',\n",
       " 'May',\n",
       " 'Monday',\n",
       " 'November',\n",
       " 'OK',\n",
       " 'October',\n",
       " 'Saturday',\n",
       " 'September',\n",
       " 'Sunday',\n",
       " 'T-shirt',\n",
       " 'TV',\n",
       " 'Thursday',\n",
       " 'Tuesday',\n",
       " 'Wednesday',\n",
       " 'according'}"
      ]
     },
     "execution_count": 11,
     "metadata": {},
     "output_type": "execute_result"
    }
   ],
   "source": [
    "manual_words.difference(scraped_words)"
   ]
  },
  {
   "cell_type": "code",
   "execution_count": 12,
   "id": "eddf9d09",
   "metadata": {},
   "outputs": [
    {
     "data": {
      "text/html": [
       "<div>\n",
       "<style scoped>\n",
       "    .dataframe tbody tr th:only-of-type {\n",
       "        vertical-align: middle;\n",
       "    }\n",
       "\n",
       "    .dataframe tbody tr th {\n",
       "        vertical-align: top;\n",
       "    }\n",
       "\n",
       "    .dataframe thead th {\n",
       "        text-align: right;\n",
       "    }\n",
       "</style>\n",
       "<table border=\"1\" class=\"dataframe\">\n",
       "  <thead>\n",
       "    <tr style=\"text-align: right;\">\n",
       "      <th></th>\n",
       "      <th>word</th>\n",
       "      <th>type</th>\n",
       "      <th>phonetic</th>\n",
       "      <th>content_example</th>\n",
       "      <th>source_and_online_sound</th>\n",
       "      <th>google_img</th>\n",
       "      <th>explanation</th>\n",
       "      <th>source</th>\n",
       "      <th>level</th>\n",
       "    </tr>\n",
       "  </thead>\n",
       "  <tbody>\n",
       "    <tr>\n",
       "      <th>0</th>\n",
       "      <td>a</td>\n",
       "      <td>(indefinite article)</td>\n",
       "      <td>/ə/ /eɪ/</td>\n",
       "      <td>&lt;div class=\"content-container\"&gt;&lt;ul class=\"cont...</td>\n",
       "      <td>&lt;source src=\"https://www.oxfordlearnersdiction...</td>\n",
       "      <td>&lt;a href=\"https://www.google.com/search?biw=128...</td>\n",
       "      <td>&lt;div class=\"content-container\"&gt;&lt;h2 class=\"h\"&gt;a...</td>\n",
       "      <td>This card's content is collected from the foll...</td>\n",
       "      <td>A</td>\n",
       "    </tr>\n",
       "    <tr>\n",
       "      <th>1</th>\n",
       "      <td>abandon</td>\n",
       "      <td>(verb)</td>\n",
       "      <td>/əˈbændən/ /əˈbændən/</td>\n",
       "      <td>&lt;div class=\"content-container\"&gt;&lt;ul class=\"cont...</td>\n",
       "      <td>&lt;source src=\"https://www.oxfordlearnersdiction...</td>\n",
       "      <td>&lt;a href=\"https://www.google.com/search?biw=128...</td>\n",
       "      <td>&lt;div class=\"content-container\"&gt;&lt;h2 class=\"h\"&gt;a...</td>\n",
       "      <td>This card's content is collected from the foll...</td>\n",
       "      <td>a</td>\n",
       "    </tr>\n",
       "  </tbody>\n",
       "</table>\n",
       "</div>"
      ],
      "text/plain": [
       "      word                  type               phonetic  \\\n",
       "0        a  (indefinite article)               /ə/ /eɪ/   \n",
       "1  abandon                (verb)  /əˈbændən/ /əˈbændən/   \n",
       "\n",
       "                                     content_example  \\\n",
       "0  <div class=\"content-container\"><ul class=\"cont...   \n",
       "1  <div class=\"content-container\"><ul class=\"cont...   \n",
       "\n",
       "                             source_and_online_sound  \\\n",
       "0  <source src=\"https://www.oxfordlearnersdiction...   \n",
       "1  <source src=\"https://www.oxfordlearnersdiction...   \n",
       "\n",
       "                                          google_img  \\\n",
       "0  <a href=\"https://www.google.com/search?biw=128...   \n",
       "1  <a href=\"https://www.google.com/search?biw=128...   \n",
       "\n",
       "                                         explanation  \\\n",
       "0  <div class=\"content-container\"><h2 class=\"h\">a...   \n",
       "1  <div class=\"content-container\"><h2 class=\"h\">a...   \n",
       "\n",
       "                                              source level  \n",
       "0  This card's content is collected from the foll...     A  \n",
       "1  This card's content is collected from the foll...     a  "
      ]
     },
     "execution_count": 12,
     "metadata": {},
     "output_type": "execute_result"
    }
   ],
   "source": [
    "anki_df.head(2)"
   ]
  },
  {
   "cell_type": "code",
   "execution_count": 13,
   "id": "e47b56d0",
   "metadata": {},
   "outputs": [
    {
     "data": {
      "text/html": [
       "<div>\n",
       "<style scoped>\n",
       "    .dataframe tbody tr th:only-of-type {\n",
       "        vertical-align: middle;\n",
       "    }\n",
       "\n",
       "    .dataframe tbody tr th {\n",
       "        vertical-align: top;\n",
       "    }\n",
       "\n",
       "    .dataframe thead th {\n",
       "        text-align: right;\n",
       "    }\n",
       "</style>\n",
       "<table border=\"1\" class=\"dataframe\">\n",
       "  <thead>\n",
       "    <tr style=\"text-align: right;\">\n",
       "      <th></th>\n",
       "      <th>words</th>\n",
       "      <th>levels</th>\n",
       "      <th>def_urls</th>\n",
       "      <th>types</th>\n",
       "      <th>sound_urls</th>\n",
       "    </tr>\n",
       "  </thead>\n",
       "  <tbody>\n",
       "    <tr>\n",
       "      <th>0</th>\n",
       "      <td>a</td>\n",
       "      <td>a1</td>\n",
       "      <td>/definition/english/a_1</td>\n",
       "      <td>indefinite article</td>\n",
       "      <td>/media/english/us_pron/a/a__/a__us/a__us_2_rr.mp3</td>\n",
       "    </tr>\n",
       "    <tr>\n",
       "      <th>1</th>\n",
       "      <td>abandon</td>\n",
       "      <td>b2</td>\n",
       "      <td>/definition/english/abandon_1</td>\n",
       "      <td>verb</td>\n",
       "      <td>/media/english/us_pron/a/aba/aband/abandon__us...</td>\n",
       "    </tr>\n",
       "    <tr>\n",
       "      <th>2</th>\n",
       "      <td>ability</td>\n",
       "      <td>a2</td>\n",
       "      <td>/definition/english/ability_1</td>\n",
       "      <td>noun</td>\n",
       "      <td>/media/english/us_pron/a/abi/abili/ability__us...</td>\n",
       "    </tr>\n",
       "  </tbody>\n",
       "</table>\n",
       "</div>"
      ],
      "text/plain": [
       "     words levels                       def_urls               types  \\\n",
       "0        a     a1        /definition/english/a_1  indefinite article   \n",
       "1  abandon     b2  /definition/english/abandon_1                verb   \n",
       "2  ability     a2  /definition/english/ability_1                noun   \n",
       "\n",
       "                                          sound_urls  \n",
       "0  /media/english/us_pron/a/a__/a__us/a__us_2_rr.mp3  \n",
       "1  /media/english/us_pron/a/aba/aband/abandon__us...  \n",
       "2  /media/english/us_pron/a/abi/abili/ability__us...  "
      ]
     },
     "execution_count": 13,
     "metadata": {},
     "output_type": "execute_result"
    }
   ],
   "source": [
    "scraped_df.head(3)"
   ]
  },
  {
   "cell_type": "markdown",
   "id": "0fe9d4ca",
   "metadata": {},
   "source": [
    "to do   \n",
    "- restart kernel\n",
    "- filtrer les colonnes de anki_df\n",
    "- modifier scraped pour avoir les memes champs et le bon formatage\n",
    "- fusionner les deux et ajouter les 44 mots manquants avec le type et les bonnes colonnes\n",
    "\n",
    "reste à faire  \n",
    "- downloader les sons pour la liste issue de scraped\n",
    "\n",
    "df['sound_url'] = df['source_and_online_sound'].apply(lambda x: x.split(\" \")[-1])   \n",
    "with open(dir_path + \"/\" + \"url_list.txt\", \"w\") as outfile:  \n",
    "    outfile.write(\"\\n\".join(set(df['sound_url'])))  \n",
    "    \n",
    "#!wget -i text_file.txt\n"
   ]
  },
  {
   "cell_type": "code",
   "execution_count": 21,
   "id": "04edcc29",
   "metadata": {},
   "outputs": [],
   "source": [
    "anki_df['sound_url'] = anki_df['source_and_online_sound'].apply(lambda x: x.split(\" \")[-1])\n",
    "anki_df['sound_file'] = anki_df['sound_url'].apply(lambda x: x.split(\"/\")[-1])\n",
    "\n",
    "anki_df = anki_df[['word', 'type', 'phonetic', 'content_example', 'explanation', 'sound_file']]"
   ]
  },
  {
   "cell_type": "code",
   "execution_count": 22,
   "id": "97014aa0",
   "metadata": {},
   "outputs": [
    {
     "data": {
      "text/html": [
       "<div>\n",
       "<style scoped>\n",
       "    .dataframe tbody tr th:only-of-type {\n",
       "        vertical-align: middle;\n",
       "    }\n",
       "\n",
       "    .dataframe tbody tr th {\n",
       "        vertical-align: top;\n",
       "    }\n",
       "\n",
       "    .dataframe thead th {\n",
       "        text-align: right;\n",
       "    }\n",
       "</style>\n",
       "<table border=\"1\" class=\"dataframe\">\n",
       "  <thead>\n",
       "    <tr style=\"text-align: right;\">\n",
       "      <th></th>\n",
       "      <th>word</th>\n",
       "      <th>type</th>\n",
       "      <th>phonetic</th>\n",
       "      <th>content_example</th>\n",
       "      <th>explanation</th>\n",
       "      <th>sound_file</th>\n",
       "    </tr>\n",
       "  </thead>\n",
       "  <tbody>\n",
       "    <tr>\n",
       "      <th>0</th>\n",
       "      <td>a</td>\n",
       "      <td>(indefinite article)</td>\n",
       "      <td>/ə/ /eɪ/</td>\n",
       "      <td>&lt;div class=\"content-container\"&gt;&lt;ul class=\"cont...</td>\n",
       "      <td>&lt;div class=\"content-container\"&gt;&lt;h2 class=\"h\"&gt;a...</td>\n",
       "      <td>a__us_2_rr.mp3</td>\n",
       "    </tr>\n",
       "    <tr>\n",
       "      <th>1</th>\n",
       "      <td>abandon</td>\n",
       "      <td>(verb)</td>\n",
       "      <td>/əˈbændən/ /əˈbændən/</td>\n",
       "      <td>&lt;div class=\"content-container\"&gt;&lt;ul class=\"cont...</td>\n",
       "      <td>&lt;div class=\"content-container\"&gt;&lt;h2 class=\"h\"&gt;a...</td>\n",
       "      <td>abandon__us_2.mp3</td>\n",
       "    </tr>\n",
       "  </tbody>\n",
       "</table>\n",
       "</div>"
      ],
      "text/plain": [
       "      word                  type               phonetic  \\\n",
       "0        a  (indefinite article)               /ə/ /eɪ/   \n",
       "1  abandon                (verb)  /əˈbændən/ /əˈbændən/   \n",
       "\n",
       "                                     content_example  \\\n",
       "0  <div class=\"content-container\"><ul class=\"cont...   \n",
       "1  <div class=\"content-container\"><ul class=\"cont...   \n",
       "\n",
       "                                         explanation         sound_file  \n",
       "0  <div class=\"content-container\"><h2 class=\"h\">a...     a__us_2_rr.mp3  \n",
       "1  <div class=\"content-container\"><h2 class=\"h\">a...  abandon__us_2.mp3  "
      ]
     },
     "execution_count": 22,
     "metadata": {},
     "output_type": "execute_result"
    }
   ],
   "source": [
    "anki_df.head(2)"
   ]
  },
  {
   "cell_type": "code",
   "execution_count": 27,
   "id": "d869809c",
   "metadata": {},
   "outputs": [
    {
     "data": {
      "text/html": [
       "<div>\n",
       "<style scoped>\n",
       "    .dataframe tbody tr th:only-of-type {\n",
       "        vertical-align: middle;\n",
       "    }\n",
       "\n",
       "    .dataframe tbody tr th {\n",
       "        vertical-align: top;\n",
       "    }\n",
       "\n",
       "    .dataframe thead th {\n",
       "        text-align: right;\n",
       "    }\n",
       "</style>\n",
       "<table border=\"1\" class=\"dataframe\">\n",
       "  <thead>\n",
       "    <tr style=\"text-align: right;\">\n",
       "      <th></th>\n",
       "      <th>words</th>\n",
       "      <th>levels</th>\n",
       "      <th>def_urls</th>\n",
       "      <th>types</th>\n",
       "      <th>sound_urls</th>\n",
       "    </tr>\n",
       "  </thead>\n",
       "  <tbody>\n",
       "    <tr>\n",
       "      <th>0</th>\n",
       "      <td>a</td>\n",
       "      <td>a1</td>\n",
       "      <td>/definition/english/a_1</td>\n",
       "      <td>indefinite article</td>\n",
       "      <td>/media/english/us_pron/a/a__/a__us/a__us_2_rr.mp3</td>\n",
       "    </tr>\n",
       "    <tr>\n",
       "      <th>1</th>\n",
       "      <td>abandon</td>\n",
       "      <td>b2</td>\n",
       "      <td>/definition/english/abandon_1</td>\n",
       "      <td>verb</td>\n",
       "      <td>/media/english/us_pron/a/aba/aband/abandon__us...</td>\n",
       "    </tr>\n",
       "  </tbody>\n",
       "</table>\n",
       "</div>"
      ],
      "text/plain": [
       "     words levels                       def_urls               types  \\\n",
       "0        a     a1        /definition/english/a_1  indefinite article   \n",
       "1  abandon     b2  /definition/english/abandon_1                verb   \n",
       "\n",
       "                                          sound_urls  \n",
       "0  /media/english/us_pron/a/a__/a__us/a__us_2_rr.mp3  \n",
       "1  /media/english/us_pron/a/aba/aband/abandon__us...  "
      ]
     },
     "execution_count": 27,
     "metadata": {},
     "output_type": "execute_result"
    }
   ],
   "source": [
    "scraped_df.head(2)#['words', 'levels']"
   ]
  },
  {
   "cell_type": "code",
   "execution_count": 56,
   "id": "cb851f0b",
   "metadata": {},
   "outputs": [],
   "source": [
    "anki_df['levels'] = anki_df['word'].apply(lambda x: scraped_df[scraped_df['words'] == x]['levels'].values[0])"
   ]
  },
  {
   "cell_type": "code",
   "execution_count": 57,
   "id": "a2b1be40",
   "metadata": {},
   "outputs": [
    {
     "data": {
      "text/html": [
       "<div>\n",
       "<style scoped>\n",
       "    .dataframe tbody tr th:only-of-type {\n",
       "        vertical-align: middle;\n",
       "    }\n",
       "\n",
       "    .dataframe tbody tr th {\n",
       "        vertical-align: top;\n",
       "    }\n",
       "\n",
       "    .dataframe thead th {\n",
       "        text-align: right;\n",
       "    }\n",
       "</style>\n",
       "<table border=\"1\" class=\"dataframe\">\n",
       "  <thead>\n",
       "    <tr style=\"text-align: right;\">\n",
       "      <th></th>\n",
       "      <th>word</th>\n",
       "      <th>type</th>\n",
       "      <th>phonetic</th>\n",
       "      <th>content_example</th>\n",
       "      <th>explanation</th>\n",
       "      <th>sound_file</th>\n",
       "      <th>levels</th>\n",
       "    </tr>\n",
       "  </thead>\n",
       "  <tbody>\n",
       "    <tr>\n",
       "      <th>0</th>\n",
       "      <td>a</td>\n",
       "      <td>(indefinite article)</td>\n",
       "      <td>/ə/ /eɪ/</td>\n",
       "      <td>&lt;div class=\"content-container\"&gt;&lt;ul class=\"cont...</td>\n",
       "      <td>&lt;div class=\"content-container\"&gt;&lt;h2 class=\"h\"&gt;a...</td>\n",
       "      <td>a__us_2_rr.mp3</td>\n",
       "      <td>a1</td>\n",
       "    </tr>\n",
       "    <tr>\n",
       "      <th>1</th>\n",
       "      <td>abandon</td>\n",
       "      <td>(verb)</td>\n",
       "      <td>/əˈbændən/ /əˈbændən/</td>\n",
       "      <td>&lt;div class=\"content-container\"&gt;&lt;ul class=\"cont...</td>\n",
       "      <td>&lt;div class=\"content-container\"&gt;&lt;h2 class=\"h\"&gt;a...</td>\n",
       "      <td>abandon__us_2.mp3</td>\n",
       "      <td>b2</td>\n",
       "    </tr>\n",
       "  </tbody>\n",
       "</table>\n",
       "</div>"
      ],
      "text/plain": [
       "      word                  type               phonetic  \\\n",
       "0        a  (indefinite article)               /ə/ /eɪ/   \n",
       "1  abandon                (verb)  /əˈbændən/ /əˈbændən/   \n",
       "\n",
       "                                     content_example  \\\n",
       "0  <div class=\"content-container\"><ul class=\"cont...   \n",
       "1  <div class=\"content-container\"><ul class=\"cont...   \n",
       "\n",
       "                                         explanation         sound_file levels  \n",
       "0  <div class=\"content-container\"><h2 class=\"h\">a...     a__us_2_rr.mp3     a1  \n",
       "1  <div class=\"content-container\"><h2 class=\"h\">a...  abandon__us_2.mp3     b2  "
      ]
     },
     "execution_count": 57,
     "metadata": {},
     "output_type": "execute_result"
    }
   ],
   "source": [
    "anki_df.head(2)"
   ]
  },
  {
   "cell_type": "code",
   "execution_count": 60,
   "id": "2b2fa694",
   "metadata": {},
   "outputs": [
    {
     "data": {
      "text/html": [
       "<div>\n",
       "<style scoped>\n",
       "    .dataframe tbody tr th:only-of-type {\n",
       "        vertical-align: middle;\n",
       "    }\n",
       "\n",
       "    .dataframe tbody tr th {\n",
       "        vertical-align: top;\n",
       "    }\n",
       "\n",
       "    .dataframe thead th {\n",
       "        text-align: right;\n",
       "    }\n",
       "</style>\n",
       "<table border=\"1\" class=\"dataframe\">\n",
       "  <thead>\n",
       "    <tr style=\"text-align: right;\">\n",
       "      <th></th>\n",
       "      <th>word</th>\n",
       "      <th>type</th>\n",
       "      <th>phonetic</th>\n",
       "      <th>content_example</th>\n",
       "      <th>explanation</th>\n",
       "      <th>sound_file</th>\n",
       "      <th>levels</th>\n",
       "    </tr>\n",
       "  </thead>\n",
       "  <tbody>\n",
       "  </tbody>\n",
       "</table>\n",
       "</div>"
      ],
      "text/plain": [
       "Empty DataFrame\n",
       "Columns: [word, type, phonetic, content_example, explanation, sound_file, levels]\n",
       "Index: []"
      ]
     },
     "execution_count": 60,
     "metadata": {},
     "output_type": "execute_result"
    }
   ],
   "source": [
    "anki_df[anki_df['levels'].isna()]"
   ]
  },
  {
   "cell_type": "code",
   "execution_count": 63,
   "id": "541892e2",
   "metadata": {},
   "outputs": [
    {
     "data": {
      "text/plain": [
       "(5870, 7)"
      ]
     },
     "execution_count": 63,
     "metadata": {},
     "output_type": "execute_result"
    }
   ],
   "source": [
    "anki_df.shape"
   ]
  },
  {
   "cell_type": "code",
   "execution_count": 68,
   "id": "845ce82c",
   "metadata": {},
   "outputs": [
    {
     "data": {
      "text/html": [
       "<div>\n",
       "<style scoped>\n",
       "    .dataframe tbody tr th:only-of-type {\n",
       "        vertical-align: middle;\n",
       "    }\n",
       "\n",
       "    .dataframe tbody tr th {\n",
       "        vertical-align: top;\n",
       "    }\n",
       "\n",
       "    .dataframe thead th {\n",
       "        text-align: right;\n",
       "    }\n",
       "</style>\n",
       "<table border=\"1\" class=\"dataframe\">\n",
       "  <thead>\n",
       "    <tr style=\"text-align: right;\">\n",
       "      <th></th>\n",
       "      <th>word</th>\n",
       "      <th>type</th>\n",
       "      <th>phonetic</th>\n",
       "      <th>content_example</th>\n",
       "      <th>explanation</th>\n",
       "      <th>sound_file</th>\n",
       "      <th>levels</th>\n",
       "    </tr>\n",
       "  </thead>\n",
       "  <tbody>\n",
       "    <tr>\n",
       "      <th>6</th>\n",
       "      <td>above</td>\n",
       "      <td>(preposition)</td>\n",
       "      <td>/əˈbʌv/ /əˈbʌv/</td>\n",
       "      <td>&lt;div class=\"content-container\"&gt;&lt;ul class=\"cont...</td>\n",
       "      <td>&lt;div class=\"content-container\"&gt;&lt;h2 class=\"h\"&gt;a...</td>\n",
       "      <td>above__us_2.mp3</td>\n",
       "      <td>a1</td>\n",
       "    </tr>\n",
       "    <tr>\n",
       "      <th>17</th>\n",
       "      <td>abuse</td>\n",
       "      <td>(noun)</td>\n",
       "      <td>/əˈbjuːs/ /əˈbjuːs/</td>\n",
       "      <td>&lt;div class=\"content-container\"&gt;&lt;ul class=\"cont...</td>\n",
       "      <td>&lt;div class=\"content-container\"&gt;&lt;h2 class=\"h\"&gt;a...</td>\n",
       "      <td>abuse__us_3.mp3</td>\n",
       "      <td>c1</td>\n",
       "    </tr>\n",
       "  </tbody>\n",
       "</table>\n",
       "</div>"
      ],
      "text/plain": [
       "     word           type             phonetic  \\\n",
       "6   above  (preposition)      /əˈbʌv/ /əˈbʌv/   \n",
       "17  abuse         (noun)  /əˈbjuːs/ /əˈbjuːs/   \n",
       "\n",
       "                                      content_example  \\\n",
       "6   <div class=\"content-container\"><ul class=\"cont...   \n",
       "17  <div class=\"content-container\"><ul class=\"cont...   \n",
       "\n",
       "                                          explanation       sound_file levels  \n",
       "6   <div class=\"content-container\"><h2 class=\"h\">a...  above__us_2.mp3     a1  \n",
       "17  <div class=\"content-container\"><h2 class=\"h\">a...  abuse__us_3.mp3     c1  "
      ]
     },
     "execution_count": 68,
     "metadata": {},
     "output_type": "execute_result"
    }
   ],
   "source": [
    "anki_df[anki_df.duplicated()].head(2)"
   ]
  },
  {
   "cell_type": "code",
   "execution_count": 69,
   "id": "766e32a6",
   "metadata": {},
   "outputs": [
    {
     "data": {
      "text/plain": [
       "(956, 7)"
      ]
     },
     "execution_count": 69,
     "metadata": {},
     "output_type": "execute_result"
    }
   ],
   "source": [
    "anki_df[anki_df.duplicated()].shape"
   ]
  },
  {
   "cell_type": "code",
   "execution_count": 70,
   "id": "d40cf5fb",
   "metadata": {},
   "outputs": [
    {
     "data": {
      "text/plain": [
       "(4914, 7)"
      ]
     },
     "execution_count": 70,
     "metadata": {},
     "output_type": "execute_result"
    }
   ],
   "source": [
    "anki_df = anki_df.drop_duplicates()\n",
    "anki_df.shape"
   ]
  },
  {
   "cell_type": "code",
   "execution_count": 72,
   "id": "b4fc41c4",
   "metadata": {},
   "outputs": [
    {
     "data": {
      "text/plain": [
       "(0, 5)"
      ]
     },
     "execution_count": 72,
     "metadata": {},
     "output_type": "execute_result"
    }
   ],
   "source": [
    "scraped_df[scraped_df.duplicated()].shape"
   ]
  },
  {
   "cell_type": "code",
   "execution_count": 73,
   "id": "827cd130",
   "metadata": {},
   "outputs": [
    {
     "data": {
      "text/plain": [
       "(5948, 5)"
      ]
     },
     "execution_count": 73,
     "metadata": {},
     "output_type": "execute_result"
    }
   ],
   "source": [
    "scraped_df.shape"
   ]
  },
  {
   "cell_type": "code",
   "execution_count": 62,
   "id": "f011464f",
   "metadata": {},
   "outputs": [
    {
     "data": {
      "text/html": [
       "<div>\n",
       "<style scoped>\n",
       "    .dataframe tbody tr th:only-of-type {\n",
       "        vertical-align: middle;\n",
       "    }\n",
       "\n",
       "    .dataframe tbody tr th {\n",
       "        vertical-align: top;\n",
       "    }\n",
       "\n",
       "    .dataframe thead th {\n",
       "        text-align: right;\n",
       "    }\n",
       "</style>\n",
       "<table border=\"1\" class=\"dataframe\">\n",
       "  <thead>\n",
       "    <tr style=\"text-align: right;\">\n",
       "      <th></th>\n",
       "      <th>words</th>\n",
       "      <th>levels</th>\n",
       "      <th>def_urls</th>\n",
       "      <th>types</th>\n",
       "      <th>sound_urls</th>\n",
       "    </tr>\n",
       "  </thead>\n",
       "  <tbody>\n",
       "    <tr>\n",
       "      <th>0</th>\n",
       "      <td>a</td>\n",
       "      <td>a1</td>\n",
       "      <td>/definition/english/a_1</td>\n",
       "      <td>indefinite article</td>\n",
       "      <td>/media/english/us_pron/a/a__/a__us/a__us_2_rr.mp3</td>\n",
       "    </tr>\n",
       "    <tr>\n",
       "      <th>1</th>\n",
       "      <td>abandon</td>\n",
       "      <td>b2</td>\n",
       "      <td>/definition/english/abandon_1</td>\n",
       "      <td>verb</td>\n",
       "      <td>/media/english/us_pron/a/aba/aband/abandon__us...</td>\n",
       "    </tr>\n",
       "  </tbody>\n",
       "</table>\n",
       "</div>"
      ],
      "text/plain": [
       "     words levels                       def_urls               types  \\\n",
       "0        a     a1        /definition/english/a_1  indefinite article   \n",
       "1  abandon     b2  /definition/english/abandon_1                verb   \n",
       "\n",
       "                                          sound_urls  \n",
       "0  /media/english/us_pron/a/a__/a__us/a__us_2_rr.mp3  \n",
       "1  /media/english/us_pron/a/aba/aband/abandon__us...  "
      ]
     },
     "execution_count": 62,
     "metadata": {},
     "output_type": "execute_result"
    }
   ],
   "source": [
    "scraped_df.columns = ['word', 'level']\n",
    "scraped_df.head(2)"
   ]
  },
  {
   "cell_type": "code",
   "execution_count": 75,
   "id": "92a6b83b",
   "metadata": {},
   "outputs": [
    {
     "data": {
      "text/plain": [
       "4914"
      ]
     },
     "execution_count": 75,
     "metadata": {},
     "output_type": "execute_result"
    }
   ],
   "source": [
    "len(list(anki_df['word']))"
   ]
  },
  {
   "cell_type": "code",
   "execution_count": 76,
   "id": "7450aa56",
   "metadata": {},
   "outputs": [
    {
     "data": {
      "text/plain": [
       "4914"
      ]
     },
     "execution_count": 76,
     "metadata": {},
     "output_type": "execute_result"
    }
   ],
   "source": [
    "len(set(anki_df['word']))"
   ]
  },
  {
   "cell_type": "code",
   "execution_count": 78,
   "id": "4717f906",
   "metadata": {},
   "outputs": [
    {
     "data": {
      "text/plain": [
       "5948"
      ]
     },
     "execution_count": 78,
     "metadata": {},
     "output_type": "execute_result"
    }
   ],
   "source": [
    "len(list(scraped_df['words']))"
   ]
  },
  {
   "cell_type": "code",
   "execution_count": 79,
   "id": "fc67b49d",
   "metadata": {},
   "outputs": [
    {
     "data": {
      "text/plain": [
       "4958"
      ]
     },
     "execution_count": 79,
     "metadata": {},
     "output_type": "execute_result"
    }
   ],
   "source": [
    "len(set(scraped_df['words']))"
   ]
  },
  {
   "cell_type": "code",
   "execution_count": null,
   "id": "ae5655dc",
   "metadata": {},
   "outputs": [],
   "source": []
  }
 ],
 "metadata": {
  "kernelspec": {
   "display_name": "Python 3",
   "language": "python",
   "name": "python3"
  },
  "language_info": {
   "codemirror_mode": {
    "name": "ipython",
    "version": 3
   },
   "file_extension": ".py",
   "mimetype": "text/x-python",
   "name": "python",
   "nbconvert_exporter": "python",
   "pygments_lexer": "ipython3",
   "version": "3.8.8"
  }
 },
 "nbformat": 4,
 "nbformat_minor": 5
}
