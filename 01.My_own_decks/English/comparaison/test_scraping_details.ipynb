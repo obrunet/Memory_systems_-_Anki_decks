{
 "cells": [
  {
   "cell_type": "code",
   "execution_count": 1,
   "id": "0a624074",
   "metadata": {},
   "outputs": [
    {
     "name": "stdout",
     "output_type": "stream",
     "text": [
      "Request success!\n"
     ]
    }
   ],
   "source": [
    "import requests\n",
    "from bs4 import BeautifulSoup\n",
    "from requests.exceptions import HTTPError\n",
    "\n",
    "url = \"https://www.oxfordlearnersdictionaries.com/definition/english/thanks_1\"\n",
    "#word_list, translations = list(df['word']), []\n",
    "\n",
    "\n",
    "try:\n",
    "    headers = {'User-Agent': \"Mozilla/5.0 (Windows NT 10.0; Win64; x64; rv:53.0) Gecko/20100101 Firefox/53.0\"} # UserAgent().random}\n",
    "    req_response = requests.get(url, headers=headers)\n",
    "    req_response.raise_for_status()\n",
    "\n",
    "except HTTPError as http_err:\n",
    "    print(f'HTTP error occurred: {http_err}')\n",
    "    #result = \"Nan\"\n",
    "except Exception as err:\n",
    "    print(f'Other error occurred: {err}')\n",
    "    #result = \"Nan\"\n",
    "else:\n",
    "    print('Request success!')        \n",
    "    s = BeautifulSoup(req_response.content, 'html.parser')"
   ]
  },
  {
   "cell_type": "markdown",
   "id": "872b16d3",
   "metadata": {},
   "source": [
    "phonetic"
   ]
  },
  {
   "cell_type": "code",
   "execution_count": 3,
   "id": "e3928871",
   "metadata": {},
   "outputs": [
    {
     "data": {
      "text/plain": [
       "[<div class=\"phons_n_am\" geo=\"n_am\" hclass=\"phons_n_am\" htag=\"div\" wd=\"thanks\"><div class=\"sound audio_play_button pron-us icon-audio\" data-src-mp3=\"https://www.oxfordlearnersdictionaries.com/media/english/us_pron/t/tha/thank/thanks__us_1.mp3\" data-src-ogg=\"https://www.oxfordlearnersdictionaries.com/media/english/us_pron_ogg/t/tha/thank/thanks__us_1.ogg\" style=\"cursor: pointer\" title=\"thanks pronunciation\n",
       "                     American\" valign=\"top\"> </div><span class=\"phon\">/θæŋks/</span></div>]"
      ]
     },
     "execution_count": 3,
     "metadata": {},
     "output_type": "execute_result"
    }
   ],
   "source": [
    "# s.find_all(\"span\", class_=\"trans dtrans\", lang=\"fr\")\n",
    "s.find_all(\"div\", class_=\"phons_n_am\")\n"
   ]
  },
  {
   "cell_type": "code",
   "execution_count": 4,
   "id": "70dd1c2c",
   "metadata": {},
   "outputs": [
    {
     "data": {
      "text/plain": [
       "[<span class=\"phon\">/θæŋks/</span>]"
      ]
     },
     "execution_count": 4,
     "metadata": {},
     "output_type": "execute_result"
    }
   ],
   "source": [
    "s.find_all(\"div\", class_=\"phons_n_am\")[0].find_all(\"span\", class_=\"phon\")"
   ]
  },
  {
   "cell_type": "code",
   "execution_count": 8,
   "id": "ed9cabf8",
   "metadata": {},
   "outputs": [
    {
     "data": {
      "text/plain": [
       "'/θæŋks/'"
      ]
     },
     "execution_count": 8,
     "metadata": {},
     "output_type": "execute_result"
    }
   ],
   "source": [
    "s.find_all(\"div\", class_=\"phons_n_am\")[0].find_all(\"span\", class_=\"phon\")[0].contents[0]"
   ]
  },
  {
   "cell_type": "markdown",
   "id": "90fad5b9",
   "metadata": {},
   "source": [
    "Definition"
   ]
  },
  {
   "cell_type": "code",
   "execution_count": 13,
   "id": "73cd7dcd",
   "metadata": {},
   "outputs": [
    {
     "data": {
      "text/plain": [
       "[<span class=\"def\" hclass=\"def\" htag=\"span\">used to show that you are grateful to somebody for something they have done</span>,\n",
       " <span class=\"def\" hclass=\"def\" htag=\"span\">a polite way of accepting something that somebody has offered you</span>,\n",
       " <span class=\"def\" hclass=\"def\" htag=\"span\">a polite way of refusing something that somebody has offered you</span>]"
      ]
     },
     "execution_count": 13,
     "metadata": {},
     "output_type": "execute_result"
    }
   ],
   "source": [
    "s.find_all(\"span\", class_=\"def\")"
   ]
  },
  {
   "cell_type": "code",
   "execution_count": 12,
   "id": "45a191fc",
   "metadata": {},
   "outputs": [
    {
     "data": {
      "text/plain": [
       "'used to show that you are grateful to somebody for something they have done'"
      ]
     },
     "execution_count": 12,
     "metadata": {},
     "output_type": "execute_result"
    }
   ],
   "source": [
    "s.find_all(\"span\", class_=\"def\")[0].contents[0]"
   ]
  },
  {
   "cell_type": "code",
   "execution_count": 14,
   "id": "f96462fe",
   "metadata": {},
   "outputs": [
    {
     "data": {
      "text/plain": [
       "['used to show that you are grateful to somebody for something they have done',\n",
       " 'a polite way of accepting something that somebody has offered you',\n",
       " 'a polite way of refusing something that somebody has offered you']"
      ]
     },
     "execution_count": 14,
     "metadata": {},
     "output_type": "execute_result"
    }
   ],
   "source": [
    "[i.contents[0] for i in s.find_all(\"span\", class_=\"def\")]"
   ]
  },
  {
   "cell_type": "markdown",
   "id": "3380d5bf",
   "metadata": {},
   "source": [
    "Examples"
   ]
  },
  {
   "cell_type": "code",
   "execution_count": 15,
   "id": "68cf18ae",
   "metadata": {},
   "outputs": [
    {
     "data": {
      "text/plain": [
       "[<ul class=\"examples\" hclass=\"examples\" htag=\"ul\"><li class=\"\" htag=\"li\"><span class=\"x\">‘How are you?’ ‘Fine, thanks <span class=\"gloss\" hclass=\"gloss\" htag=\"span\">(= thanks for asking)</span>.’</span></li><li class=\"\" htag=\"li\"> <span class=\"cf\" hclass=\"cf\" htag=\"span\">thanks for doing something</span> <span class=\"x\">Thanks for lending me the money.</span></li><li class=\"\" htag=\"li\"> <span class=\"cf\" hclass=\"cf\" htag=\"span\">thanks for something</span> <span class=\"x\"><span class=\"cl\">Many thanks</span> for your support.</span></li></ul>,\n",
       " <ul class=\"examples\" hclass=\"examples\" htag=\"ul\"><li class=\"\" htag=\"li\"><span class=\"x\">‘Would you like a coffee?’ ‘Oh, thanks.’</span></li><li class=\"\" htag=\"li\"><span class=\"x\">‘Here's the change.’ ‘<span class=\"cl\">Thanks very much</span>.’</span></li><li class=\"\" htag=\"li\"><span class=\"x\">‘Do you want to come with us?’ ‘I’d love to, thanks.’</span></li></ul>,\n",
       " <ul class=\"examples\" hclass=\"examples\" htag=\"ul\"><li class=\"\" htag=\"li\"><span class=\"x\">‘Would you like some more?’ ‘No thanks.’</span></li></ul>]"
      ]
     },
     "execution_count": 15,
     "metadata": {},
     "output_type": "execute_result"
    }
   ],
   "source": [
    "s.find_all(\"ul\", class_=\"examples\")"
   ]
  },
  {
   "cell_type": "code",
   "execution_count": 17,
   "id": "bc1f7c98",
   "metadata": {},
   "outputs": [
    {
     "data": {
      "text/plain": [
       "3"
      ]
     },
     "execution_count": 17,
     "metadata": {},
     "output_type": "execute_result"
    }
   ],
   "source": [
    "len(s.find_all(\"ul\", class_=\"examples\"))"
   ]
  },
  {
   "cell_type": "code",
   "execution_count": 23,
   "id": "fc0d2b23",
   "metadata": {},
   "outputs": [
    {
     "data": {
      "text/plain": [
       "[<li class=\"\" htag=\"li\"><span class=\"x\">‘How are you?’ ‘Fine, thanks <span class=\"gloss\" hclass=\"gloss\" htag=\"span\">(= thanks for asking)</span>.’</span></li>,\n",
       " <li class=\"\" htag=\"li\"> <span class=\"cf\" hclass=\"cf\" htag=\"span\">thanks for doing something</span> <span class=\"x\">Thanks for lending me the money.</span></li>,\n",
       " <li class=\"\" htag=\"li\"> <span class=\"cf\" hclass=\"cf\" htag=\"span\">thanks for something</span> <span class=\"x\"><span class=\"cl\">Many thanks</span> for your support.</span></li>]"
      ]
     },
     "execution_count": 23,
     "metadata": {},
     "output_type": "execute_result"
    }
   ],
   "source": [
    "s.find_all(\"ul\", class_=\"examples\")[0].contents"
   ]
  },
  {
   "cell_type": "code",
   "execution_count": 36,
   "id": "16212239",
   "metadata": {},
   "outputs": [
    {
     "data": {
      "text/plain": [
       "3"
      ]
     },
     "execution_count": 36,
     "metadata": {},
     "output_type": "execute_result"
    }
   ],
   "source": [
    "len(s.find_all(\"ul\", class_=\"examples\")[0].contents)"
   ]
  },
  {
   "cell_type": "code",
   "execution_count": 24,
   "id": "b12a60bd",
   "metadata": {},
   "outputs": [
    {
     "data": {
      "text/plain": [
       "<li class=\"\" htag=\"li\"><span class=\"x\">‘How are you?’ ‘Fine, thanks <span class=\"gloss\" hclass=\"gloss\" htag=\"span\">(= thanks for asking)</span>.’</span></li>"
      ]
     },
     "execution_count": 24,
     "metadata": {},
     "output_type": "execute_result"
    }
   ],
   "source": [
    "s.find_all(\"ul\", class_=\"examples\")[0].contents[0]"
   ]
  },
  {
   "cell_type": "code",
   "execution_count": 31,
   "id": "5535316f",
   "metadata": {},
   "outputs": [
    {
     "data": {
      "text/plain": [
       "'‘How are you?’ ‘Fine, thanks (= thanks for asking).’'"
      ]
     },
     "execution_count": 31,
     "metadata": {},
     "output_type": "execute_result"
    }
   ],
   "source": [
    "#s.find_all(\"ul\", class_=\"examples\")[0].contents[0].contents\n",
    "#s.find_all(\"ul\", class_=\"examples\")[0].contents[0].contents[0].contents\n",
    "#s.find_all(\"ul\", class_=\"examples\")[0].contents[0].contents[0].contents[0]\n",
    "#s.find_all(\"ul\", class_=\"examples\")[0].contents[0].contents[-1]\n",
    "\n",
    "s.find_all(\"ul\", class_=\"examples\")[0].contents[0].contents[0].text"
   ]
  },
  {
   "cell_type": "code",
   "execution_count": 48,
   "id": "f0cbdc05",
   "metadata": {},
   "outputs": [
    {
     "data": {
      "text/plain": [
       "['‘How are you?’ ‘Fine, thanks (= thanks for asking).’',\n",
       " 'thanks for doing something',\n",
       " 'thanks for something']"
      ]
     },
     "execution_count": 48,
     "metadata": {},
     "output_type": "execute_result"
    }
   ],
   "source": [
    "[i.find_all(\"span\")[0].text for i in s.find_all(\"ul\", class_=\"examples\")[0].contents]"
   ]
  },
  {
   "cell_type": "code",
   "execution_count": 51,
   "id": "c37e1960",
   "metadata": {},
   "outputs": [
    {
     "data": {
      "text/plain": [
       "['(= thanks for asking)',\n",
       " 'Thanks for lending me the money.',\n",
       " 'Many thanks for your support.']"
      ]
     },
     "execution_count": 51,
     "metadata": {},
     "output_type": "execute_result"
    }
   ],
   "source": [
    "[i.find_all(\"span\")[1].text for i in s.find_all(\"ul\", class_=\"examples\")[0].contents]"
   ]
  },
  {
   "cell_type": "code",
   "execution_count": 55,
   "id": "4e5334b0",
   "metadata": {},
   "outputs": [
    {
     "data": {
      "text/plain": [
       "['‘How are you?’ ‘Fine, thanks (= thanks for asking).’ - (= thanks for asking)',\n",
       " 'thanks for doing something - Thanks for lending me the money.',\n",
       " 'thanks for something - Many thanks for your support. - Many thanks']"
      ]
     },
     "execution_count": 55,
     "metadata": {},
     "output_type": "execute_result"
    }
   ],
   "source": [
    "[ \" - \".join([j.text for j in i.find_all(\"span\")])   for i in s.find_all(\"ul\", class_=\"examples\")[0].contents]"
   ]
  },
  {
   "cell_type": "code",
   "execution_count": null,
   "id": "921cdb98",
   "metadata": {},
   "outputs": [],
   "source": []
  }
 ],
 "metadata": {
  "kernelspec": {
   "display_name": "Python 3",
   "language": "python",
   "name": "python3"
  },
  "language_info": {
   "codemirror_mode": {
    "name": "ipython",
    "version": 3
   },
   "file_extension": ".py",
   "mimetype": "text/x-python",
   "name": "python",
   "nbconvert_exporter": "python",
   "pygments_lexer": "ipython3",
   "version": "3.8.8"
  }
 },
 "nbformat": 4,
 "nbformat_minor": 5
}
