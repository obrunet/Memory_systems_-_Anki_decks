{
 "cells": [
  {
   "cell_type": "code",
   "execution_count": 1,
   "metadata": {},
   "outputs": [
    {
     "name": "stdout",
     "output_type": "stream",
     "text": [
      "Request success!\n"
     ]
    }
   ],
   "source": [
    "import requests\n",
    "from bs4 import BeautifulSoup\n",
    "from requests.exceptions import HTTPError\n",
    "\n",
    "url = \"https://www.oxfordlearnersdictionaries.com/definition/english/thanks_1\"\n",
    "#word_list, translations = list(df['word']), []\n",
    "\n",
    "\n",
    "try:\n",
    "    headers = {'User-Agent': \"Mozilla/5.0 (Windows NT 10.0; Win64; x64; rv:53.0) Gecko/20100101 Firefox/53.0\"} # UserAgent().random}\n",
    "    req_response = requests.get(url, headers=headers)\n",
    "    req_response.raise_for_status()\n",
    "\n",
    "except HTTPError as http_err:\n",
    "    print(f'HTTP error occurred: {http_err}')\n",
    "    #result = \"Nan\"\n",
    "except Exception as err:\n",
    "    print(f'Other error occurred: {err}')\n",
    "    #result = \"Nan\"\n",
    "else:\n",
    "    print('Request success!')        \n",
    "    s = BeautifulSoup(req_response.content, 'html.parser')"
   ]
  },
  {
   "cell_type": "markdown",
   "metadata": {},
   "source": [
    "phonetic"
   ]
  },
  {
   "cell_type": "code",
   "execution_count": 2,
   "metadata": {},
   "outputs": [
    {
     "data": {
      "text/plain": [
       "[<div class=\"phons_n_am\" geo=\"n_am\" hclass=\"phons_n_am\" htag=\"div\" wd=\"thanks\"><div class=\"sound audio_play_button pron-us icon-audio\" data-src-mp3=\"https://www.oxfordlearnersdictionaries.com/media/english/us_pron/t/tha/thank/thanks__us_1.mp3\" data-src-ogg=\"https://www.oxfordlearnersdictionaries.com/media/english/us_pron_ogg/t/tha/thank/thanks__us_1.ogg\" style=\"cursor: pointer\" title=\"thanks pronunciation\n",
       "                     American\" valign=\"top\"> </div><span class=\"phon\">/θæŋks/</span></div>]"
      ]
     },
     "execution_count": 2,
     "metadata": {},
     "output_type": "execute_result"
    }
   ],
   "source": [
    "# s.find_all(\"span\", class_=\"trans dtrans\", lang=\"fr\")\n",
    "s.find_all(\"div\", class_=\"phons_n_am\")\n"
   ]
  },
  {
   "cell_type": "code",
   "execution_count": 3,
   "metadata": {},
   "outputs": [
    {
     "data": {
      "text/plain": [
       "[<span class=\"phon\">/θæŋks/</span>]"
      ]
     },
     "execution_count": 3,
     "metadata": {},
     "output_type": "execute_result"
    }
   ],
   "source": [
    "s.find_all(\"div\", class_=\"phons_n_am\")[0].find_all(\"span\", class_=\"phon\")"
   ]
  },
  {
   "cell_type": "code",
   "execution_count": 4,
   "metadata": {},
   "outputs": [
    {
     "data": {
      "text/plain": [
       "'/θæŋks/'"
      ]
     },
     "execution_count": 4,
     "metadata": {},
     "output_type": "execute_result"
    }
   ],
   "source": [
    "s.find_all(\"div\", class_=\"phons_n_am\")[0].find_all(\"span\", class_=\"phon\")[0].contents[0]"
   ]
  },
  {
   "cell_type": "markdown",
   "metadata": {},
   "source": [
    "Definition"
   ]
  },
  {
   "cell_type": "code",
   "execution_count": 5,
   "metadata": {},
   "outputs": [
    {
     "data": {
      "text/plain": [
       "[<span class=\"def\" hclass=\"def\" htag=\"span\">used to show that you are grateful to somebody for something they have done</span>,\n",
       " <span class=\"def\" hclass=\"def\" htag=\"span\">a polite way of accepting something that somebody has offered you</span>,\n",
       " <span class=\"def\" hclass=\"def\" htag=\"span\">a polite way of refusing something that somebody has offered you</span>]"
      ]
     },
     "execution_count": 5,
     "metadata": {},
     "output_type": "execute_result"
    }
   ],
   "source": [
    "s.find_all(\"span\", class_=\"def\")"
   ]
  },
  {
   "cell_type": "code",
   "execution_count": 6,
   "metadata": {},
   "outputs": [
    {
     "data": {
      "text/plain": [
       "'used to show that you are grateful to somebody for something they have done'"
      ]
     },
     "execution_count": 6,
     "metadata": {},
     "output_type": "execute_result"
    }
   ],
   "source": [
    "s.find_all(\"span\", class_=\"def\")[0].contents[0]"
   ]
  },
  {
   "cell_type": "code",
   "execution_count": 7,
   "metadata": {},
   "outputs": [
    {
     "data": {
      "text/plain": [
       "['used to show that you are grateful to somebody for something they have done',\n",
       " 'a polite way of accepting something that somebody has offered you',\n",
       " 'a polite way of refusing something that somebody has offered you']"
      ]
     },
     "execution_count": 7,
     "metadata": {},
     "output_type": "execute_result"
    }
   ],
   "source": [
    "[i.contents[0] for i in s.find_all(\"span\", class_=\"def\")]"
   ]
  },
  {
   "cell_type": "markdown",
   "metadata": {},
   "source": [
    "Examples"
   ]
  },
  {
   "cell_type": "code",
   "execution_count": 8,
   "metadata": {},
   "outputs": [
    {
     "data": {
      "text/plain": [
       "[<ul class=\"examples\" hclass=\"examples\" htag=\"ul\"><li class=\"\" htag=\"li\"><span class=\"x\">‘How are you?’ ‘Fine, thanks <span class=\"gloss\" hclass=\"gloss\" htag=\"span\">(= thanks for asking)</span>.’</span></li><li class=\"\" htag=\"li\"> <span class=\"cf\" hclass=\"cf\" htag=\"span\">thanks for doing something</span> <span class=\"x\">Thanks for lending me the money.</span></li><li class=\"\" htag=\"li\"> <span class=\"cf\" hclass=\"cf\" htag=\"span\">thanks for something</span> <span class=\"x\"><span class=\"cl\">Many thanks</span> for your support.</span></li></ul>,\n",
       " <ul class=\"examples\" hclass=\"examples\" htag=\"ul\"><li class=\"\" htag=\"li\"><span class=\"x\">‘Would you like a coffee?’ ‘Oh, thanks.’</span></li><li class=\"\" htag=\"li\"><span class=\"x\">‘Here's the change.’ ‘<span class=\"cl\">Thanks very much</span>.’</span></li><li class=\"\" htag=\"li\"><span class=\"x\">‘Do you want to come with us?’ ‘I’d love to, thanks.’</span></li></ul>,\n",
       " <ul class=\"examples\" hclass=\"examples\" htag=\"ul\"><li class=\"\" htag=\"li\"><span class=\"x\">‘Would you like some more?’ ‘No thanks.’</span></li></ul>]"
      ]
     },
     "execution_count": 8,
     "metadata": {},
     "output_type": "execute_result"
    }
   ],
   "source": [
    "s.find_all(\"ul\", class_=\"examples\")"
   ]
  },
  {
   "cell_type": "code",
   "execution_count": 9,
   "metadata": {},
   "outputs": [
    {
     "data": {
      "text/plain": [
       "3"
      ]
     },
     "execution_count": 9,
     "metadata": {},
     "output_type": "execute_result"
    }
   ],
   "source": [
    "len(s.find_all(\"ul\", class_=\"examples\"))"
   ]
  },
  {
   "cell_type": "code",
   "execution_count": 10,
   "metadata": {},
   "outputs": [
    {
     "data": {
      "text/plain": [
       "[<li class=\"\" htag=\"li\"><span class=\"x\">‘How are you?’ ‘Fine, thanks <span class=\"gloss\" hclass=\"gloss\" htag=\"span\">(= thanks for asking)</span>.’</span></li>,\n",
       " <li class=\"\" htag=\"li\"> <span class=\"cf\" hclass=\"cf\" htag=\"span\">thanks for doing something</span> <span class=\"x\">Thanks for lending me the money.</span></li>,\n",
       " <li class=\"\" htag=\"li\"> <span class=\"cf\" hclass=\"cf\" htag=\"span\">thanks for something</span> <span class=\"x\"><span class=\"cl\">Many thanks</span> for your support.</span></li>]"
      ]
     },
     "execution_count": 10,
     "metadata": {},
     "output_type": "execute_result"
    }
   ],
   "source": [
    "s.find_all(\"ul\", class_=\"examples\")[0].contents"
   ]
  },
  {
   "cell_type": "code",
   "execution_count": 11,
   "metadata": {},
   "outputs": [
    {
     "data": {
      "text/plain": [
       "3"
      ]
     },
     "execution_count": 11,
     "metadata": {},
     "output_type": "execute_result"
    }
   ],
   "source": [
    "len(s.find_all(\"ul\", class_=\"examples\")[0].contents)"
   ]
  },
  {
   "cell_type": "code",
   "execution_count": 12,
   "metadata": {},
   "outputs": [
    {
     "data": {
      "text/plain": [
       "<li class=\"\" htag=\"li\"><span class=\"x\">‘How are you?’ ‘Fine, thanks <span class=\"gloss\" hclass=\"gloss\" htag=\"span\">(= thanks for asking)</span>.’</span></li>"
      ]
     },
     "execution_count": 12,
     "metadata": {},
     "output_type": "execute_result"
    }
   ],
   "source": [
    "s.find_all(\"ul\", class_=\"examples\")[0].contents[0]"
   ]
  },
  {
   "cell_type": "code",
   "execution_count": 13,
   "metadata": {},
   "outputs": [
    {
     "data": {
      "text/plain": [
       "'‘How are you?’ ‘Fine, thanks (= thanks for asking).’'"
      ]
     },
     "execution_count": 13,
     "metadata": {},
     "output_type": "execute_result"
    }
   ],
   "source": [
    "#s.find_all(\"ul\", class_=\"examples\")[0].contents[0].contents\n",
    "#s.find_all(\"ul\", class_=\"examples\")[0].contents[0].contents[0].contents\n",
    "#s.find_all(\"ul\", class_=\"examples\")[0].contents[0].contents[0].contents[0]\n",
    "#s.find_all(\"ul\", class_=\"examples\")[0].contents[0].contents[-1]\n",
    "\n",
    "s.find_all(\"ul\", class_=\"examples\")[0].contents[0].contents[0].text"
   ]
  },
  {
   "cell_type": "code",
   "execution_count": 14,
   "metadata": {},
   "outputs": [
    {
     "data": {
      "text/plain": [
       "['‘How are you?’ ‘Fine, thanks (= thanks for asking).’',\n",
       " 'thanks for doing something',\n",
       " 'thanks for something']"
      ]
     },
     "execution_count": 14,
     "metadata": {},
     "output_type": "execute_result"
    }
   ],
   "source": [
    "[i.find_all(\"span\")[0].text for i in s.find_all(\"ul\", class_=\"examples\")[0].contents]"
   ]
  },
  {
   "cell_type": "code",
   "execution_count": 15,
   "metadata": {},
   "outputs": [
    {
     "data": {
      "text/plain": [
       "['(= thanks for asking)',\n",
       " 'Thanks for lending me the money.',\n",
       " 'Many thanks for your support.']"
      ]
     },
     "execution_count": 15,
     "metadata": {},
     "output_type": "execute_result"
    }
   ],
   "source": [
    "[i.find_all(\"span\")[1].text for i in s.find_all(\"ul\", class_=\"examples\")[0].contents]"
   ]
  },
  {
   "cell_type": "code",
   "execution_count": 16,
   "metadata": {},
   "outputs": [
    {
     "data": {
      "text/plain": [
       "['‘How are you?’ ‘Fine, thanks (= thanks for asking).’ - (= thanks for asking)',\n",
       " 'thanks for doing something - Thanks for lending me the money.',\n",
       " 'thanks for something - Many thanks for your support. - Many thanks']"
      ]
     },
     "execution_count": 16,
     "metadata": {},
     "output_type": "execute_result"
    }
   ],
   "source": [
    "[ \" - \".join([j.text for j in i.find_all(\"span\")])   for i in s.find_all(\"ul\", class_=\"examples\")[0].contents]"
   ]
  },
  {
   "cell_type": "markdown",
   "metadata": {},
   "source": [
    "\n",
    "# Other test\n",
    "\n",
    "---"
   ]
  },
  {
   "cell_type": "code",
   "execution_count": 17,
   "metadata": {},
   "outputs": [
    {
     "name": "stdout",
     "output_type": "stream",
     "text": [
      "Request success!\n"
     ]
    }
   ],
   "source": [
    "url = \"https://www.oxfordlearnersdictionaries.com/definition/english/absolute_1\"\n",
    "#word_list, translations = list(df['word']), []\n",
    "\n",
    "\n",
    "try:\n",
    "    headers = {'User-Agent': \"Mozilla/5.0 (Windows NT 10.0; Win64; x64; rv:53.0) Gecko/20100101 Firefox/53.0\"} # UserAgent().random}\n",
    "    req_response = requests.get(url, headers=headers)\n",
    "    req_response.raise_for_status()\n",
    "\n",
    "except HTTPError as http_err:\n",
    "    print(f'HTTP error occurred: {http_err}')\n",
    "    #result = \"Nan\"\n",
    "except Exception as err:\n",
    "    print(f'Other error occurred: {err}')\n",
    "    #result = \"Nan\"\n",
    "else:\n",
    "    print('Request success!')        \n",
    "    s = BeautifulSoup(req_response.content, 'html.parser')"
   ]
  },
  {
   "cell_type": "markdown",
   "metadata": {},
   "source": [
    "phonetic"
   ]
  },
  {
   "cell_type": "code",
   "execution_count": 18,
   "metadata": {},
   "outputs": [
    {
     "data": {
      "text/plain": [
       "'/ˈæbsəluːt/'"
      ]
     },
     "execution_count": 18,
     "metadata": {},
     "output_type": "execute_result"
    }
   ],
   "source": [
    "s.find_all(\"div\", class_=\"phons_n_am\")[0].find_all(\"span\", class_=\"phon\")[0].contents[0]"
   ]
  },
  {
   "cell_type": "markdown",
   "metadata": {},
   "source": [
    "Definition"
   ]
  },
  {
   "cell_type": "code",
   "execution_count": 63,
   "metadata": {},
   "outputs": [],
   "source": [
    "# empty\n",
    "# not s.find_all(\"ol\", class_=\"sense_single\")\n",
    "# senses = s.find_all(\"ol\", class_=\"senses_multiple\")[0]"
   ]
  },
  {
   "cell_type": "markdown",
   "metadata": {},
   "source": [
    "all senses"
   ]
  },
  {
   "cell_type": "code",
   "execution_count": 49,
   "metadata": {},
   "outputs": [
    {
     "data": {
      "text/plain": [
       "6"
      ]
     },
     "execution_count": 49,
     "metadata": {},
     "output_type": "execute_result"
    }
   ],
   "source": [
    "senses = s.find_all(\"li\", class_=\"sense\")\n",
    "len(senses)"
   ]
  },
  {
   "cell_type": "markdown",
   "metadata": {},
   "source": [
    "definition for one sense"
   ]
  },
  {
   "cell_type": "code",
   "execution_count": 56,
   "metadata": {},
   "outputs": [
    {
     "data": {
      "text/plain": [
       "['total and complete']"
      ]
     },
     "execution_count": 56,
     "metadata": {},
     "output_type": "execute_result"
    }
   ],
   "source": [
    "senses[0].find_all(class_=\"def\")[0].contents"
   ]
  },
  {
   "cell_type": "code",
   "execution_count": 59,
   "metadata": {},
   "outputs": [
    {
     "data": {
      "text/plain": [
       "<ul class=\"examples\" hclass=\"examples\" htag=\"ul\"><li class=\"\" htag=\"li\"><span class=\"x\">I've joined a class for absolute beginners.</span></li><li class=\"\" htag=\"li\"><span class=\"x\">absolute confidence/trust/silence/truth</span></li><li class=\"\" htag=\"li\"><span class=\"x\">‘You're wrong,’ she said with <span class=\"cl\">absolute certainty</span>.</span></li><li class=\"\" htag=\"li\"><span class=\"x\">Clean water is an <span class=\"cl\">absolute necessity</span>.</span></li><li class=\"\" htag=\"li\"><span class=\"x\">Around them the darkness was absolute, the silence oppressive.</span></li></ul>"
      ]
     },
     "execution_count": 59,
     "metadata": {},
     "output_type": "execute_result"
    }
   ],
   "source": [
    "# select 1st occurence to avoid extra examples\n",
    "senses[0].find_all(\"ul\", class_=\"examples\")[0]"
   ]
  },
  {
   "cell_type": "code",
   "execution_count": 60,
   "metadata": {},
   "outputs": [
    {
     "data": {
      "text/plain": [
       "5"
      ]
     },
     "execution_count": 60,
     "metadata": {},
     "output_type": "execute_result"
    }
   ],
   "source": [
    "len(senses[0].find_all(\"ul\", class_=\"examples\")[0])    "
   ]
  },
  {
   "cell_type": "code",
   "execution_count": 61,
   "metadata": {},
   "outputs": [
    {
     "data": {
      "text/plain": [
       "[<li class=\"\" htag=\"li\"><span class=\"x\">I've joined a class for absolute beginners.</span></li>,\n",
       " <li class=\"\" htag=\"li\"><span class=\"x\">absolute confidence/trust/silence/truth</span></li>,\n",
       " <li class=\"\" htag=\"li\"><span class=\"x\">‘You're wrong,’ she said with <span class=\"cl\">absolute certainty</span>.</span></li>,\n",
       " <li class=\"\" htag=\"li\"><span class=\"x\">Clean water is an <span class=\"cl\">absolute necessity</span>.</span></li>,\n",
       " <li class=\"\" htag=\"li\"><span class=\"x\">Around them the darkness was absolute, the silence oppressive.</span></li>]"
      ]
     },
     "execution_count": 61,
     "metadata": {},
     "output_type": "execute_result"
    }
   ],
   "source": [
    "senses[0].find_all(\"ul\", class_=\"examples\")[0].contents"
   ]
  },
  {
   "cell_type": "markdown",
   "metadata": {},
   "source": [
    "All examples for one definition"
   ]
  },
  {
   "cell_type": "code",
   "execution_count": 70,
   "metadata": {},
   "outputs": [
    {
     "data": {
      "text/plain": [
       "[<li class=\"\" htag=\"li\"><span class=\"x\">I've joined a class for absolute beginners.</span></li>,\n",
       " <li class=\"\" htag=\"li\"><span class=\"x\">absolute confidence/trust/silence/truth</span></li>,\n",
       " <li class=\"\" htag=\"li\"><span class=\"x\">‘You're wrong,’ she said with <span class=\"cl\">absolute certainty</span>.</span></li>,\n",
       " <li class=\"\" htag=\"li\"><span class=\"x\">Clean water is an <span class=\"cl\">absolute necessity</span>.</span></li>,\n",
       " <li class=\"\" htag=\"li\"><span class=\"x\">Around them the darkness was absolute, the silence oppressive.</span></li>]"
      ]
     },
     "execution_count": 70,
     "metadata": {},
     "output_type": "execute_result"
    }
   ],
   "source": [
    "examples = senses[0].find_all(\"ul\", class_=\"examples\")[0].find_all(htag=\"li\")\n",
    "examples"
   ]
  },
  {
   "cell_type": "code",
   "execution_count": 103,
   "metadata": {},
   "outputs": [
    {
     "data": {
      "text/plain": [
       "[\"I've joined a class for absolute beginners.\",\n",
       " 'absolute confidence/trust/silence/truth',\n",
       " \"‘You're wrong,’ she said with absolute certainty.\",\n",
       " 'Clean water is an absolute necessity.',\n",
       " 'Around them the darkness was absolute, the silence oppressive.']"
      ]
     },
     "execution_count": 103,
     "metadata": {},
     "output_type": "execute_result"
    }
   ],
   "source": [
    "[e.contents[0].text for e in examples]"
   ]
  },
  {
   "cell_type": "code",
   "execution_count": 89,
   "metadata": {},
   "outputs": [
    {
     "data": {
      "text/plain": [
       "[\"I've joined a class for absolute beginners.\",\n",
       " 'absolute confidence/trust/silence/truth',\n",
       " \"‘You're wrong,’ she said with \",\n",
       " 'Clean water is an ',\n",
       " 'Around them the darkness was absolute, the silence oppressive.']"
      ]
     },
     "execution_count": 89,
     "metadata": {},
     "output_type": "execute_result"
    }
   ],
   "source": [
    "[e.contents[0].contents[0] for e in examples]"
   ]
  },
  {
   "cell_type": "markdown",
   "metadata": {},
   "source": [
    "# Clean code\n",
    "---"
   ]
  },
  {
   "cell_type": "code",
   "execution_count": 112,
   "metadata": {},
   "outputs": [
    {
     "name": "stdout",
     "output_type": "stream",
     "text": [
      "Request success!\n"
     ]
    }
   ],
   "source": [
    "import requests\n",
    "from bs4 import BeautifulSoup\n",
    "from requests.exceptions import HTTPError\n",
    "from random import randint\n",
    "\n",
    "\n",
    "\n",
    "def retrieve_webpage(req_url):\n",
    "    \"\"\"Get a webpage with the requests module & return the response\"\"\"\n",
    "\n",
    "    \n",
    "    # -------------------------------a changer --------------\n",
    "    user_agents = [\n",
    "        {'User-Agent': \"Mozilla/5.0 (Windows NT 10.0; Win64; x64; rv:53.0) Gecko/20100101 Firefox/53.0\"},\n",
    "        {'User-Agent': \"Mozilla/5.0 (Windows NT 10.0; Win64; x64; rv:53.0) Gecko/20100101 Firefox/53.0\"},\n",
    "        {'User-Agent': \"Mozilla/5.0 (Windows NT 10.0; Win64; x64; rv:53.0) Gecko/20100101 Firefox/53.0\"},\n",
    "        {'User-Agent': \"Mozilla/5.0 (Windows NT 10.0; Win64; x64; rv:53.0) Gecko/20100101 Firefox/53.0\"}\n",
    "    ]\n",
    "    \n",
    "    try:\n",
    "        req_response = requests.get(req_url, headers=user_agents[randint(0, len(user_agents))])\n",
    "        req_response.raise_for_status()\n",
    "    except HTTPError as http_err:\n",
    "        print(f'HTTP error occurred: {http_err}')\n",
    "        return None\n",
    "    except Exception as err:\n",
    "        print(f'Other error occurred: {err}')\n",
    "        return None\n",
    "    else:\n",
    "        print('Request success!')\n",
    "        return req_response\n",
    "    \n",
    "\n",
    "url_1 = \"https://www.oxfordlearnersdictionaries.com/definition/english/absolute_1\"\n",
    "web_page_1 = retrieve_webpage(url_1)"
   ]
  },
  {
   "cell_type": "code",
   "execution_count": 115,
   "metadata": {},
   "outputs": [
    {
     "name": "stdout",
     "output_type": "stream",
     "text": [
      "('/ˈæbsəluːt/', ['total and complete', 'used, especially in spoken English, to give emphasis to what you are saying', 'definite and without any doubt', '(of a legal decision) final', 'not limited in any way', 'existing or measured independently and not in relation to something else'], [[\"I've joined a class for absolute beginners.\", 'absolute confidence/trust/silence/truth', \"‘You're wrong,’ she said with absolute certainty.\", 'Clean water is an absolute necessity.', 'Around them the darkness was absolute, the silence oppressive.'], ['We must keep costs to an absolute minimum.', 'This room is an absolute disgrace.', \"They're talking absolute nonsense.\", 'He must earn an absolute fortune.'], ['There was no absolute proof.', 'He taught us that the laws of physics were absolute.', 'The story offers no clear message, no absolute truth.'], ['The divorce became absolute last week.'], ['absolute power/authority', 'an absolute ruler/monarchy (= one with no limit to their power)'], ['Although prices are falling in absolute terms, energy is still expensive.', 'Beauty cannot be measured by any absolute standard.']])\n"
     ]
    }
   ],
   "source": [
    "def get_data(resp):\n",
    "    \"\"\"Parse HTTP response of a single webpage with BS4 and return relevant data\"\"\"\n",
    "    \n",
    "    # -------------- add try except with nan -------------\n",
    "    soup = BeautifulSoup(resp.content, 'html.parser')\n",
    "    phonetic = soup.find_all(\"div\", class_=\"phons_n_am\")[0].find_all(\"span\", class_=\"phon\")[0].contents[0]\n",
    "    senses = soup.find_all(\"li\", class_=\"sense\")\n",
    "    definitions = [se.find_all(class_=\"def\")[0].contents[0] for se in senses]\n",
    "     \n",
    "    examples = [] # a list of (list of examples for one definition)\n",
    "    for se in senses:\n",
    "        all_examples = se.find_all(\"ul\", class_=\"examples\")[0].find_all(htag=\"li\")\n",
    "        examples.append([e.contents[0].text for e in all_examples])\n",
    "    \n",
    "    return phonetic, definitions, examples\n",
    "\n",
    "\n",
    "print(get_data(web_page_1))"
   ]
  },
  {
   "cell_type": "code",
   "execution_count": 116,
   "metadata": {},
   "outputs": [
    {
     "name": "stdout",
     "output_type": "stream",
     "text": [
      "Request success!\n",
      "/ˌækəˈdemɪk/ \n",
      "\n",
      " ['a person who teaches and/or does research at a university or college'] \n",
      "\n",
      " [['a leading/distinguished/prominent academic', 'There is much debate among academics about this issue.']]\n"
     ]
    }
   ],
   "source": [
    "url_2 = \"https://www.oxfordlearnersdictionaries.com/definition/english/academic_2\"\n",
    "web_page_2 = retrieve_webpage(url_2)\n",
    "test = get_data(web_page_2)\n",
    "\n",
    "print(test[0], \"\\n\\n\", test[1], \"\\n\\n\", test[2])"
   ]
  },
  {
   "cell_type": "code",
   "execution_count": null,
   "metadata": {},
   "outputs": [],
   "source": []
  },
  {
   "cell_type": "code",
   "execution_count": 78,
   "metadata": {},
   "outputs": [],
   "source": []
  },
  {
   "cell_type": "code",
   "execution_count": null,
   "metadata": {},
   "outputs": [],
   "source": []
  },
  {
   "cell_type": "code",
   "execution_count": null,
   "metadata": {},
   "outputs": [],
   "source": [
    "a"
   ]
  }
 ],
 "metadata": {
  "kernelspec": {
   "display_name": "Python 3",
   "language": "python",
   "name": "python3"
  },
  "language_info": {
   "codemirror_mode": {
    "name": "ipython",
    "version": 3
   },
   "file_extension": ".py",
   "mimetype": "text/x-python",
   "name": "python",
   "nbconvert_exporter": "python",
   "pygments_lexer": "ipython3",
   "version": "3.8.3"
  }
 },
 "nbformat": 4,
 "nbformat_minor": 5
}
