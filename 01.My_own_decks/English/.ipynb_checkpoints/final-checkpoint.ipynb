{
 "cells": [
  {
   "cell_type": "code",
   "execution_count": 1,
   "metadata": {},
   "outputs": [],
   "source": [
    "import pandas as pd\n",
    "import requests\n",
    "from bs4 import BeautifulSoup\n",
    "from requests.exceptions import HTTPError\n",
    "from random import randint\n",
    "import time"
   ]
  },
  {
   "cell_type": "markdown",
   "metadata": {},
   "source": [
    "# first download the list of words"
   ]
  },
  {
   "cell_type": "code",
   "execution_count": 2,
   "metadata": {},
   "outputs": [],
   "source": [
    "def retrieve_webpage(req_url):\n",
    "    \"\"\"Get a webpage with the requests module & return the response\"\"\"\n",
    "    user_agents = [\n",
    "        {'User-Agent': \"Mozilla/5.0 (Windows NT 10.0; Win64; x64) AppleWebKit/537.36 (KHTML, like Gecko) Chrome/92.0.4515.131 Safari/537.36\"},\n",
    "        {'User-Agent': \"Mozilla/5.0 (Windows NT 10.0; Win64; x64) AppleWebKit/537.36 (KHTML, like Gecko) Chrome/92.0.4515.107 Safari/537.36\"},\n",
    "        {'User-Agent': \"Mozilla/5.0 (Windows NT 10.0; Win64; x64; rv:90.0) Gecko/20100101 Firefox/90.0\"},\n",
    "        {'User-Agent': \"Mozilla/5.0 (Windows NT 10.0; Win64; x64) AppleWebKit/537.36 (KHTML, like Gecko) Chrome/91.0.4472.164 Safari/537.36\"},\n",
    "        {'User-Agent': \"Mozilla/5.0 (Macintosh; Intel Mac OS X 10_15_7) AppleWebKit/537.36 (KHTML, like Gecko) Chrome/92.0.4515.131 Safari/537.36\"},\n",
    "        {'User-Agent': \"Mozilla/5.0 (Macintosh; Intel Mac OS X 10_15_7) AppleWebKit/537.36 (KHTML, like Gecko) Chrome/92.0.4515.107 Safari/537.36\"},\n",
    "        {'User-Agent': \"Mozilla/5.0 (Windows NT 10.0; Win64; x64) AppleWebKit/537.36 (KHTML, like Gecko) Chrome/91.0.4472.124 Safari/537.36\"},\n",
    "        {'User-Agent': \"Mozilla/5.0 (Macintosh; Intel Mac OS X 10_15_7) AppleWebKit/605.1.15 (KHTML, like Gecko) Version/14.1.2 Safari/605.1.15\"},\n",
    "        {'User-Agent': \"Mozilla/5.0 (Macintosh; Intel Mac OS X 10_15_7) AppleWebKit/605.1.15 (KHTML, like Gecko) Version/14.1.1 Safari/605.1.15\"},\n",
    "        {'User-Agent': \"Mozilla/5.0 (Windows NT 10.0; Win64; x64; rv:91.0) Gecko/20100101 Firefox/91.0\"},\n",
    "        {'User-Agent': \"Mozilla/5.0 (Windows NT 6.1; WOW64) AppleWebKit/537.36 (KHTML, like Gecko) Chrome/47.0.2526.111 Safari/537.36\"},\n",
    "        {'User-Agent': \"Mozilla/5.0 (X11; CrOS x86_64 8172.45.0) AppleWebKit/537.36 (KHTML, like Gecko) Chrome/51.0.2704.64 Safari/537.36\"},\n",
    "        {'User-Agent': \"Mozilla/5.0 (X11; Ubuntu; Linux x86_64; rv:15.0) Gecko/20100101 Firefox/15.0.1\"},\n",
    "        {'User-Agent': \"Mozilla/5.0 (Windows NT 10.0; Win64; x64) AppleWebKit/537.36 (KHTML, like Gecko) Chrome/42.0.2311.135 Safari/537.36 Edge/12.246\"}\n",
    "    ]\n",
    "    try:\n",
    "        req_response = requests.get(req_url, headers=user_agents[randint(0, len(user_agents))])\n",
    "        req_response.raise_for_status()\n",
    "    except HTTPError as http_err:\n",
    "        print(f'HTTP error occurred: {http_err} for URL {req_url}')\n",
    "        return None\n",
    "    except Exception as err:\n",
    "        print(f'Other error occurred: {err} for URL {req_url}')\n",
    "        return None\n",
    "    else:\n",
    "        # print('Request success!')\n",
    "        return req_response"
   ]
  },
  {
   "cell_type": "code",
   "execution_count": 6,
   "metadata": {},
   "outputs": [
    {
     "name": "stdout",
     "output_type": "stream",
     "text": [
      "success\n"
     ]
    }
   ],
   "source": [
    "time.sleep(2.4) # in sec\n",
    "url_wordlist = \"https://www.oxfordlearnersdictionaries.com/wordlists/oxford3000-5000\"\n",
    "req_response = retrieve_webpage(url_wordlist)\n",
    "\n",
    "if not req_response :\n",
    "    print(\"fail\")\n",
    "elif str(req_response) == '<Response [200]>':\n",
    "    print(\"success\")\n",
    "else:\n",
    "    print(\"something wrong\")"
   ]
  },
  {
   "cell_type": "code",
   "execution_count": 7,
   "metadata": {},
   "outputs": [
    {
     "data": {
      "text/plain": [
       "(5948, 5948, 5948, 5948, 5948)"
      ]
     },
     "execution_count": 7,
     "metadata": {},
     "output_type": "execute_result"
    }
   ],
   "source": [
    "s = BeautifulSoup(req_response.content, 'html.parser')\n",
    "all_elts = s.find_all(\"li\")[34:-44]\n",
    "words, levels, def_urls, types, sound_urls = [], [], [], [], []\n",
    "\n",
    "for i in all_elts:\n",
    "    i = str(i)\n",
    "    if \"data-hw\" in i:\n",
    "        words.append(i.split('data-hw=\"')[1].split('\"')[0])\n",
    "    else:\n",
    "        words.append(\"No word\")\n",
    "    if \"data-ox5000\" in i:\n",
    "        levels.append(i.split('data-ox5000=\"')[1].split('\"')[0])\n",
    "    else:\n",
    "        levels.append(\"No level\")\n",
    "    if \"href\" in i:\n",
    "        def_urls.append(i.split('href=\"')[1].split('\"')[0])\n",
    "    else:\n",
    "        def_urls.append(\"No def_url\")\n",
    "    if 'class=\"pos' in i:\n",
    "        types.append(i.split('class=\"pos\">')[1].split('<')[0])\n",
    "    else:\n",
    "        types.append(\"No types\")\n",
    "    if \"data-src-mp3\" in i:\n",
    "        sound_urls.append(i.split('pron-us\" data-src-mp3=\"')[1].split('\"')[0])\n",
    "    else:\n",
    "        sound_urls.append(\"No sound url\")\n",
    "    \n",
    "\n",
    "len(words), len(levels), len(def_urls), len(types), len(sound_urls)"
   ]
  },
  {
   "cell_type": "code",
   "execution_count": 8,
   "metadata": {},
   "outputs": [
    {
     "data": {
      "text/html": [
       "<div>\n",
       "<style scoped>\n",
       "    .dataframe tbody tr th:only-of-type {\n",
       "        vertical-align: middle;\n",
       "    }\n",
       "\n",
       "    .dataframe tbody tr th {\n",
       "        vertical-align: top;\n",
       "    }\n",
       "\n",
       "    .dataframe thead th {\n",
       "        text-align: right;\n",
       "    }\n",
       "</style>\n",
       "<table border=\"1\" class=\"dataframe\">\n",
       "  <thead>\n",
       "    <tr style=\"text-align: right;\">\n",
       "      <th></th>\n",
       "      <th>words</th>\n",
       "      <th>levels</th>\n",
       "      <th>def_urls</th>\n",
       "      <th>types</th>\n",
       "      <th>sound_urls</th>\n",
       "    </tr>\n",
       "  </thead>\n",
       "  <tbody>\n",
       "    <tr>\n",
       "      <th>0</th>\n",
       "      <td>a</td>\n",
       "      <td>a1</td>\n",
       "      <td>/definition/english/a_1</td>\n",
       "      <td>indefinite article</td>\n",
       "      <td>/media/english/us_pron/a/a__/a__us/a__us_2_rr.mp3</td>\n",
       "    </tr>\n",
       "    <tr>\n",
       "      <th>1</th>\n",
       "      <td>abandon</td>\n",
       "      <td>b2</td>\n",
       "      <td>/definition/english/abandon_1</td>\n",
       "      <td>verb</td>\n",
       "      <td>/media/english/us_pron/a/aba/aband/abandon__us...</td>\n",
       "    </tr>\n",
       "    <tr>\n",
       "      <th>2</th>\n",
       "      <td>ability</td>\n",
       "      <td>a2</td>\n",
       "      <td>/definition/english/ability_1</td>\n",
       "      <td>noun</td>\n",
       "      <td>/media/english/us_pron/a/abi/abili/ability__us...</td>\n",
       "    </tr>\n",
       "  </tbody>\n",
       "</table>\n",
       "</div>"
      ],
      "text/plain": [
       "     words levels                       def_urls               types  \\\n",
       "0        a     a1        /definition/english/a_1  indefinite article   \n",
       "1  abandon     b2  /definition/english/abandon_1                verb   \n",
       "2  ability     a2  /definition/english/ability_1                noun   \n",
       "\n",
       "                                          sound_urls  \n",
       "0  /media/english/us_pron/a/a__/a__us/a__us_2_rr.mp3  \n",
       "1  /media/english/us_pron/a/aba/aband/abandon__us...  \n",
       "2  /media/english/us_pron/a/abi/abili/ability__us...  "
      ]
     },
     "execution_count": 8,
     "metadata": {},
     "output_type": "execute_result"
    }
   ],
   "source": [
    "df = pd.DataFrame(list(zip(words, levels, def_urls, types, sound_urls)), columns =['words', 'levels', 'def_urls', 'types', 'sound_urls'])\n",
    "df.to_csv('words_list', index=False)\n",
    "df.head(3)"
   ]
  },
  {
   "cell_type": "code",
   "execution_count": 9,
   "metadata": {},
   "outputs": [
    {
     "data": {
      "text/html": [
       "<div>\n",
       "<style scoped>\n",
       "    .dataframe tbody tr th:only-of-type {\n",
       "        vertical-align: middle;\n",
       "    }\n",
       "\n",
       "    .dataframe tbody tr th {\n",
       "        vertical-align: top;\n",
       "    }\n",
       "\n",
       "    .dataframe thead th {\n",
       "        text-align: right;\n",
       "    }\n",
       "</style>\n",
       "<table border=\"1\" class=\"dataframe\">\n",
       "  <thead>\n",
       "    <tr style=\"text-align: right;\">\n",
       "      <th></th>\n",
       "      <th>words</th>\n",
       "      <th>levels</th>\n",
       "      <th>def_urls</th>\n",
       "      <th>types</th>\n",
       "      <th>sound_urls</th>\n",
       "    </tr>\n",
       "  </thead>\n",
       "  <tbody>\n",
       "    <tr>\n",
       "      <th>5945</th>\n",
       "      <td>youth</td>\n",
       "      <td>b1</td>\n",
       "      <td>/definition/english/youth</td>\n",
       "      <td>noun</td>\n",
       "      <td>/media/english/us_pron/y/you/youth/youth__us_1...</td>\n",
       "    </tr>\n",
       "    <tr>\n",
       "      <th>5946</th>\n",
       "      <td>zero</td>\n",
       "      <td>a2</td>\n",
       "      <td>/definition/english/zero_1</td>\n",
       "      <td>number</td>\n",
       "      <td>/media/english/us_pron/z/zer/zero_/zero__us_1_...</td>\n",
       "    </tr>\n",
       "    <tr>\n",
       "      <th>5947</th>\n",
       "      <td>zone</td>\n",
       "      <td>b2</td>\n",
       "      <td>/definition/english/zone_1</td>\n",
       "      <td>noun</td>\n",
       "      <td>/media/english/us_pron/z/zon/zone_/zone__us_1.mp3</td>\n",
       "    </tr>\n",
       "  </tbody>\n",
       "</table>\n",
       "</div>"
      ],
      "text/plain": [
       "      words levels                    def_urls   types  \\\n",
       "5945  youth     b1   /definition/english/youth    noun   \n",
       "5946   zero     a2  /definition/english/zero_1  number   \n",
       "5947   zone     b2  /definition/english/zone_1    noun   \n",
       "\n",
       "                                             sound_urls  \n",
       "5945  /media/english/us_pron/y/you/youth/youth__us_1...  \n",
       "5946  /media/english/us_pron/z/zer/zero_/zero__us_1_...  \n",
       "5947  /media/english/us_pron/z/zon/zone_/zone__us_1.mp3  "
      ]
     },
     "execution_count": 9,
     "metadata": {},
     "output_type": "execute_result"
    }
   ],
   "source": [
    "df.tail(3)"
   ]
  },
  {
   "cell_type": "code",
   "execution_count": 10,
   "metadata": {},
   "outputs": [
    {
     "name": "stdout",
     "output_type": "stream",
     "text": [
      "<class 'pandas.core.frame.DataFrame'>\n",
      "RangeIndex: 5948 entries, 0 to 5947\n",
      "Data columns (total 5 columns):\n",
      " #   Column      Non-Null Count  Dtype \n",
      "---  ------      --------------  ----- \n",
      " 0   words       5948 non-null   object\n",
      " 1   levels      5948 non-null   object\n",
      " 2   def_urls    5948 non-null   object\n",
      " 3   types       5948 non-null   object\n",
      " 4   sound_urls  5948 non-null   object\n",
      "dtypes: object(5)\n",
      "memory usage: 232.5+ KB\n"
     ]
    }
   ],
   "source": [
    "df.info()"
   ]
  },
  {
   "cell_type": "code",
   "execution_count": 13,
   "metadata": {},
   "outputs": [
    {
     "data": {
      "text/plain": [
       "5"
      ]
     },
     "execution_count": 13,
     "metadata": {},
     "output_type": "execute_result"
    }
   ],
   "source": [
    "df[df['levels'] == 'No level'].shape[0]"
   ]
  },
  {
   "cell_type": "code",
   "execution_count": 18,
   "metadata": {},
   "outputs": [
    {
     "data": {
      "text/html": [
       "<div>\n",
       "<style scoped>\n",
       "    .dataframe tbody tr th:only-of-type {\n",
       "        vertical-align: middle;\n",
       "    }\n",
       "\n",
       "    .dataframe tbody tr th {\n",
       "        vertical-align: top;\n",
       "    }\n",
       "\n",
       "    .dataframe thead th {\n",
       "        text-align: right;\n",
       "    }\n",
       "</style>\n",
       "<table border=\"1\" class=\"dataframe\">\n",
       "  <thead>\n",
       "    <tr style=\"text-align: right;\">\n",
       "      <th></th>\n",
       "      <th>words</th>\n",
       "      <th>levels</th>\n",
       "      <th>def_urls</th>\n",
       "      <th>types</th>\n",
       "      <th>sound_urls</th>\n",
       "    </tr>\n",
       "  </thead>\n",
       "  <tbody>\n",
       "    <tr>\n",
       "      <th>47</th>\n",
       "      <td>accounting</td>\n",
       "      <td>No level</td>\n",
       "      <td>/definition/english/accounting</td>\n",
       "      <td>noun</td>\n",
       "      <td>/media/english/us_pron/a/acc/accou/accounting_...</td>\n",
       "    </tr>\n",
       "    <tr>\n",
       "      <th>233</th>\n",
       "      <td>angrily</td>\n",
       "      <td>No level</td>\n",
       "      <td>/definition/english/angrily</td>\n",
       "      <td>adverb</td>\n",
       "      <td>/media/english/us_pron/a/ang/angri/angrily__us...</td>\n",
       "    </tr>\n",
       "    <tr>\n",
       "      <th>889</th>\n",
       "      <td>cleaning</td>\n",
       "      <td>No level</td>\n",
       "      <td>/definition/english/cleaning</td>\n",
       "      <td>noun</td>\n",
       "      <td>/media/english/us_pron/c/cle/clean/cleaning__u...</td>\n",
       "    </tr>\n",
       "    <tr>\n",
       "      <th>2058</th>\n",
       "      <td>feeding</td>\n",
       "      <td>No level</td>\n",
       "      <td>/definition/english/feeding</td>\n",
       "      <td>noun</td>\n",
       "      <td>/media/english/us_pron/f/fee/feedi/feeding__us...</td>\n",
       "    </tr>\n",
       "    <tr>\n",
       "      <th>3176</th>\n",
       "      <td>major</td>\n",
       "      <td>No level</td>\n",
       "      <td>/definition/english/major_2</td>\n",
       "      <td>noun</td>\n",
       "      <td>/media/english/us_pron/m/maj/major/major__us_2...</td>\n",
       "    </tr>\n",
       "  </tbody>\n",
       "</table>\n",
       "</div>"
      ],
      "text/plain": [
       "           words    levels                        def_urls   types  \\\n",
       "47    accounting  No level  /definition/english/accounting    noun   \n",
       "233      angrily  No level     /definition/english/angrily  adverb   \n",
       "889     cleaning  No level    /definition/english/cleaning    noun   \n",
       "2058     feeding  No level     /definition/english/feeding    noun   \n",
       "3176       major  No level     /definition/english/major_2    noun   \n",
       "\n",
       "                                             sound_urls  \n",
       "47    /media/english/us_pron/a/acc/accou/accounting_...  \n",
       "233   /media/english/us_pron/a/ang/angri/angrily__us...  \n",
       "889   /media/english/us_pron/c/cle/clean/cleaning__u...  \n",
       "2058  /media/english/us_pron/f/fee/feedi/feeding__us...  \n",
       "3176  /media/english/us_pron/m/maj/major/major__us_2...  "
      ]
     },
     "execution_count": 18,
     "metadata": {},
     "output_type": "execute_result"
    }
   ],
   "source": [
    "df[df['levels'] == 'No level']"
   ]
  },
  {
   "cell_type": "code",
   "execution_count": 21,
   "metadata": {},
   "outputs": [
    {
     "data": {
      "text/plain": [
       "array(['a1', 'b2', 'a2', 'c1', 'b1', 'No level'], dtype=object)"
      ]
     },
     "execution_count": 21,
     "metadata": {},
     "output_type": "execute_result"
    }
   ],
   "source": [
    "df['levels'].unique()"
   ]
  },
  {
   "cell_type": "code",
   "execution_count": 30,
   "metadata": {},
   "outputs": [],
   "source": [
    "df.loc[df[df['levels'] == 'No level'].index, 'levels'] = 'a1'"
   ]
  },
  {
   "cell_type": "code",
   "execution_count": 38,
   "metadata": {},
   "outputs": [
    {
     "data": {
      "text/plain": [
       "1"
      ]
     },
     "execution_count": 38,
     "metadata": {},
     "output_type": "execute_result"
    }
   ],
   "source": [
    "df[df['sound_urls'] == 'No sound url'].shape[0]"
   ]
  },
  {
   "cell_type": "code",
   "execution_count": 39,
   "metadata": {},
   "outputs": [
    {
     "data": {
      "text/html": [
       "<div>\n",
       "<style scoped>\n",
       "    .dataframe tbody tr th:only-of-type {\n",
       "        vertical-align: middle;\n",
       "    }\n",
       "\n",
       "    .dataframe tbody tr th {\n",
       "        vertical-align: top;\n",
       "    }\n",
       "\n",
       "    .dataframe thead th {\n",
       "        text-align: right;\n",
       "    }\n",
       "</style>\n",
       "<table border=\"1\" class=\"dataframe\">\n",
       "  <thead>\n",
       "    <tr style=\"text-align: right;\">\n",
       "      <th></th>\n",
       "      <th>words</th>\n",
       "      <th>levels</th>\n",
       "      <th>def_urls</th>\n",
       "      <th>types</th>\n",
       "      <th>sound_urls</th>\n",
       "    </tr>\n",
       "  </thead>\n",
       "  <tbody>\n",
       "    <tr>\n",
       "      <th>3559</th>\n",
       "      <td>nursing</td>\n",
       "      <td>b2</td>\n",
       "      <td>/definition/english/nursing</td>\n",
       "      <td>noun</td>\n",
       "      <td>No sound url</td>\n",
       "    </tr>\n",
       "  </tbody>\n",
       "</table>\n",
       "</div>"
      ],
      "text/plain": [
       "        words levels                     def_urls types    sound_urls\n",
       "3559  nursing     b2  /definition/english/nursing  noun  No sound url"
      ]
     },
     "execution_count": 39,
     "metadata": {},
     "output_type": "execute_result"
    }
   ],
   "source": [
    "df[df['sound_urls'] == 'No sound url']"
   ]
  },
  {
   "cell_type": "code",
   "execution_count": 44,
   "metadata": {},
   "outputs": [
    {
     "data": {
      "text/plain": [
       "0"
      ]
     },
     "execution_count": 44,
     "metadata": {},
     "output_type": "execute_result"
    }
   ],
   "source": [
    "df[df.duplicated()].shape[0]"
   ]
  },
  {
   "cell_type": "markdown",
   "metadata": {},
   "source": [
    "# Let's clean & transform the data a little bit"
   ]
  },
  {
   "cell_type": "code",
   "execution_count": 47,
   "metadata": {},
   "outputs": [
    {
     "data": {
      "text/html": [
       "<div>\n",
       "<style scoped>\n",
       "    .dataframe tbody tr th:only-of-type {\n",
       "        vertical-align: middle;\n",
       "    }\n",
       "\n",
       "    .dataframe tbody tr th {\n",
       "        vertical-align: top;\n",
       "    }\n",
       "\n",
       "    .dataframe thead th {\n",
       "        text-align: right;\n",
       "    }\n",
       "</style>\n",
       "<table border=\"1\" class=\"dataframe\">\n",
       "  <thead>\n",
       "    <tr style=\"text-align: right;\">\n",
       "      <th></th>\n",
       "      <th>words</th>\n",
       "      <th>levels</th>\n",
       "      <th>def_urls</th>\n",
       "      <th>types</th>\n",
       "      <th>sound_urls</th>\n",
       "    </tr>\n",
       "  </thead>\n",
       "  <tbody>\n",
       "    <tr>\n",
       "      <th>0</th>\n",
       "      <td>a</td>\n",
       "      <td>a1</td>\n",
       "      <td>/definition/english/a_1</td>\n",
       "      <td>indefinite article</td>\n",
       "      <td>/media/english/us_pron/a/a__/a__us/a__us_2_rr.mp3</td>\n",
       "    </tr>\n",
       "    <tr>\n",
       "      <th>1</th>\n",
       "      <td>abandon</td>\n",
       "      <td>b2</td>\n",
       "      <td>/definition/english/abandon_1</td>\n",
       "      <td>verb</td>\n",
       "      <td>/media/english/us_pron/a/aba/aband/abandon__us...</td>\n",
       "    </tr>\n",
       "    <tr>\n",
       "      <th>2</th>\n",
       "      <td>ability</td>\n",
       "      <td>a2</td>\n",
       "      <td>/definition/english/ability_1</td>\n",
       "      <td>noun</td>\n",
       "      <td>/media/english/us_pron/a/abi/abili/ability__us...</td>\n",
       "    </tr>\n",
       "    <tr>\n",
       "      <th>3</th>\n",
       "      <td>able</td>\n",
       "      <td>a2</td>\n",
       "      <td>/definition/english/able_1</td>\n",
       "      <td>adjective</td>\n",
       "      <td>/media/english/us_pron/a/abl/able_/able__us_2.mp3</td>\n",
       "    </tr>\n",
       "    <tr>\n",
       "      <th>4</th>\n",
       "      <td>abolish</td>\n",
       "      <td>c1</td>\n",
       "      <td>/definition/english/abolish</td>\n",
       "      <td>verb</td>\n",
       "      <td>/media/english/us_pron/a/abo/aboli/abolish__us...</td>\n",
       "    </tr>\n",
       "  </tbody>\n",
       "</table>\n",
       "</div>"
      ],
      "text/plain": [
       "     words levels                       def_urls               types  \\\n",
       "0        a     a1        /definition/english/a_1  indefinite article   \n",
       "1  abandon     b2  /definition/english/abandon_1                verb   \n",
       "2  ability     a2  /definition/english/ability_1                noun   \n",
       "3     able     a2     /definition/english/able_1           adjective   \n",
       "4  abolish     c1    /definition/english/abolish                verb   \n",
       "\n",
       "                                          sound_urls  \n",
       "0  /media/english/us_pron/a/a__/a__us/a__us_2_rr.mp3  \n",
       "1  /media/english/us_pron/a/aba/aband/abandon__us...  \n",
       "2  /media/english/us_pron/a/abi/abili/ability__us...  \n",
       "3  /media/english/us_pron/a/abl/able_/able__us_2.mp3  \n",
       "4  /media/english/us_pron/a/abo/aboli/abolish__us...  "
      ]
     },
     "execution_count": 47,
     "metadata": {},
     "output_type": "execute_result"
    }
   ],
   "source": [
    "df.head()"
   ]
  },
  {
   "cell_type": "code",
   "execution_count": 62,
   "metadata": {},
   "outputs": [
    {
     "data": {
      "text/html": [
       "<div>\n",
       "<style scoped>\n",
       "    .dataframe tbody tr th:only-of-type {\n",
       "        vertical-align: middle;\n",
       "    }\n",
       "\n",
       "    .dataframe tbody tr th {\n",
       "        vertical-align: top;\n",
       "    }\n",
       "\n",
       "    .dataframe thead th {\n",
       "        text-align: right;\n",
       "    }\n",
       "</style>\n",
       "<table border=\"1\" class=\"dataframe\">\n",
       "  <thead>\n",
       "    <tr style=\"text-align: right;\">\n",
       "      <th></th>\n",
       "      <th>words</th>\n",
       "      <th>levels</th>\n",
       "      <th>def_urls</th>\n",
       "      <th>types</th>\n",
       "      <th>sound_urls</th>\n",
       "      <th>sound_files</th>\n",
       "    </tr>\n",
       "  </thead>\n",
       "  <tbody>\n",
       "    <tr>\n",
       "      <th>0</th>\n",
       "      <td>a</td>\n",
       "      <td>A1</td>\n",
       "      <td>https://www.oxfordlearnersdictionaries.com/def...</td>\n",
       "      <td>(indefinite article)</td>\n",
       "      <td>https://www.oxfordlearnersdictionaries.com/med...</td>\n",
       "      <td>a__us_2_rr.mp3</td>\n",
       "    </tr>\n",
       "    <tr>\n",
       "      <th>1</th>\n",
       "      <td>abandon</td>\n",
       "      <td>B2</td>\n",
       "      <td>https://www.oxfordlearnersdictionaries.com/def...</td>\n",
       "      <td>(verb)</td>\n",
       "      <td>https://www.oxfordlearnersdictionaries.com/med...</td>\n",
       "      <td>abandon__us_2.mp3</td>\n",
       "    </tr>\n",
       "    <tr>\n",
       "      <th>2</th>\n",
       "      <td>ability</td>\n",
       "      <td>A2</td>\n",
       "      <td>https://www.oxfordlearnersdictionaries.com/def...</td>\n",
       "      <td>(noun)</td>\n",
       "      <td>https://www.oxfordlearnersdictionaries.com/med...</td>\n",
       "      <td>ability__us_4.mp3</td>\n",
       "    </tr>\n",
       "    <tr>\n",
       "      <th>3</th>\n",
       "      <td>able</td>\n",
       "      <td>A2</td>\n",
       "      <td>https://www.oxfordlearnersdictionaries.com/def...</td>\n",
       "      <td>(adjective)</td>\n",
       "      <td>https://www.oxfordlearnersdictionaries.com/med...</td>\n",
       "      <td>able__us_2.mp3</td>\n",
       "    </tr>\n",
       "    <tr>\n",
       "      <th>4</th>\n",
       "      <td>abolish</td>\n",
       "      <td>C1</td>\n",
       "      <td>https://www.oxfordlearnersdictionaries.com/def...</td>\n",
       "      <td>(verb)</td>\n",
       "      <td>https://www.oxfordlearnersdictionaries.com/med...</td>\n",
       "      <td>abolish__us_1.mp3</td>\n",
       "    </tr>\n",
       "  </tbody>\n",
       "</table>\n",
       "</div>"
      ],
      "text/plain": [
       "     words levels                                           def_urls  \\\n",
       "0        a     A1  https://www.oxfordlearnersdictionaries.com/def...   \n",
       "1  abandon     B2  https://www.oxfordlearnersdictionaries.com/def...   \n",
       "2  ability     A2  https://www.oxfordlearnersdictionaries.com/def...   \n",
       "3     able     A2  https://www.oxfordlearnersdictionaries.com/def...   \n",
       "4  abolish     C1  https://www.oxfordlearnersdictionaries.com/def...   \n",
       "\n",
       "                  types                                         sound_urls  \\\n",
       "0  (indefinite article)  https://www.oxfordlearnersdictionaries.com/med...   \n",
       "1                (verb)  https://www.oxfordlearnersdictionaries.com/med...   \n",
       "2                (noun)  https://www.oxfordlearnersdictionaries.com/med...   \n",
       "3           (adjective)  https://www.oxfordlearnersdictionaries.com/med...   \n",
       "4                (verb)  https://www.oxfordlearnersdictionaries.com/med...   \n",
       "\n",
       "         sound_files  \n",
       "0     a__us_2_rr.mp3  \n",
       "1  abandon__us_2.mp3  \n",
       "2  ability__us_4.mp3  \n",
       "3     able__us_2.mp3  \n",
       "4  abolish__us_1.mp3  "
      ]
     },
     "execution_count": 62,
     "metadata": {},
     "output_type": "execute_result"
    }
   ],
   "source": [
    "BASE_URL = \"https://www.oxfordlearnersdictionaries.com\"\n",
    "\n",
    "df['def_urls'] = df['def_urls'].apply(lambda x: BASE_URL + x)\n",
    "df['levels'] = df['levels'].apply(lambda x: x.upper())\n",
    "df['types'] = df['types'].apply(lambda x: \"(\" + x + \")\")\n",
    "df['sound_urls'] = df['sound_urls'].apply(lambda x: BASE_URL + x)\n",
    "df['sound_files'] = df['sound_urls'].apply(lambda x: x.split(\"/\")[-1])\n",
    "df.head()"
   ]
  },
  {
   "cell_type": "markdown",
   "metadata": {},
   "source": [
    "# Retrieve the sound files"
   ]
  },
  {
   "cell_type": "code",
   "execution_count": null,
   "metadata": {},
   "outputs": [],
   "source": [
    "!mkdir sounds"
   ]
  },
  {
   "cell_type": "code",
   "execution_count": 64,
   "metadata": {},
   "outputs": [],
   "source": [
    "with open(\"./sounds\" + \"/\" + \"url_list.txt\", \"w\") as outfile:\n",
    "    outfile.write(\"\\n\".join(set(df['sound_urls'])))"
   ]
  },
  {
   "cell_type": "code",
   "execution_count": null,
   "metadata": {},
   "outputs": [],
   "source": [
    "!cd sounds, wget -i url_list.txt"
   ]
  },
  {
   "cell_type": "code",
   "execution_count": 79,
   "metadata": {},
   "outputs": [
    {
     "name": "stdout",
     "output_type": "stream",
     "text": [
      "5012\n",
      "['test__us_1.mp3', 'nuclear__us_1.mp3', 'stay__us_1.mp3', 'representative__us_4.mp3', 'embarrassed__us_1.mp3', 'partly__us_1.mp3', 'administer__us_1.mp3', 'methodology__us_1.mp3', 'accordingly__us_1.mp3', 'proposition__us_1.mp3']\n"
     ]
    }
   ],
   "source": [
    "from os import listdir\n",
    "from os.path import isfile, join\n",
    "\n",
    "files_list = [f for f in listdir(\"./sounds\") if isfile(join(\"./sounds\", f))]\n",
    "print(len(files_list))\n",
    "print(files_list[:10])"
   ]
  },
  {
   "cell_type": "code",
   "execution_count": 80,
   "metadata": {},
   "outputs": [],
   "source": [
    "df.to_csv('word_list.csv', index=False)"
   ]
  },
  {
   "cell_type": "code",
   "execution_count": null,
   "metadata": {},
   "outputs": [],
   "source": [
    "https://www.oxfordlearnersdictionaries.com/media/english/us_pron/a/a__/a__us/a__us_2_rr.mp3"
   ]
  },
  {
   "cell_type": "code",
   "execution_count": null,
   "metadata": {},
   "outputs": [],
   "source": []
  },
  {
   "cell_type": "code",
   "execution_count": null,
   "metadata": {},
   "outputs": [],
   "source": []
  },
  {
   "cell_type": "code",
   "execution_count": null,
   "metadata": {},
   "outputs": [],
   "source": []
  },
  {
   "cell_type": "code",
   "execution_count": null,
   "metadata": {},
   "outputs": [],
   "source": []
  },
  {
   "cell_type": "code",
   "execution_count": null,
   "metadata": {},
   "outputs": [],
   "source": []
  },
  {
   "cell_type": "code",
   "execution_count": null,
   "metadata": {},
   "outputs": [],
   "source": [
    "url_1 = \"https://www.oxfordlearnersdictionaries.com/definition/english/absolute_1\"\n",
    "web_page_1 = retrieve_webpage(url_1)"
   ]
  },
  {
   "cell_type": "code",
   "execution_count": null,
   "metadata": {},
   "outputs": [],
   "source": [
    "def get_data(resp):\n",
    "    \"\"\"Parse HTTP response of a single webpage with BS4 and return relevant data\"\"\"\n",
    "    \n",
    "    # -------------- add try except with nan -------------\n",
    "    soup = BeautifulSoup(resp.content, 'html.parser')\n",
    "    phonetic = soup.find_all(\"div\", class_=\"phons_n_am\")[0].find_all(\"span\", class_=\"phon\")[0].contents[0]\n",
    "    senses = soup.find_all(\"li\", class_=\"sense\")\n",
    "    definitions = [se.find_all(class_=\"def\")[0].contents[0] for se in senses]\n",
    "     \n",
    "    examples = [] # a list of (list of examples for one definition)\n",
    "    for se in senses:\n",
    "        all_examples = se.find_all(\"ul\", class_=\"examples\")[0].find_all(htag=\"li\")\n",
    "        examples.append([e.contents[0].text for e in all_examples])\n",
    "    \n",
    "    return phonetic, definitions, examples\n",
    "\n",
    "\n",
    "print(get_data(web_page_1))"
   ]
  },
  {
   "cell_type": "code",
   "execution_count": null,
   "metadata": {},
   "outputs": [],
   "source": []
  },
  {
   "cell_type": "code",
   "execution_count": null,
   "metadata": {},
   "outputs": [],
   "source": [
    "https://www.oxfordlearnersdictionaries.com/wordlists/oxford3000-5000"
   ]
  },
  {
   "cell_type": "code",
   "execution_count": null,
   "metadata": {},
   "outputs": [],
   "source": []
  },
  {
   "cell_type": "code",
   "execution_count": null,
   "metadata": {},
   "outputs": [],
   "source": []
  },
  {
   "cell_type": "code",
   "execution_count": null,
   "metadata": {},
   "outputs": [],
   "source": [
    "url = \"https://www.oxfordlearnersdictionaries.com/wordlists/oxford3000-5000\"\n",
    "\n",
    "try:\n",
    "    headers = {'User-Agent': \"Mozilla/5.0 (Windows NT 10.0; Win64; x64; rv:53.0) Gecko/20100101 Firefox/53.0\"} # UserAgent().random}\n",
    "    req_response = requests.get(url, headers=headers)\n",
    "    req_response.raise_for_status()\n",
    "except:\n",
    "    result = \"Nan\"\n",
    "else:      \n",
    "    s = BeautifulSoup(req_response.content, 'html.parser')"
   ]
  },
  {
   "cell_type": "code",
   "execution_count": null,
   "metadata": {},
   "outputs": [],
   "source": [
    "        {'User-Agent': \"Mozilla/5.0 (Windows NT 10.0; Win64; x64; rv:53.0) Gecko/20100101 Firefox/53.0\"},\n",
    "        {'User-Agent': \"Mozilla/5.0 (Windows NT 10.0; Win64; x64; rv:53.0) Gecko/20100101 Firefox/53.0\"},\n",
    "        {'User-Agent': \"Mozilla/5.0 (Windows NT 10.0; Win64; x64; rv:53.0) Gecko/20100101 Firefox/53.0\"},\n",
    "        {'User-Agent': \"Mozilla/5.0 (Windows NT 10.0; Win64; x64; rv:53.0) Gecko/20100101 Firefox/53.0\"}"
   ]
  }
 ],
 "metadata": {
  "kernelspec": {
   "display_name": "Python 3",
   "language": "python",
   "name": "python3"
  },
  "language_info": {
   "codemirror_mode": {
    "name": "ipython",
    "version": 3
   },
   "file_extension": ".py",
   "mimetype": "text/x-python",
   "name": "python",
   "nbconvert_exporter": "python",
   "pygments_lexer": "ipython3",
   "version": "3.8.3"
  }
 },
 "nbformat": 4,
 "nbformat_minor": 4
}
