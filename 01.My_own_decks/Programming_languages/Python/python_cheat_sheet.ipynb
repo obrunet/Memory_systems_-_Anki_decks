{
  "nbformat": 4,
  "nbformat_minor": 0,
  "metadata": {
    "colab": {
      "name": "python_cheat_sheet.ipynb",
      "provenance": [],
      "collapsed_sections": []
    },
    "kernelspec": {
      "name": "python3",
      "display_name": "Python 3"
    },
    "language_info": {
      "name": "python"
    }
  },
  "cells": [
    {
      "cell_type": "code",
      "metadata": {
        "id": "tOSqORmix-v7"
      },
      "source": [
        ""
      ],
      "execution_count": null,
      "outputs": []
    },
    {
      "cell_type": "markdown",
      "metadata": {
        "id": "6aQT7jRsy-zv"
      },
      "source": [
        "# Python cheat sheet\n",
        "\n",
        "This is a summary of the most important key features and syntax of the language. It was made in order to create and anki deck for memorizing the below examples\n",
        "\n",
        "\n",
        "## Design\n",
        "\n",
        "interpreted\n",
        "\n",
        "high-level\n",
        "\n",
        "philosophy emphasizes on code readability (indentation)\n",
        "\n",
        "object-oriented\n",
        "\n",
        "dynamically-typed & garbage-collected\n",
        "\n",
        "structured (procedural) and functional programming\n",
        "\n",
        "described as a \"batteries included\"\n",
        "\n",
        "## Basic Types\n",
        "\n",
        "Boolean"
      ]
    },
    {
      "cell_type": "code",
      "metadata": {
        "colab": {
          "base_uri": "https://localhost:8080/"
        },
        "id": "jWXiIm5Py-hZ",
        "outputId": "07ed8b64-609a-4248-a02c-789fa21af72a"
      },
      "source": [
        "True\n",
        "False"
      ],
      "execution_count": null,
      "outputs": [
        {
          "output_type": "execute_result",
          "data": {
            "text/plain": [
              "False"
            ]
          },
          "metadata": {
            "tags": []
          },
          "execution_count": 9
        }
      ]
    },
    {
      "cell_type": "markdown",
      "metadata": {
        "id": "EBDdeMIt0US_"
      },
      "source": [
        "Integers - all kinds, also in binary or hex"
      ]
    },
    {
      "cell_type": "code",
      "metadata": {
        "colab": {
          "base_uri": "https://localhost:8080/"
        },
        "id": "G66UjsR7zZbE",
        "outputId": "5dbaa831-f7f1-4cfd-adb9-8f1d7f499490"
      },
      "source": [
        "0\n",
        "-192\n",
        "0b010\n",
        "0xF3"
      ],
      "execution_count": null,
      "outputs": [
        {
          "output_type": "execute_result",
          "data": {
            "text/plain": [
              "243"
            ]
          },
          "metadata": {
            "tags": []
          },
          "execution_count": 4
        }
      ]
    },
    {
      "cell_type": "markdown",
      "metadata": {
        "id": "p4V7NeG30Y50"
      },
      "source": [
        "Strings"
      ]
    },
    {
      "cell_type": "code",
      "metadata": {
        "colab": {
          "base_uri": "https://localhost:8080/",
          "height": 35
        },
        "id": "kNnUYeL4zmaJ",
        "outputId": "fa4c1747-c2db-4ee8-b4d2-05c397678cee"
      },
      "source": [
        "\"One\\tTwo\\nThree\""
      ],
      "execution_count": null,
      "outputs": [
        {
          "output_type": "execute_result",
          "data": {
            "application/vnd.google.colaboratory.intrinsic+json": {
              "type": "string"
            },
            "text/plain": [
              "'One\\tTwo\\nThree'"
            ]
          },
          "metadata": {
            "tags": []
          },
          "execution_count": 10
        }
      ]
    },
    {
      "cell_type": "markdown",
      "metadata": {
        "id": "JOdj-mJr0dc3"
      },
      "source": [
        "Multiple line string"
      ]
    },
    {
      "cell_type": "code",
      "metadata": {
        "colab": {
          "base_uri": "https://localhost:8080/",
          "height": 35
        },
        "id": "Knz8FScbzw_G",
        "outputId": "f52420ed-fd4d-454d-f0a8-05a75e92d425"
      },
      "source": [
        "\"\"\"multiple \n",
        "lines\n",
        "long\n",
        "string\"\"\""
      ],
      "execution_count": null,
      "outputs": [
        {
          "output_type": "execute_result",
          "data": {
            "application/vnd.google.colaboratory.intrinsic+json": {
              "type": "string"
            },
            "text/plain": [
              "'multiple \\nlines\\nlong\\nstring'"
            ]
          },
          "metadata": {
            "tags": []
          },
          "execution_count": 7
        }
      ]
    },
    {
      "cell_type": "code",
      "metadata": {
        "colab": {
          "base_uri": "https://localhost:8080/",
          "height": 35
        },
        "id": "MoQazLguz8X4",
        "outputId": "d9639bad-7d53-4970-b102-e38beec4e2f3"
      },
      "source": [
        "\"I'm\""
      ],
      "execution_count": null,
      "outputs": [
        {
          "output_type": "execute_result",
          "data": {
            "application/vnd.google.colaboratory.intrinsic+json": {
              "type": "string"
            },
            "text/plain": [
              "\"I'm\""
            ]
          },
          "metadata": {
            "tags": []
          },
          "execution_count": 6
        }
      ]
    },
    {
      "cell_type": "code",
      "metadata": {
        "colab": {
          "base_uri": "https://localhost:8080/",
          "height": 35
        },
        "id": "xd5NfOpD0Afh",
        "outputId": "f6b3b37e-1102-4324-ae27-c5eb11d742d9"
      },
      "source": [
        "'I\\'m'"
      ],
      "execution_count": null,
      "outputs": [
        {
          "output_type": "execute_result",
          "data": {
            "application/vnd.google.colaboratory.intrinsic+json": {
              "type": "string"
            },
            "text/plain": [
              "\"I'm\""
            ]
          },
          "metadata": {
            "tags": []
          },
          "execution_count": 8
        }
      ]
    },
    {
      "cell_type": "markdown",
      "metadata": {
        "id": "PMbiCkxQ1las"
      },
      "source": [
        "## Advanced Types / Containers"
      ]
    },
    {
      "cell_type": "markdown",
      "metadata": {
        "id": "dxnT-t4Q0_Pf"
      },
      "source": [
        "Lists"
      ]
    },
    {
      "cell_type": "code",
      "metadata": {
        "colab": {
          "base_uri": "https://localhost:8080/"
        },
        "id": "qN4MQHQ00LIR",
        "outputId": "be18bdc4-4c5b-4ee2-c868-2b86fe7d9d02"
      },
      "source": [
        "[]"
      ],
      "execution_count": null,
      "outputs": [
        {
          "output_type": "execute_result",
          "data": {
            "text/plain": [
              "[]"
            ]
          },
          "metadata": {
            "tags": []
          },
          "execution_count": 11
        }
      ]
    },
    {
      "cell_type": "code",
      "metadata": {
        "colab": {
          "base_uri": "https://localhost:8080/"
        },
        "id": "nE07iMW302Kd",
        "outputId": "f43cca17-4887-4564-b48c-8a7a90acb180"
      },
      "source": [
        "['x', 11, 8.9]"
      ],
      "execution_count": null,
      "outputs": [
        {
          "output_type": "execute_result",
          "data": {
            "text/plain": [
              "['x', 11, 8.9]"
            ]
          },
          "metadata": {
            "tags": []
          },
          "execution_count": 12
        }
      ]
    },
    {
      "cell_type": "code",
      "metadata": {
        "colab": {
          "base_uri": "https://localhost:8080/"
        },
        "id": "IgJ6ebXN06Ix",
        "outputId": "b10da79c-d304-425d-8bd8-58b86f8627bd"
      },
      "source": [
        "['st']"
      ],
      "execution_count": null,
      "outputs": [
        {
          "output_type": "execute_result",
          "data": {
            "text/plain": [
              "['st']"
            ]
          },
          "metadata": {
            "tags": []
          },
          "execution_count": 13
        }
      ]
    },
    {
      "cell_type": "markdown",
      "metadata": {
        "id": "yqyn7p081Fan"
      },
      "source": [
        "Tuples\n"
      ]
    },
    {
      "cell_type": "code",
      "metadata": {
        "colab": {
          "base_uri": "https://localhost:8080/"
        },
        "id": "QGlKs3yH07uQ",
        "outputId": "53449d09-bf39-4bc6-e40a-3c6f3e485248"
      },
      "source": [
        "()"
      ],
      "execution_count": null,
      "outputs": [
        {
          "output_type": "execute_result",
          "data": {
            "text/plain": [
              "()"
            ]
          },
          "metadata": {
            "tags": []
          },
          "execution_count": 14
        }
      ]
    },
    {
      "cell_type": "code",
      "metadata": {
        "colab": {
          "base_uri": "https://localhost:8080/"
        },
        "id": "tqBBbMFq1G8m",
        "outputId": "a7efdbfd-dcef-40cc-dfa1-d55485e30505"
      },
      "source": [
        "11, 'y', 7.4"
      ],
      "execution_count": null,
      "outputs": [
        {
          "output_type": "execute_result",
          "data": {
            "text/plain": [
              "(11, 'y', 7.4)"
            ]
          },
          "metadata": {
            "tags": []
          },
          "execution_count": 15
        }
      ]
    },
    {
      "cell_type": "code",
      "metadata": {
        "colab": {
          "base_uri": "https://localhost:8080/",
          "height": 35
        },
        "id": "xoyJEwtd1JWg",
        "outputId": "c751eeb6-02c8-4426-b31c-baab74b017f5"
      },
      "source": [
        "('st')"
      ],
      "execution_count": null,
      "outputs": [
        {
          "output_type": "execute_result",
          "data": {
            "application/vnd.google.colaboratory.intrinsic+json": {
              "type": "string"
            },
            "text/plain": [
              "'st'"
            ]
          },
          "metadata": {
            "tags": []
          },
          "execution_count": 16
        }
      ]
    },
    {
      "cell_type": "markdown",
      "metadata": {
        "id": "dGKyjdny1L4q"
      },
      "source": [
        "Dictionnary"
      ]
    },
    {
      "cell_type": "code",
      "metadata": {
        "colab": {
          "base_uri": "https://localhost:8080/"
        },
        "id": "l-kjX-H81KxN",
        "outputId": "21ba051a-a188-4e8c-f332-ec019a8c9dd2"
      },
      "source": [
        "{}"
      ],
      "execution_count": null,
      "outputs": [
        {
          "output_type": "execute_result",
          "data": {
            "text/plain": [
              "{}"
            ]
          },
          "metadata": {
            "tags": []
          },
          "execution_count": 17
        }
      ]
    },
    {
      "cell_type": "code",
      "metadata": {
        "colab": {
          "base_uri": "https://localhost:8080/"
        },
        "id": "6PVz63cd1Ovw",
        "outputId": "b4f26b61-9575-4612-eb0c-935144df13f0"
      },
      "source": [
        "{1: 'one', 'two': 2}"
      ],
      "execution_count": null,
      "outputs": [
        {
          "output_type": "execute_result",
          "data": {
            "text/plain": [
              "{1: 'one', 'two': 2}"
            ]
          },
          "metadata": {
            "tags": []
          },
          "execution_count": 18
        }
      ]
    },
    {
      "cell_type": "markdown",
      "metadata": {
        "id": "Sl88TP5a1Ve9"
      },
      "source": [
        "Set"
      ]
    },
    {
      "cell_type": "code",
      "metadata": {
        "colab": {
          "base_uri": "https://localhost:8080/"
        },
        "id": "_4ezrBh51Tqw",
        "outputId": "399b1f97-615d-424b-dffc-3038347a08d9"
      },
      "source": [
        "{1, 1, 2, 3}"
      ],
      "execution_count": null,
      "outputs": [
        {
          "output_type": "execute_result",
          "data": {
            "text/plain": [
              "{1, 2, 3}"
            ]
          },
          "metadata": {
            "tags": []
          },
          "execution_count": 19
        }
      ]
    },
    {
      "cell_type": "markdown",
      "metadata": {
        "id": "e_XxBm4g1o8X"
      },
      "source": [
        "Type conversion\n"
      ]
    },
    {
      "cell_type": "code",
      "metadata": {
        "colab": {
          "base_uri": "https://localhost:8080/"
        },
        "id": "G48_8QGI1eES",
        "outputId": "7fec9988-36d2-4348-ffe2-8a8fa4320c2d"
      },
      "source": [
        "int(1.2)"
      ],
      "execution_count": null,
      "outputs": [
        {
          "output_type": "execute_result",
          "data": {
            "text/plain": [
              "1"
            ]
          },
          "metadata": {
            "tags": []
          },
          "execution_count": 20
        }
      ]
    },
    {
      "cell_type": "code",
      "metadata": {
        "colab": {
          "base_uri": "https://localhost:8080/"
        },
        "id": "k7wXDYN_1rXF",
        "outputId": "1d435c66-3f1b-4385-8ff6-06a3d8cba43e"
      },
      "source": [
        "float(1)"
      ],
      "execution_count": null,
      "outputs": [
        {
          "output_type": "execute_result",
          "data": {
            "text/plain": [
              "1.0"
            ]
          },
          "metadata": {
            "tags": []
          },
          "execution_count": 21
        }
      ]
    },
    {
      "cell_type": "code",
      "metadata": {
        "colab": {
          "base_uri": "https://localhost:8080/"
        },
        "id": "wgfbkZVz1s0W",
        "outputId": "44f7c551-900a-40f6-ea2a-7e14757bf920"
      },
      "source": [
        "bool(1)"
      ],
      "execution_count": null,
      "outputs": [
        {
          "output_type": "execute_result",
          "data": {
            "text/plain": [
              "True"
            ]
          },
          "metadata": {
            "tags": []
          },
          "execution_count": 22
        }
      ]
    },
    {
      "cell_type": "code",
      "metadata": {
        "colab": {
          "base_uri": "https://localhost:8080/"
        },
        "id": "O-zzCDhn1vg9",
        "outputId": "a5125189-deb9-4ab2-e62e-031a5b5a12dc"
      },
      "source": [
        "bool(2)"
      ],
      "execution_count": null,
      "outputs": [
        {
          "output_type": "execute_result",
          "data": {
            "text/plain": [
              "True"
            ]
          },
          "metadata": {
            "tags": []
          },
          "execution_count": 23
        }
      ]
    },
    {
      "cell_type": "code",
      "metadata": {
        "colab": {
          "base_uri": "https://localhost:8080/"
        },
        "id": "EIebWbCM1wNJ",
        "outputId": "4778d26f-1a5d-4e06-825e-c49d981ffa9a"
      },
      "source": [
        "bool(0)"
      ],
      "execution_count": null,
      "outputs": [
        {
          "output_type": "execute_result",
          "data": {
            "text/plain": [
              "False"
            ]
          },
          "metadata": {
            "tags": []
          },
          "execution_count": 24
        }
      ]
    },
    {
      "cell_type": "code",
      "metadata": {
        "colab": {
          "base_uri": "https://localhost:8080/",
          "height": 35
        },
        "id": "RcOa55bB1w4M",
        "outputId": "dc159422-270c-432e-824a-83c894331733"
      },
      "source": [
        "str(123)"
      ],
      "execution_count": null,
      "outputs": [
        {
          "output_type": "execute_result",
          "data": {
            "application/vnd.google.colaboratory.intrinsic+json": {
              "type": "string"
            },
            "text/plain": [
              "'123'"
            ]
          },
          "metadata": {
            "tags": []
          },
          "execution_count": 25
        }
      ]
    },
    {
      "cell_type": "code",
      "metadata": {
        "colab": {
          "base_uri": "https://localhost:8080/",
          "height": 35
        },
        "id": "UOUEwzCe10LS",
        "outputId": "baf23db6-9715-43bc-97e0-dc3be64d9d9f"
      },
      "source": [
        "str(True)"
      ],
      "execution_count": null,
      "outputs": [
        {
          "output_type": "execute_result",
          "data": {
            "application/vnd.google.colaboratory.intrinsic+json": {
              "type": "string"
            },
            "text/plain": [
              "'True'"
            ]
          },
          "metadata": {
            "tags": []
          },
          "execution_count": 26
        }
      ]
    },
    {
      "cell_type": "code",
      "metadata": {
        "colab": {
          "base_uri": "https://localhost:8080/"
        },
        "id": "79B0XpMA13wU",
        "outputId": "5ab16531-b02b-4bdc-bda1-fbde7298986e"
      },
      "source": [
        "list({1 ,2, 3})"
      ],
      "execution_count": null,
      "outputs": [
        {
          "output_type": "execute_result",
          "data": {
            "text/plain": [
              "[1, 2, 3]"
            ]
          },
          "metadata": {
            "tags": []
          },
          "execution_count": 27
        }
      ]
    },
    {
      "cell_type": "code",
      "metadata": {
        "colab": {
          "base_uri": "https://localhost:8080/"
        },
        "id": "3VLvVu4t19b9",
        "outputId": "48d9b033-8eba-485a-ab4f-e9505e877c39"
      },
      "source": [
        "list(\"adfs\")"
      ],
      "execution_count": null,
      "outputs": [
        {
          "output_type": "execute_result",
          "data": {
            "text/plain": [
              "['a', 'd', 'f', 's']"
            ]
          },
          "metadata": {
            "tags": []
          },
          "execution_count": 28
        }
      ]
    },
    {
      "cell_type": "code",
      "metadata": {
        "colab": {
          "base_uri": "https://localhost:8080/"
        },
        "id": "e1dU-k5h1_fM",
        "outputId": "eff3e940-92e0-4ccc-e7a2-6653df85306d"
      },
      "source": [
        "my_list = ['I', \"'\", 'l', 'o', 'v', 'e', ' ', 'u!']\n",
        "my_list"
      ],
      "execution_count": null,
      "outputs": [
        {
          "output_type": "execute_result",
          "data": {
            "text/plain": [
              "['I', \"'\", 'l', 'o', 'v', 'e', ' ', 'u!']"
            ]
          },
          "metadata": {
            "tags": []
          },
          "execution_count": 32
        }
      ]
    },
    {
      "cell_type": "code",
      "metadata": {
        "colab": {
          "base_uri": "https://localhost:8080/",
          "height": 35
        },
        "id": "vKzZ0ccX2Dz7",
        "outputId": "b4883460-1c48-449a-f6bf-6623fd987e1f"
      },
      "source": [
        "''.join(my_list)"
      ],
      "execution_count": null,
      "outputs": [
        {
          "output_type": "execute_result",
          "data": {
            "application/vnd.google.colaboratory.intrinsic+json": {
              "type": "string"
            },
            "text/plain": [
              "\"I'love u!\""
            ]
          },
          "metadata": {
            "tags": []
          },
          "execution_count": 33
        }
      ]
    },
    {
      "cell_type": "markdown",
      "metadata": {
        "id": "Wi-eFC5O2t4T"
      },
      "source": [
        "Iterables objects - properties\n",
        "\n",
        "- | List | Tuple | Set | Dict\n",
        "---|---|---|---|---\n",
        "symbol|[,]|(,)|{,}|{k: v,}\n",
        "type|ordered|ordered|unordered|unordered\n",
        "access|index|index|value|key\n",
        "property|mutable|immutable|unique values|keys/values\n",
        "\n",
        "\n",
        "---\n",
        "\n"
      ]
    },
    {
      "cell_type": "markdown",
      "metadata": {
        "id": "Zqor0jju4K4y"
      },
      "source": [
        "## Assignements"
      ]
    },
    {
      "cell_type": "code",
      "metadata": {
        "colab": {
          "base_uri": "https://localhost:8080/"
        },
        "id": "MKk3VZLE2hNl",
        "outputId": "bca4c5f3-dfaa-4e8b-a02f-e0c76b66b942"
      },
      "source": [
        "a = b = c = 0\n",
        "a +=1\n",
        "a, b"
      ],
      "execution_count": null,
      "outputs": [
        {
          "output_type": "execute_result",
          "data": {
            "text/plain": [
              "(1, 0)"
            ]
          },
          "metadata": {
            "tags": []
          },
          "execution_count": 34
        }
      ]
    },
    {
      "cell_type": "code",
      "metadata": {
        "colab": {
          "base_uri": "https://localhost:8080/"
        },
        "id": "O8ZCdp2x4R1U",
        "outputId": "43e01c2d-e4b2-4064-8b12-fbe4fde46b00"
      },
      "source": [
        "a, b = 1, 2\n",
        "a, b"
      ],
      "execution_count": null,
      "outputs": [
        {
          "output_type": "execute_result",
          "data": {
            "text/plain": [
              "(1, 2)"
            ]
          },
          "metadata": {
            "tags": []
          },
          "execution_count": 38
        }
      ]
    },
    {
      "cell_type": "code",
      "metadata": {
        "colab": {
          "base_uri": "https://localhost:8080/"
        },
        "id": "6feUd6V54V0i",
        "outputId": "8cb3bbba-62f9-416a-d1fb-469ee8c2cc03"
      },
      "source": [
        "a, b = 2, 8\n",
        "a, b = b, a\n",
        "a, b"
      ],
      "execution_count": null,
      "outputs": [
        {
          "output_type": "execute_result",
          "data": {
            "text/plain": [
              "(8, 2)"
            ]
          },
          "metadata": {
            "tags": []
          },
          "execution_count": 36
        }
      ]
    },
    {
      "cell_type": "code",
      "metadata": {
        "colab": {
          "base_uri": "https://localhost:8080/"
        },
        "id": "SevZiNeL4dFX",
        "outputId": "89d01b54-989c-4a11-f6f5-c071ade90eb1"
      },
      "source": [
        "x, *y, z = (10, 'a', 'b', 'b', 'c', 'd', 20)\n",
        "x, z"
      ],
      "execution_count": null,
      "outputs": [
        {
          "output_type": "execute_result",
          "data": {
            "text/plain": [
              "(10, 20)"
            ]
          },
          "metadata": {
            "tags": []
          },
          "execution_count": 37
        }
      ]
    },
    {
      "cell_type": "code",
      "metadata": {
        "colab": {
          "base_uri": "https://localhost:8080/"
        },
        "id": "XSwfly0r4rml",
        "outputId": "eae2a6d6-6e66-4c28-fdf6-09e6dbcc0194"
      },
      "source": [
        "i, j = 'ab'\n",
        "i, j"
      ],
      "execution_count": null,
      "outputs": [
        {
          "output_type": "execute_result",
          "data": {
            "text/plain": [
              "('a', 'b')"
            ]
          },
          "metadata": {
            "tags": []
          },
          "execution_count": 39
        }
      ]
    },
    {
      "cell_type": "code",
      "metadata": {
        "colab": {
          "base_uri": "https://localhost:8080/",
          "height": 35
        },
        "id": "Y7Ng-zug4zoA",
        "outputId": "1ccd7a70-36ea-4525-8097-2ba7e814787a"
      },
      "source": [
        "*content, last_line = open('/etc/fstab')\n",
        "last_line"
      ],
      "execution_count": null,
      "outputs": [
        {
          "output_type": "execute_result",
          "data": {
            "application/vnd.google.colaboratory.intrinsic+json": {
              "type": "string"
            },
            "text/plain": [
              "'# UNCONFIGURED FSTAB FOR BASE SYSTEM\\n'"
            ]
          },
          "metadata": {
            "tags": []
          },
          "execution_count": 41
        }
      ]
    },
    {
      "cell_type": "code",
      "metadata": {
        "colab": {
          "base_uri": "https://localhost:8080/"
        },
        "id": "-6Hs1AuL47d9",
        "outputId": "b35ad4a5-87b1-4692-ae4d-9c6636a36187"
      },
      "source": [
        "a = 0\n",
        "a -= 1\n",
        "a"
      ],
      "execution_count": null,
      "outputs": [
        {
          "output_type": "execute_result",
          "data": {
            "text/plain": [
              "-1"
            ]
          },
          "metadata": {
            "tags": []
          },
          "execution_count": 42
        }
      ]
    },
    {
      "cell_type": "code",
      "metadata": {
        "colab": {
          "base_uri": "https://localhost:8080/"
        },
        "id": "mC4Ybtp36CzL",
        "outputId": "5a0b932c-eefb-4c61-9813-c49464d6a6ec"
      },
      "source": [
        "a = 16\n",
        "a %= 5\n",
        "a"
      ],
      "execution_count": null,
      "outputs": [
        {
          "output_type": "execute_result",
          "data": {
            "text/plain": [
              "1"
            ]
          },
          "metadata": {
            "tags": []
          },
          "execution_count": 43
        }
      ]
    },
    {
      "cell_type": "code",
      "metadata": {
        "colab": {
          "base_uri": "https://localhost:8080/"
        },
        "id": "LorAM5bj6LYV",
        "outputId": "cfb114f3-dd7c-4a35-806d-c32f6c36c4c5"
      },
      "source": [
        "a = 16\n",
        "a /= 5\n",
        "a"
      ],
      "execution_count": null,
      "outputs": [
        {
          "output_type": "execute_result",
          "data": {
            "text/plain": [
              "3.2"
            ]
          },
          "metadata": {
            "tags": []
          },
          "execution_count": 44
        }
      ]
    },
    {
      "cell_type": "code",
      "metadata": {
        "colab": {
          "base_uri": "https://localhost:8080/"
        },
        "id": "iEey5bwx6S5R",
        "outputId": "7dc44ec6-a763-4c6a-fd04-18150e1bc602"
      },
      "source": [
        "a = 16\n",
        "a //= 5\n",
        "a"
      ],
      "execution_count": null,
      "outputs": [
        {
          "output_type": "execute_result",
          "data": {
            "text/plain": [
              "3"
            ]
          },
          "metadata": {
            "tags": []
          },
          "execution_count": 45
        }
      ]
    },
    {
      "cell_type": "code",
      "metadata": {
        "colab": {
          "base_uri": "https://localhost:8080/",
          "height": 195
        },
        "id": "tMN85q7Z6Uhq",
        "outputId": "166a5a99-de8a-47e9-ab4d-78bc88712690"
      },
      "source": [
        "a = 0\n",
        "del a\n",
        "a"
      ],
      "execution_count": null,
      "outputs": [
        {
          "output_type": "error",
          "ename": "NameError",
          "evalue": "ignored",
          "traceback": [
            "\u001b[0;31m---------------------------------------------------------------------------\u001b[0m",
            "\u001b[0;31mNameError\u001b[0m                                 Traceback (most recent call last)",
            "\u001b[0;32m<ipython-input-46-c1e82bdf26d0>\u001b[0m in \u001b[0;36m<module>\u001b[0;34m()\u001b[0m\n\u001b[1;32m      1\u001b[0m \u001b[0ma\u001b[0m \u001b[0;34m=\u001b[0m \u001b[0;36m0\u001b[0m\u001b[0;34m\u001b[0m\u001b[0;34m\u001b[0m\u001b[0m\n\u001b[1;32m      2\u001b[0m \u001b[0;32mdel\u001b[0m \u001b[0ma\u001b[0m\u001b[0;34m\u001b[0m\u001b[0;34m\u001b[0m\u001b[0m\n\u001b[0;32m----> 3\u001b[0;31m \u001b[0ma\u001b[0m\u001b[0;34m\u001b[0m\u001b[0;34m\u001b[0m\u001b[0m\n\u001b[0m",
            "\u001b[0;31mNameError\u001b[0m: name 'a' is not defined"
          ]
        }
      ]
    },
    {
      "cell_type": "markdown",
      "metadata": {
        "id": "FdXQLiUp6dl8"
      },
      "source": [
        "Useless var"
      ]
    },
    {
      "cell_type": "code",
      "metadata": {
        "colab": {
          "base_uri": "https://localhost:8080/"
        },
        "id": "ncv875Sz6dOn",
        "outputId": "6432cb3e-710d-4dbe-9f1e-9353c4375ac5"
      },
      "source": [
        "a, _, b = (1, 2, 3)\n",
        "_"
      ],
      "execution_count": null,
      "outputs": [
        {
          "output_type": "execute_result",
          "data": {
            "text/plain": [
              "2"
            ]
          },
          "metadata": {
            "tags": []
          },
          "execution_count": 47
        }
      ]
    },
    {
      "cell_type": "markdown",
      "metadata": {
        "id": "1CMs5Mgj618X"
      },
      "source": [
        "## Calculation / Operators\n",
        "+   -   *   /   **   %   //   ~"
      ]
    },
    {
      "cell_type": "code",
      "metadata": {
        "colab": {
          "base_uri": "https://localhost:8080/"
        },
        "id": "Ov2SxWmt6Y_H",
        "outputId": "705423bf-d480-4664-ce33-c917e9a31a82"
      },
      "source": [
        "~1"
      ],
      "execution_count": null,
      "outputs": [
        {
          "output_type": "execute_result",
          "data": {
            "text/plain": [
              "-2"
            ]
          },
          "metadata": {
            "tags": []
          },
          "execution_count": 50
        }
      ]
    },
    {
      "cell_type": "markdown",
      "metadata": {
        "id": "8wUgvtCE7k24"
      },
      "source": [
        "Check if two objects are the same object:"
      ]
    },
    {
      "cell_type": "code",
      "metadata": {
        "colab": {
          "base_uri": "https://localhost:8080/"
        },
        "id": "gYEDBVVq6yS4",
        "outputId": "1e63a67d-95d6-4f0b-a0ee-b473e72a23ec"
      },
      "source": [
        "a = 'test'\n",
        "b = a\n",
        "a is b"
      ],
      "execution_count": null,
      "outputs": [
        {
          "output_type": "execute_result",
          "data": {
            "text/plain": [
              "True"
            ]
          },
          "metadata": {
            "tags": []
          },
          "execution_count": 54
        }
      ]
    },
    {
      "cell_type": "markdown",
      "metadata": {
        "id": "kDo2kuAQ9K-e"
      },
      "source": [
        "Test two objects that are equal, but not the same object:"
      ]
    },
    {
      "cell_type": "code",
      "metadata": {
        "colab": {
          "base_uri": "https://localhost:8080/"
        },
        "id": "QsSnE0II8K4W",
        "outputId": "f71fa6b1-23c0-424f-f13a-d6131219d3b0"
      },
      "source": [
        "x = [\"apple\", \"banana\", \"cherry\"]\n",
        "y = [\"apple\", \"banana\", \"cherry\"]\n",
        "x is y"
      ],
      "execution_count": null,
      "outputs": [
        {
          "output_type": "execute_result",
          "data": {
            "text/plain": [
              "False"
            ]
          },
          "metadata": {
            "tags": []
          },
          "execution_count": 65
        }
      ]
    },
    {
      "cell_type": "code",
      "metadata": {
        "colab": {
          "base_uri": "https://localhost:8080/"
        },
        "id": "UZj2168z7S4d",
        "outputId": "aa1d025c-30bc-48c0-dd38-61f7694b394c"
      },
      "source": [
        "a = 'test'\n",
        "b = 'TEST'\n",
        "a is not b"
      ],
      "execution_count": null,
      "outputs": [
        {
          "output_type": "execute_result",
          "data": {
            "text/plain": [
              "True"
            ]
          },
          "metadata": {
            "tags": []
          },
          "execution_count": 56
        }
      ]
    },
    {
      "cell_type": "code",
      "metadata": {
        "colab": {
          "base_uri": "https://localhost:8080/"
        },
        "id": "b-ScfeS77X-O",
        "outputId": "e5ebf53c-672a-4f47-e486-df41a3d606e0"
      },
      "source": [
        "'a' in ['c', 'b', 'a']"
      ],
      "execution_count": null,
      "outputs": [
        {
          "output_type": "execute_result",
          "data": {
            "text/plain": [
              "True"
            ]
          },
          "metadata": {
            "tags": []
          },
          "execution_count": 57
        }
      ]
    },
    {
      "cell_type": "code",
      "metadata": {
        "colab": {
          "base_uri": "https://localhost:8080/"
        },
        "id": "r6LK9TF976z2",
        "outputId": "74170432-b458-494e-ff03-bb2023a9c8b7"
      },
      "source": [
        "'z' not in ['c', 'b', 'a']"
      ],
      "execution_count": null,
      "outputs": [
        {
          "output_type": "execute_result",
          "data": {
            "text/plain": [
              "True"
            ]
          },
          "metadata": {
            "tags": []
          },
          "execution_count": 59
        }
      ]
    },
    {
      "cell_type": "code",
      "metadata": {
        "colab": {
          "base_uri": "https://localhost:8080/"
        },
        "id": "vi2bZhCM7_s9",
        "outputId": "9a1eb823-e6d0-40d9-ec9e-b457a6e37e7f"
      },
      "source": [
        "not True"
      ],
      "execution_count": null,
      "outputs": [
        {
          "output_type": "execute_result",
          "data": {
            "text/plain": [
              "False"
            ]
          },
          "metadata": {
            "tags": []
          },
          "execution_count": 60
        }
      ]
    },
    {
      "cell_type": "code",
      "metadata": {
        "colab": {
          "base_uri": "https://localhost:8080/"
        },
        "id": "XWhfxXO08HJj",
        "outputId": "332e0f2b-9c7d-4f67-dc54-8422949e6c36"
      },
      "source": [
        "True or False"
      ],
      "execution_count": null,
      "outputs": [
        {
          "output_type": "execute_result",
          "data": {
            "text/plain": [
              "True"
            ]
          },
          "metadata": {
            "tags": []
          },
          "execution_count": 61
        }
      ]
    },
    {
      "cell_type": "code",
      "metadata": {
        "colab": {
          "base_uri": "https://localhost:8080/"
        },
        "id": "qIMfAso18Inq",
        "outputId": "30740693-92e2-4017-a3ba-7967a3986614"
      },
      "source": [
        "True and True"
      ],
      "execution_count": null,
      "outputs": [
        {
          "output_type": "execute_result",
          "data": {
            "text/plain": [
              "True"
            ]
          },
          "metadata": {
            "tags": []
          },
          "execution_count": 62
        }
      ]
    },
    {
      "cell_type": "markdown",
      "metadata": {
        "id": "ZA4SSI5h96h7"
      },
      "source": [
        "https://www.w3schools.com/python/python_operators.asp"
      ]
    },
    {
      "cell_type": "code",
      "metadata": {
        "colab": {
          "base_uri": "https://localhost:8080/"
        },
        "id": "iyywavnw_srI",
        "outputId": "9f4ae236-29a8-4fe2-865e-5ded678b73bc"
      },
      "source": [
        "0b0011 & 0b1100"
      ],
      "execution_count": null,
      "outputs": [
        {
          "output_type": "execute_result",
          "data": {
            "text/plain": [
              "0"
            ]
          },
          "metadata": {
            "tags": []
          },
          "execution_count": 69
        }
      ]
    },
    {
      "cell_type": "code",
      "metadata": {
        "colab": {
          "base_uri": "https://localhost:8080/"
        },
        "id": "xN7BdtgyAKAL",
        "outputId": "9f87ebba-17fa-4f32-b61a-0898555277fd"
      },
      "source": [
        "0b0011 | 0b1100"
      ],
      "execution_count": null,
      "outputs": [
        {
          "output_type": "execute_result",
          "data": {
            "text/plain": [
              "15"
            ]
          },
          "metadata": {
            "tags": []
          },
          "execution_count": 70
        }
      ]
    },
    {
      "cell_type": "code",
      "metadata": {
        "colab": {
          "base_uri": "https://localhost:8080/"
        },
        "id": "jzTQo3RtAN0c",
        "outputId": "d4bef518-5480-4072-cbc8-3ac32fc28353"
      },
      "source": [
        "0b0001 << 1"
      ],
      "execution_count": null,
      "outputs": [
        {
          "output_type": "execute_result",
          "data": {
            "text/plain": [
              "2"
            ]
          },
          "metadata": {
            "tags": []
          },
          "execution_count": 71
        }
      ]
    },
    {
      "cell_type": "code",
      "metadata": {
        "colab": {
          "base_uri": "https://localhost:8080/"
        },
        "id": "QSyzx3q2Ad9L",
        "outputId": "55920053-cd42-454d-a4e4-f8b8bdc3501a"
      },
      "source": [
        "~ 0b0001"
      ],
      "execution_count": null,
      "outputs": [
        {
          "output_type": "execute_result",
          "data": {
            "text/plain": [
              "-2"
            ]
          },
          "metadata": {
            "tags": []
          },
          "execution_count": 76
        }
      ]
    },
    {
      "cell_type": "code",
      "metadata": {
        "colab": {
          "base_uri": "https://localhost:8080/"
        },
        "id": "vNVQ9_YhAzIj",
        "outputId": "b9932b42-f912-46d2-c207-a235bc2b38c2"
      },
      "source": [
        "0b0001 ^ 0b0000"
      ],
      "execution_count": null,
      "outputs": [
        {
          "output_type": "execute_result",
          "data": {
            "text/plain": [
              "1"
            ]
          },
          "metadata": {
            "tags": []
          },
          "execution_count": 78
        }
      ]
    },
    {
      "cell_type": "code",
      "metadata": {
        "colab": {
          "base_uri": "https://localhost:8080/"
        },
        "id": "jcitQy-PA8-b",
        "outputId": "bcd05356-5560-4587-fbd4-05807a02a8aa"
      },
      "source": [
        "a, b = 0, 0.0\n",
        "a == b"
      ],
      "execution_count": null,
      "outputs": [
        {
          "output_type": "execute_result",
          "data": {
            "text/plain": [
              "True"
            ]
          },
          "metadata": {
            "tags": []
          },
          "execution_count": 79
        }
      ]
    },
    {
      "cell_type": "code",
      "metadata": {
        "colab": {
          "base_uri": "https://localhost:8080/"
        },
        "id": "I73aa8maBBjL",
        "outputId": "1e527cae-27a0-4bd9-ab9d-6536b6eede1a"
      },
      "source": [
        "a, b = 1, 2\n",
        "a != b"
      ],
      "execution_count": null,
      "outputs": [
        {
          "output_type": "execute_result",
          "data": {
            "text/plain": [
              "True"
            ]
          },
          "metadata": {
            "tags": []
          },
          "execution_count": 80
        }
      ]
    },
    {
      "cell_type": "code",
      "metadata": {
        "colab": {
          "base_uri": "https://localhost:8080/"
        },
        "id": "Ac0Fe8HPwCxo",
        "outputId": "7b0cae45-9b3f-4ab7-c841-24bfe3e0b80d"
      },
      "source": [
        "0 == False"
      ],
      "execution_count": null,
      "outputs": [
        {
          "output_type": "execute_result",
          "data": {
            "text/plain": [
              "True"
            ]
          },
          "metadata": {
            "tags": []
          },
          "execution_count": 1
        }
      ]
    },
    {
      "cell_type": "code",
      "metadata": {
        "colab": {
          "base_uri": "https://localhost:8080/"
        },
        "id": "Q3qGOeqGwNtb",
        "outputId": "359bdf99-b469-4a78-cc3f-201f99a10876"
      },
      "source": [
        "# everything not equals to 0 is True\n",
        "0 != True"
      ],
      "execution_count": null,
      "outputs": [
        {
          "output_type": "execute_result",
          "data": {
            "text/plain": [
              "True"
            ]
          },
          "metadata": {
            "tags": []
          },
          "execution_count": 2
        }
      ]
    },
    {
      "cell_type": "markdown",
      "metadata": {
        "id": "_1TdL89b-Qw9"
      },
      "source": [
        "highest to lowest precedence\n",
        "\n",
        "**\n",
        "\n",
        "~ + - \n",
        "\n",
        "* / % //\n",
        "\n",
        "& ^ |\n",
        "\n",
        "<= < > >=\n",
        "\n",
        "== !=\n",
        "\n",
        "=\n",
        "\n",
        "%=  /=  -=  +=  *=  **="
      ]
    },
    {
      "cell_type": "code",
      "metadata": {
        "colab": {
          "base_uri": "https://localhost:8080/"
        },
        "id": "WLp91fCq8_3H",
        "outputId": "5c63a027-6076-4100-ff0b-4dba4323d77b"
      },
      "source": [
        "['a', 'b'] + [1, 2]"
      ],
      "execution_count": null,
      "outputs": [
        {
          "output_type": "execute_result",
          "data": {
            "text/plain": [
              "['a', 'b', 1, 2]"
            ]
          },
          "metadata": {
            "tags": []
          },
          "execution_count": 81
        }
      ]
    },
    {
      "cell_type": "code",
      "metadata": {
        "colab": {
          "base_uri": "https://localhost:8080/",
          "height": 35
        },
        "id": "rdZOVs2ED-jz",
        "outputId": "0a585807-c5aa-4468-a8db-9b21f5f3da58"
      },
      "source": [
        "'this' + 'is' 'hot'"
      ],
      "execution_count": null,
      "outputs": [
        {
          "output_type": "execute_result",
          "data": {
            "application/vnd.google.colaboratory.intrinsic+json": {
              "type": "string"
            },
            "text/plain": [
              "'thisishot'"
            ]
          },
          "metadata": {
            "tags": []
          },
          "execution_count": 82
        }
      ]
    },
    {
      "cell_type": "code",
      "metadata": {
        "colab": {
          "base_uri": "https://localhost:8080/",
          "height": 35
        },
        "id": "-O8hhTzWECro",
        "outputId": "f69f0083-75d0-4dc8-9016-d8a435c349d3"
      },
      "source": [
        "'test_' * 3"
      ],
      "execution_count": null,
      "outputs": [
        {
          "output_type": "execute_result",
          "data": {
            "application/vnd.google.colaboratory.intrinsic+json": {
              "type": "string"
            },
            "text/plain": [
              "'test_test_test_'"
            ]
          },
          "metadata": {
            "tags": []
          },
          "execution_count": 83
        }
      ]
    },
    {
      "cell_type": "code",
      "metadata": {
        "colab": {
          "base_uri": "https://localhost:8080/"
        },
        "id": "74BMravPEHSV",
        "outputId": "cb28303a-2667-4760-86ea-c415d0a7461d"
      },
      "source": [
        "[1, 2, 3] * 3"
      ],
      "execution_count": null,
      "outputs": [
        {
          "output_type": "execute_result",
          "data": {
            "text/plain": [
              "[1, 2, 3, 1, 2, 3, 1, 2, 3]"
            ]
          },
          "metadata": {
            "tags": []
          },
          "execution_count": 84
        }
      ]
    },
    {
      "cell_type": "code",
      "metadata": {
        "colab": {
          "base_uri": "https://localhost:8080/"
        },
        "id": "ZI7KFwz2H3Mg",
        "outputId": "b088ade4-313c-4a3e-d9fc-789ef5f36cdd"
      },
      "source": [
        "lst = ['a', 'b', 'c']\n",
        "for i, j in enumerate(lst):\n",
        "  print(f'index {i} & value {j}')\n"
      ],
      "execution_count": null,
      "outputs": [
        {
          "output_type": "stream",
          "text": [
            "index 0 & value a\n",
            "index 1 & value b\n",
            "index 2 & value c\n"
          ],
          "name": "stdout"
        }
      ]
    },
    {
      "cell_type": "code",
      "metadata": {
        "colab": {
          "base_uri": "https://localhost:8080/"
        },
        "id": "7d7UPl2JWl4A",
        "outputId": "76a2e321-e9d9-4217-d4a5-3d6813dc515c"
      },
      "source": [
        "list(range(10))"
      ],
      "execution_count": null,
      "outputs": [
        {
          "output_type": "execute_result",
          "data": {
            "text/plain": [
              "[0, 1, 2, 3, 4, 5, 6, 7, 8, 9]"
            ]
          },
          "metadata": {
            "tags": []
          },
          "execution_count": 97
        }
      ]
    },
    {
      "cell_type": "code",
      "metadata": {
        "colab": {
          "base_uri": "https://localhost:8080/"
        },
        "id": "4OoYWQJZbdyP",
        "outputId": "27efc0be-f081-4255-874f-c92d76905c16"
      },
      "source": [
        "list(range(2, 6))"
      ],
      "execution_count": null,
      "outputs": [
        {
          "output_type": "execute_result",
          "data": {
            "text/plain": [
              "[2, 3, 4, 5]"
            ]
          },
          "metadata": {
            "tags": []
          },
          "execution_count": 98
        }
      ]
    },
    {
      "cell_type": "code",
      "metadata": {
        "colab": {
          "base_uri": "https://localhost:8080/"
        },
        "id": "qKt-AUzdbiWJ",
        "outputId": "69c5cc9a-f7a4-465e-d043-701b99b06aae"
      },
      "source": [
        "list(range(2, 7, 2))"
      ],
      "execution_count": null,
      "outputs": [
        {
          "output_type": "execute_result",
          "data": {
            "text/plain": [
              "[2, 4, 6]"
            ]
          },
          "metadata": {
            "tags": []
          },
          "execution_count": 99
        }
      ]
    },
    {
      "cell_type": "markdown",
      "metadata": {
        "id": "Kacy7myP1SVp"
      },
      "source": [
        "## Containers Ops"
      ]
    },
    {
      "cell_type": "code",
      "metadata": {
        "id": "K8UEugx5bllM",
        "colab": {
          "base_uri": "https://localhost:8080/"
        },
        "outputId": "60802866-80c0-4cd9-cb42-4e3a8b04e601"
      },
      "source": [
        "lst = [1, 2, 3]\n",
        "min(lst)"
      ],
      "execution_count": null,
      "outputs": [
        {
          "output_type": "execute_result",
          "data": {
            "text/plain": [
              "1"
            ]
          },
          "metadata": {
            "tags": []
          },
          "execution_count": 3
        }
      ]
    },
    {
      "cell_type": "code",
      "metadata": {
        "colab": {
          "base_uri": "https://localhost:8080/"
        },
        "id": "5IyRPbi5wl1V",
        "outputId": "cda565c3-7a76-4122-8fe8-1b20990d990f"
      },
      "source": [
        "lst = [1, 2, 3]\n",
        "max(lst)"
      ],
      "execution_count": null,
      "outputs": [
        {
          "output_type": "execute_result",
          "data": {
            "text/plain": [
              "3"
            ]
          },
          "metadata": {
            "tags": []
          },
          "execution_count": 4
        }
      ]
    },
    {
      "cell_type": "code",
      "metadata": {
        "colab": {
          "base_uri": "https://localhost:8080/"
        },
        "id": "t5S1jYwiwnQp",
        "outputId": "47f17b12-a218-436a-f812-337d7f93cfc5"
      },
      "source": [
        "lst = [1, 2, 3]\n",
        "sum(lst)"
      ],
      "execution_count": null,
      "outputs": [
        {
          "output_type": "execute_result",
          "data": {
            "text/plain": [
              "6"
            ]
          },
          "metadata": {
            "tags": []
          },
          "execution_count": 5
        }
      ]
    },
    {
      "cell_type": "code",
      "metadata": {
        "colab": {
          "base_uri": "https://localhost:8080/"
        },
        "id": "qF_lOKfSwqas",
        "outputId": "fde67c5d-db8f-474b-cfd6-410bcf207982"
      },
      "source": [
        "lst = [1, 2, 3, 4]\n",
        "len(lst)"
      ],
      "execution_count": null,
      "outputs": [
        {
          "output_type": "execute_result",
          "data": {
            "text/plain": [
              "4"
            ]
          },
          "metadata": {
            "tags": []
          },
          "execution_count": 7
        }
      ]
    },
    {
      "cell_type": "code",
      "metadata": {
        "colab": {
          "base_uri": "https://localhost:8080/"
        },
        "id": "AAIKpaQOwsxe",
        "outputId": "25bca9ec-fb18-46f8-fc70-a92c4397afe4"
      },
      "source": [
        "lst = [1, 2, 3]\n",
        "1 in lst"
      ],
      "execution_count": null,
      "outputs": [
        {
          "output_type": "execute_result",
          "data": {
            "text/plain": [
              "True"
            ]
          },
          "metadata": {
            "tags": []
          },
          "execution_count": 8
        }
      ]
    },
    {
      "cell_type": "code",
      "metadata": {
        "colab": {
          "base_uri": "https://localhost:8080/"
        },
        "id": "C-DhZN0awzHv",
        "outputId": "9a24851b-388f-4042-b064-de5bc28b1d2f"
      },
      "source": [
        "lst = [1, 2, 3]\n",
        "4 in lst"
      ],
      "execution_count": null,
      "outputs": [
        {
          "output_type": "execute_result",
          "data": {
            "text/plain": [
              "False"
            ]
          },
          "metadata": {
            "tags": []
          },
          "execution_count": 9
        }
      ]
    },
    {
      "cell_type": "code",
      "metadata": {
        "colab": {
          "base_uri": "https://localhost:8080/"
        },
        "id": "xCAslXudw2Wq",
        "outputId": "cb9e1b92-5344-42c8-fd53-4367652b1714"
      },
      "source": [
        "lst = [3, 1, 2, 3]\n",
        "sorted(lst)"
      ],
      "execution_count": null,
      "outputs": [
        {
          "output_type": "execute_result",
          "data": {
            "text/plain": [
              "[1, 2, 3, 3]"
            ]
          },
          "metadata": {
            "tags": []
          },
          "execution_count": 10
        }
      ]
    },
    {
      "cell_type": "code",
      "metadata": {
        "colab": {
          "base_uri": "https://localhost:8080/"
        },
        "id": "DZQWDrlTw6aT",
        "outputId": "1a63b7c9-181d-4f32-f7af-677d58173d7c"
      },
      "source": [
        "lst_1 = [1, 2, 3]\n",
        "lst_2 = ['a', 'b', 'c']\n",
        "list(zip(lst_1, lst_2))"
      ],
      "execution_count": null,
      "outputs": [
        {
          "output_type": "execute_result",
          "data": {
            "text/plain": [
              "[(1, 'a'), (2, 'b'), (3, 'c')]"
            ]
          },
          "metadata": {
            "tags": []
          },
          "execution_count": 16
        }
      ]
    },
    {
      "cell_type": "code",
      "metadata": {
        "colab": {
          "base_uri": "https://localhost:8080/"
        },
        "id": "HLocTzQOw9nJ",
        "outputId": "a62c2128-19c7-4768-dcd3-4e3af17c9b64"
      },
      "source": [
        "lst = [True, True, True]\n",
        "all(lst)"
      ],
      "execution_count": null,
      "outputs": [
        {
          "output_type": "execute_result",
          "data": {
            "text/plain": [
              "True"
            ]
          },
          "metadata": {
            "tags": []
          },
          "execution_count": 17
        }
      ]
    },
    {
      "cell_type": "code",
      "metadata": {
        "colab": {
          "base_uri": "https://localhost:8080/"
        },
        "id": "Nl8X0o1RxgBX",
        "outputId": "ffad7cb9-2958-4f18-b3a6-534569d16ef7"
      },
      "source": [
        "lst = [False, True, True]\n",
        "all(lst)"
      ],
      "execution_count": null,
      "outputs": [
        {
          "output_type": "execute_result",
          "data": {
            "text/plain": [
              "False"
            ]
          },
          "metadata": {
            "tags": []
          },
          "execution_count": 18
        }
      ]
    },
    {
      "cell_type": "code",
      "metadata": {
        "colab": {
          "base_uri": "https://localhost:8080/"
        },
        "id": "g0vsj-6Lxitk",
        "outputId": "9c6e5ee8-ecda-48b5-e970-6fbeaf4b42d1"
      },
      "source": [
        "lst = [False, False, True]\n",
        "any(lst)"
      ],
      "execution_count": null,
      "outputs": [
        {
          "output_type": "execute_result",
          "data": {
            "text/plain": [
              "True"
            ]
          },
          "metadata": {
            "tags": []
          },
          "execution_count": 19
        }
      ]
    },
    {
      "cell_type": "code",
      "metadata": {
        "colab": {
          "base_uri": "https://localhost:8080/"
        },
        "id": "WQ-nHubExmZg",
        "outputId": "9f979f4c-cad1-408d-94a3-35c5eee84f50"
      },
      "source": [
        "lst = [False, False, False]\n",
        "any(lst)"
      ],
      "execution_count": null,
      "outputs": [
        {
          "output_type": "execute_result",
          "data": {
            "text/plain": [
              "False"
            ]
          },
          "metadata": {
            "tags": []
          },
          "execution_count": 20
        }
      ]
    },
    {
      "cell_type": "code",
      "metadata": {
        "colab": {
          "base_uri": "https://localhost:8080/"
        },
        "id": "fulAAE31xo_J",
        "outputId": "34c39f86-1c05-4205-ea39-982a300ebafc"
      },
      "source": [
        "lst = [3, 1, 2, 3]\n",
        "list(reversed(lst))"
      ],
      "execution_count": null,
      "outputs": [
        {
          "output_type": "execute_result",
          "data": {
            "text/plain": [
              "[3, 2, 1, 3]"
            ]
          },
          "metadata": {
            "tags": []
          },
          "execution_count": 23
        }
      ]
    },
    {
      "cell_type": "code",
      "metadata": {
        "colab": {
          "base_uri": "https://localhost:8080/"
        },
        "id": "7hQM3BSHxwbL",
        "outputId": "475ba509-9b5a-4611-ede1-131947687ff0"
      },
      "source": [
        "lst[::-1]"
      ],
      "execution_count": null,
      "outputs": [
        {
          "output_type": "execute_result",
          "data": {
            "text/plain": [
              "[3, 2, 1, 3]"
            ]
          },
          "metadata": {
            "tags": []
          },
          "execution_count": 24
        }
      ]
    },
    {
      "cell_type": "code",
      "metadata": {
        "colab": {
          "base_uri": "https://localhost:8080/",
          "height": 35
        },
        "id": "Q_6gBxXxx7Ct",
        "outputId": "31b2d5b9-c6c7-4576-a3eb-0ac0acb91ceb"
      },
      "source": [
        "s = \"string__\"\n",
        "s * 3"
      ],
      "execution_count": null,
      "outputs": [
        {
          "output_type": "execute_result",
          "data": {
            "application/vnd.google.colaboratory.intrinsic+json": {
              "type": "string"
            },
            "text/plain": [
              "'string__string__string__'"
            ]
          },
          "metadata": {
            "tags": []
          },
          "execution_count": 25
        }
      ]
    },
    {
      "cell_type": "code",
      "metadata": {
        "colab": {
          "base_uri": "https://localhost:8080/",
          "height": 35
        },
        "id": "n6HJwDMEyA31",
        "outputId": "520f6594-459a-4225-d6e8-a290b89f154c"
      },
      "source": [
        "\"string___\" + \" \" \"test\""
      ],
      "execution_count": null,
      "outputs": [
        {
          "output_type": "execute_result",
          "data": {
            "application/vnd.google.colaboratory.intrinsic+json": {
              "type": "string"
            },
            "text/plain": [
              "'string___ test'"
            ]
          },
          "metadata": {
            "tags": []
          },
          "execution_count": 26
        }
      ]
    },
    {
      "cell_type": "code",
      "metadata": {
        "colab": {
          "base_uri": "https://localhost:8080/"
        },
        "id": "93-GmKmuyLVX",
        "outputId": "bf05a3e4-14bc-420c-bd03-73b3a03453c3"
      },
      "source": [
        "lst = [3, 1, 2, 3]\n",
        "lst.index(1)"
      ],
      "execution_count": null,
      "outputs": [
        {
          "output_type": "execute_result",
          "data": {
            "text/plain": [
              "1"
            ]
          },
          "metadata": {
            "tags": []
          },
          "execution_count": 28
        }
      ]
    },
    {
      "cell_type": "code",
      "metadata": {
        "colab": {
          "base_uri": "https://localhost:8080/"
        },
        "id": "E5V_96V0yS0Y",
        "outputId": "bff644e0-5500-46fd-aa20-d0a146b66b98"
      },
      "source": [
        "lst = [3, 1, 2, 3]\n",
        "lst.index(3)"
      ],
      "execution_count": null,
      "outputs": [
        {
          "output_type": "execute_result",
          "data": {
            "text/plain": [
              "0"
            ]
          },
          "metadata": {
            "tags": []
          },
          "execution_count": 29
        }
      ]
    },
    {
      "cell_type": "code",
      "metadata": {
        "colab": {
          "base_uri": "https://localhost:8080/"
        },
        "id": "2-kRJTzByXRD",
        "outputId": "6e018282-cd9e-4a21-acc9-7138b5017613"
      },
      "source": [
        "lst = [3, 1, 2, 3]\n",
        "lst.count(1)"
      ],
      "execution_count": null,
      "outputs": [
        {
          "output_type": "execute_result",
          "data": {
            "text/plain": [
              "1"
            ]
          },
          "metadata": {
            "tags": []
          },
          "execution_count": 30
        }
      ]
    },
    {
      "cell_type": "code",
      "metadata": {
        "colab": {
          "base_uri": "https://localhost:8080/"
        },
        "id": "jeOEGpRGybGL",
        "outputId": "46b73852-72ed-4783-bce9-26397ed9aebc"
      },
      "source": [
        "lst = [3, 1, 2, 3]\n",
        "lst.count(3)"
      ],
      "execution_count": null,
      "outputs": [
        {
          "output_type": "execute_result",
          "data": {
            "text/plain": [
              "2"
            ]
          },
          "metadata": {
            "tags": []
          },
          "execution_count": 31
        }
      ]
    },
    {
      "cell_type": "markdown",
      "metadata": {
        "id": "QTP1ci-92FNq"
      },
      "source": [
        "## List Operators"
      ]
    },
    {
      "cell_type": "code",
      "metadata": {
        "colab": {
          "base_uri": "https://localhost:8080/"
        },
        "id": "aQjWD7JByc1N",
        "outputId": "3a48d8a7-bb71-4e2a-8e41-67aedccc604d"
      },
      "source": [
        "lst = [3, 1, 2, 3]\n",
        "lst.append(0)\n",
        "lst"
      ],
      "execution_count": null,
      "outputs": [
        {
          "output_type": "execute_result",
          "data": {
            "text/plain": [
              "[3, 1, 2, 3, 0]"
            ]
          },
          "metadata": {
            "tags": []
          },
          "execution_count": 33
        }
      ]
    },
    {
      "cell_type": "code",
      "metadata": {
        "colab": {
          "base_uri": "https://localhost:8080/"
        },
        "id": "1JCGodGIy1F-",
        "outputId": "89e96af5-d482-4863-a726-a88c3bd1b9d5"
      },
      "source": [
        "lst = [3, 1, 2, 3]\n",
        "lst.remove(1)\n",
        "lst"
      ],
      "execution_count": null,
      "outputs": [
        {
          "output_type": "execute_result",
          "data": {
            "text/plain": [
              "[3, 2, 3]"
            ]
          },
          "metadata": {
            "tags": []
          },
          "execution_count": 34
        }
      ]
    },
    {
      "cell_type": "code",
      "metadata": {
        "colab": {
          "base_uri": "https://localhost:8080/"
        },
        "id": "XsG-Mif6y7Mm",
        "outputId": "8c501f47-8006-48a8-f9fa-bb082f2ef8ae"
      },
      "source": [
        "lst = [4, 1, 2, 3]\n",
        "lst.reverse()\n",
        "lst"
      ],
      "execution_count": null,
      "outputs": [
        {
          "output_type": "execute_result",
          "data": {
            "text/plain": [
              "[3, 2, 1, 4]"
            ]
          },
          "metadata": {
            "tags": []
          },
          "execution_count": 37
        }
      ]
    },
    {
      "cell_type": "code",
      "metadata": {
        "colab": {
          "base_uri": "https://localhost:8080/"
        },
        "id": "mFFhVMwdzAu7",
        "outputId": "73aa081b-e06d-4dac-ad6f-2493ac93cf57"
      },
      "source": [
        "lst = [4, 1, 2, 3]\n",
        "lst.sort()\n",
        "lst"
      ],
      "execution_count": null,
      "outputs": [
        {
          "output_type": "execute_result",
          "data": {
            "text/plain": [
              "[1, 2, 3, 4]"
            ]
          },
          "metadata": {
            "tags": []
          },
          "execution_count": 38
        }
      ]
    },
    {
      "cell_type": "code",
      "metadata": {
        "id": "RpoXsOWKzL4L"
      },
      "source": [
        "lst = [4, 1, 2, 3]\n",
        "lst.sort()"
      ],
      "execution_count": null,
      "outputs": []
    },
    {
      "cell_type": "code",
      "metadata": {
        "colab": {
          "base_uri": "https://localhost:8080/"
        },
        "id": "RclmG-XpzPZM",
        "outputId": "38665869-cb02-4587-d20c-a19f65f8c422"
      },
      "source": [
        "lst = [4, 1, 2, 3]\n",
        "lst.extend([0, 0])\n",
        "lst"
      ],
      "execution_count": null,
      "outputs": [
        {
          "output_type": "execute_result",
          "data": {
            "text/plain": [
              "[4, 1, 2, 3, 0, 0]"
            ]
          },
          "metadata": {
            "tags": []
          },
          "execution_count": 40
        }
      ]
    },
    {
      "cell_type": "code",
      "metadata": {
        "colab": {
          "base_uri": "https://localhost:8080/"
        },
        "id": "fxkjetaxzW8r",
        "outputId": "77664389-cb15-46ee-9ae5-1e75ff714a0a"
      },
      "source": [
        "lst = [4, 1, 2, 3]\n",
        "lst.insert(0, 7)\n",
        "lst"
      ],
      "execution_count": null,
      "outputs": [
        {
          "output_type": "execute_result",
          "data": {
            "text/plain": [
              "[7, 4, 1, 2, 3]"
            ]
          },
          "metadata": {
            "tags": []
          },
          "execution_count": 43
        }
      ]
    },
    {
      "cell_type": "code",
      "metadata": {
        "colab": {
          "base_uri": "https://localhost:8080/"
        },
        "id": "CIcAGNdwzgJ6",
        "outputId": "5dc7f774-3cdc-42f4-dc25-296fe5d0611d"
      },
      "source": [
        "lst = [4, 1, 2, 3]\n",
        "lst.insert(1, 7)\n",
        "lst"
      ],
      "execution_count": null,
      "outputs": [
        {
          "output_type": "execute_result",
          "data": {
            "text/plain": [
              "[4, 7, 1, 2, 3]"
            ]
          },
          "metadata": {
            "tags": []
          },
          "execution_count": 44
        }
      ]
    },
    {
      "cell_type": "code",
      "metadata": {
        "colab": {
          "base_uri": "https://localhost:8080/"
        },
        "id": "hwRxL3xpzyKI",
        "outputId": "8725239b-2ee6-4fd1-9890-50f655ba1717"
      },
      "source": [
        "lst = [4, 1, 2, 3]\n",
        "lst.insert(-1, 7)\n",
        "lst"
      ],
      "execution_count": null,
      "outputs": [
        {
          "output_type": "execute_result",
          "data": {
            "text/plain": [
              "[4, 1, 2, 7, 3]"
            ]
          },
          "metadata": {
            "tags": []
          },
          "execution_count": 45
        }
      ]
    },
    {
      "cell_type": "code",
      "metadata": {
        "colab": {
          "base_uri": "https://localhost:8080/"
        },
        "id": "YYUVTDW3z1Ad",
        "outputId": "e05824fa-0cc0-44dc-8d49-7535d4006324"
      },
      "source": [
        "[4, 1, 2, 3] + [7]"
      ],
      "execution_count": null,
      "outputs": [
        {
          "output_type": "execute_result",
          "data": {
            "text/plain": [
              "[4, 1, 2, 3, 7]"
            ]
          },
          "metadata": {
            "tags": []
          },
          "execution_count": 47
        }
      ]
    },
    {
      "cell_type": "code",
      "metadata": {
        "colab": {
          "base_uri": "https://localhost:8080/"
        },
        "id": "rM1nLIJNz-nH",
        "outputId": "6e2962ea-bf65-44dc-85a3-fa4e159e06e2"
      },
      "source": [
        "lst = [4, 7, 1, 2, 3]\n",
        "lst.pop(1)"
      ],
      "execution_count": null,
      "outputs": [
        {
          "output_type": "execute_result",
          "data": {
            "text/plain": [
              "7"
            ]
          },
          "metadata": {
            "tags": []
          },
          "execution_count": 48
        }
      ]
    },
    {
      "cell_type": "code",
      "metadata": {
        "colab": {
          "base_uri": "https://localhost:8080/"
        },
        "id": "iA_2ZlTv0NAr",
        "outputId": "fe056e16-4bfd-4a7c-bab0-5f24e86dcb99"
      },
      "source": [
        "lst"
      ],
      "execution_count": null,
      "outputs": [
        {
          "output_type": "execute_result",
          "data": {
            "text/plain": [
              "[4, 1, 2, 3]"
            ]
          },
          "metadata": {
            "tags": []
          },
          "execution_count": 49
        }
      ]
    },
    {
      "cell_type": "markdown",
      "metadata": {
        "id": "ZeYzr0CE2Vyp"
      },
      "source": [
        "## Dict Operators"
      ]
    },
    {
      "cell_type": "code",
      "metadata": {
        "colab": {
          "base_uri": "https://localhost:8080/"
        },
        "id": "AiFrd0HI0Nq6",
        "outputId": "9c39002e-ecb2-49a5-9279-9ade1e4f78f8"
      },
      "source": [
        "d = {'a': 1, 'b': 2, 'c': 3}\n",
        "d['a']"
      ],
      "execution_count": null,
      "outputs": [
        {
          "output_type": "execute_result",
          "data": {
            "text/plain": [
              "1"
            ]
          },
          "metadata": {
            "tags": []
          },
          "execution_count": 50
        }
      ]
    },
    {
      "cell_type": "code",
      "metadata": {
        "colab": {
          "base_uri": "https://localhost:8080/"
        },
        "id": "wSTUlY2p2gAg",
        "outputId": "51469af5-4902-47f4-ce33-7d8594a2c532"
      },
      "source": [
        "d = {'a': 1, 'b': 2, 'c': 3}\n",
        "d.keys()"
      ],
      "execution_count": null,
      "outputs": [
        {
          "output_type": "execute_result",
          "data": {
            "text/plain": [
              "dict_keys(['a', 'b', 'c'])"
            ]
          },
          "metadata": {
            "tags": []
          },
          "execution_count": 51
        }
      ]
    },
    {
      "cell_type": "code",
      "metadata": {
        "colab": {
          "base_uri": "https://localhost:8080/"
        },
        "id": "R7FjOPiw2jam",
        "outputId": "de7bd1f6-2616-4cd1-8c2d-fb975a5a384f"
      },
      "source": [
        "d = {'a': 1, 'b': 2, 'c': 3}\n",
        "d.values()"
      ],
      "execution_count": null,
      "outputs": [
        {
          "output_type": "execute_result",
          "data": {
            "text/plain": [
              "dict_values([1, 2, 3])"
            ]
          },
          "metadata": {
            "tags": []
          },
          "execution_count": 52
        }
      ]
    },
    {
      "cell_type": "code",
      "metadata": {
        "colab": {
          "base_uri": "https://localhost:8080/"
        },
        "id": "p8bjvKpC2mWn",
        "outputId": "ee0a71d5-ca16-49ea-f459-42bcccc3bf92"
      },
      "source": [
        "d = {'a': 1, 'b': 2, 'c': 3}\n",
        "d.items()"
      ],
      "execution_count": null,
      "outputs": [
        {
          "output_type": "execute_result",
          "data": {
            "text/plain": [
              "dict_items([('a', 1), ('b', 2), ('c', 3)])"
            ]
          },
          "metadata": {
            "tags": []
          },
          "execution_count": 53
        }
      ]
    },
    {
      "cell_type": "code",
      "metadata": {
        "colab": {
          "base_uri": "https://localhost:8080/"
        },
        "id": "NqeeKwxR2pQW",
        "outputId": "05e1edbf-4b84-4b3a-da3b-ff86e06d16b9"
      },
      "source": [
        "d = {'a': 1, 'b': 2, 'c': 3}\n",
        "d.get('a', 7)"
      ],
      "execution_count": null,
      "outputs": [
        {
          "output_type": "execute_result",
          "data": {
            "text/plain": [
              "1"
            ]
          },
          "metadata": {
            "tags": []
          },
          "execution_count": 55
        }
      ]
    },
    {
      "cell_type": "code",
      "metadata": {
        "colab": {
          "base_uri": "https://localhost:8080/"
        },
        "id": "0PoxMUPI2091",
        "outputId": "b07f6148-bcaf-434d-b66f-ef44e303a542"
      },
      "source": [
        "d = {'a': 1, 'b': 2, 'c': 3}\n",
        "d.get('z', 7)"
      ],
      "execution_count": null,
      "outputs": [
        {
          "output_type": "execute_result",
          "data": {
            "text/plain": [
              "7"
            ]
          },
          "metadata": {
            "tags": []
          },
          "execution_count": 56
        }
      ]
    },
    {
      "cell_type": "code",
      "metadata": {
        "colab": {
          "base_uri": "https://localhost:8080/",
          "height": 35
        },
        "id": "oHGLbx8q3HL8",
        "outputId": "f9ce7913-6e40-4360-8b73-c6aedf85e3d1"
      },
      "source": [
        "d = {'a': 1, 'b': 2, 'c': 0}\n",
        "min(d, key=d.get)"
      ],
      "execution_count": null,
      "outputs": [
        {
          "output_type": "execute_result",
          "data": {
            "application/vnd.google.colaboratory.intrinsic+json": {
              "type": "string"
            },
            "text/plain": [
              "'c'"
            ]
          },
          "metadata": {
            "tags": []
          },
          "execution_count": 58
        }
      ]
    },
    {
      "cell_type": "markdown",
      "metadata": {
        "id": "UGRush6V3zK7"
      },
      "source": [
        "removes the item that was last inserted into the dict & returns it"
      ]
    },
    {
      "cell_type": "code",
      "metadata": {
        "colab": {
          "base_uri": "https://localhost:8080/"
        },
        "id": "5ptYdGwH3P0w",
        "outputId": "2bb1938e-a132-4830-d705-08cb827cf942"
      },
      "source": [
        "d = {'a': 1, 'b': 2, 'c': 3}\n",
        "d.popitem()"
      ],
      "execution_count": null,
      "outputs": [
        {
          "output_type": "execute_result",
          "data": {
            "text/plain": [
              "('c', 3)"
            ]
          },
          "metadata": {
            "tags": []
          },
          "execution_count": 61
        }
      ]
    },
    {
      "cell_type": "code",
      "metadata": {
        "colab": {
          "base_uri": "https://localhost:8080/"
        },
        "id": "OmG_bU3O3foy",
        "outputId": "c97931f2-da90-41c5-a142-02adcdd230ca"
      },
      "source": [
        "d"
      ],
      "execution_count": null,
      "outputs": [
        {
          "output_type": "execute_result",
          "data": {
            "text/plain": [
              "{'a': 1, 'b': 2}"
            ]
          },
          "metadata": {
            "tags": []
          },
          "execution_count": 62
        }
      ]
    },
    {
      "cell_type": "code",
      "metadata": {
        "colab": {
          "base_uri": "https://localhost:8080/"
        },
        "id": "eaO49mMu33ep",
        "outputId": "90209712-a466-4ba6-cb1f-c257f1ae44b4"
      },
      "source": [
        "d = {'a': 1, 'b': 2, 'c': 3}\n",
        "d.pop('b')"
      ],
      "execution_count": null,
      "outputs": [
        {
          "output_type": "execute_result",
          "data": {
            "text/plain": [
              "2"
            ]
          },
          "metadata": {
            "tags": []
          },
          "execution_count": 63
        }
      ]
    },
    {
      "cell_type": "code",
      "metadata": {
        "colab": {
          "base_uri": "https://localhost:8080/"
        },
        "id": "DnNl95fR39vb",
        "outputId": "cadfc31b-54d8-4421-e7af-77ae31c20d3b"
      },
      "source": [
        "d"
      ],
      "execution_count": null,
      "outputs": [
        {
          "output_type": "execute_result",
          "data": {
            "text/plain": [
              "{'a': 1, 'c': 3}"
            ]
          },
          "metadata": {
            "tags": []
          },
          "execution_count": 64
        }
      ]
    },
    {
      "cell_type": "markdown",
      "metadata": {
        "id": "pqjSpkLE4H5F"
      },
      "source": [
        "## String Operators"
      ]
    },
    {
      "cell_type": "code",
      "metadata": {
        "colab": {
          "base_uri": "https://localhost:8080/",
          "height": 35
        },
        "id": "aaTTmSzt3-5m",
        "outputId": "3c236e2a-0616-4832-9890-3007f898f888"
      },
      "source": [
        "st = \"abcdefgh\"\n",
        "st.upper()"
      ],
      "execution_count": null,
      "outputs": [
        {
          "output_type": "execute_result",
          "data": {
            "application/vnd.google.colaboratory.intrinsic+json": {
              "type": "string"
            },
            "text/plain": [
              "'ABCDEFGH'"
            ]
          },
          "metadata": {
            "tags": []
          },
          "execution_count": 65
        }
      ]
    },
    {
      "cell_type": "code",
      "metadata": {
        "colab": {
          "base_uri": "https://localhost:8080/",
          "height": 35
        },
        "id": "5zy80Z2v4QYG",
        "outputId": "56dac288-5d56-4959-f3b5-48f623ca92bc"
      },
      "source": [
        "st = \"ABCDEFGH\"\n",
        "st.lower()"
      ],
      "execution_count": null,
      "outputs": [
        {
          "output_type": "execute_result",
          "data": {
            "application/vnd.google.colaboratory.intrinsic+json": {
              "type": "string"
            },
            "text/plain": [
              "'abcdefgh'"
            ]
          },
          "metadata": {
            "tags": []
          },
          "execution_count": 66
        }
      ]
    },
    {
      "cell_type": "code",
      "metadata": {
        "colab": {
          "base_uri": "https://localhost:8080/",
          "height": 35
        },
        "id": "dMsEP04l4U2l",
        "outputId": "46b93767-2da9-4d1e-bedf-f242d61b082b"
      },
      "source": [
        "st = \"this is a test\"\n",
        "st.capitalize()"
      ],
      "execution_count": null,
      "outputs": [
        {
          "output_type": "execute_result",
          "data": {
            "application/vnd.google.colaboratory.intrinsic+json": {
              "type": "string"
            },
            "text/plain": [
              "'This is a test'"
            ]
          },
          "metadata": {
            "tags": []
          },
          "execution_count": 67
        }
      ]
    },
    {
      "cell_type": "code",
      "metadata": {
        "colab": {
          "base_uri": "https://localhost:8080/",
          "height": 35
        },
        "id": "bh5GlWAj4a6g",
        "outputId": "5b64eb1d-fb9f-4e25-9614-336f411a213d"
      },
      "source": [
        "st = \"abcdefgh\"\n",
        "st.replace('e', 'Z')"
      ],
      "execution_count": null,
      "outputs": [
        {
          "output_type": "execute_result",
          "data": {
            "application/vnd.google.colaboratory.intrinsic+json": {
              "type": "string"
            },
            "text/plain": [
              "'abcdZfgh'"
            ]
          },
          "metadata": {
            "tags": []
          },
          "execution_count": 68
        }
      ]
    },
    {
      "cell_type": "code",
      "metadata": {
        "colab": {
          "base_uri": "https://localhost:8080/",
          "height": 35
        },
        "id": "0XP_I2Si4k-M",
        "outputId": "1cb37642-9ccc-401b-c590-4f711f1635c2"
      },
      "source": [
        "st = \"  this is a test  \"\n",
        "st.strip(' ')"
      ],
      "execution_count": null,
      "outputs": [
        {
          "output_type": "execute_result",
          "data": {
            "application/vnd.google.colaboratory.intrinsic+json": {
              "type": "string"
            },
            "text/plain": [
              "'this is a test'"
            ]
          },
          "metadata": {
            "tags": []
          },
          "execution_count": 73
        }
      ]
    },
    {
      "cell_type": "code",
      "metadata": {
        "colab": {
          "base_uri": "https://localhost:8080/",
          "height": 35
        },
        "id": "ZnKHfmn74lo5",
        "outputId": "cd7cc02a-8460-4bfc-cbb2-4b26fa3b0fa1"
      },
      "source": [
        "st = \"this is a test\"\n",
        "st.title()"
      ],
      "execution_count": null,
      "outputs": [
        {
          "output_type": "execute_result",
          "data": {
            "application/vnd.google.colaboratory.intrinsic+json": {
              "type": "string"
            },
            "text/plain": [
              "'This Is A Test'"
            ]
          },
          "metadata": {
            "tags": []
          },
          "execution_count": 74
        }
      ]
    },
    {
      "cell_type": "code",
      "metadata": {
        "colab": {
          "base_uri": "https://localhost:8080/"
        },
        "id": "MXEQGeVv42dI",
        "outputId": "19fb5d97-29d5-4a75-e219-54605f87fc4d"
      },
      "source": [
        "st = \"this is a 1st line\\nthis is a 2nd line\"\n",
        "st.splitlines()"
      ],
      "execution_count": null,
      "outputs": [
        {
          "output_type": "execute_result",
          "data": {
            "text/plain": [
              "['this is a 1st line', 'this is a 2nd line']"
            ]
          },
          "metadata": {
            "tags": []
          },
          "execution_count": 75
        }
      ]
    },
    {
      "cell_type": "code",
      "metadata": {
        "colab": {
          "base_uri": "https://localhost:8080/",
          "height": 35
        },
        "id": "VYOsUC5S4_5m",
        "outputId": "4e40ba3d-0af6-41a1-e6e1-002f08332c42"
      },
      "source": [
        "v = 3.14159\n",
        "f'value of Pi: {v:.2f}'"
      ],
      "execution_count": null,
      "outputs": [
        {
          "output_type": "execute_result",
          "data": {
            "application/vnd.google.colaboratory.intrinsic+json": {
              "type": "string"
            },
            "text/plain": [
              "'value of Pi: 3.14'"
            ]
          },
          "metadata": {
            "tags": []
          },
          "execution_count": 76
        }
      ]
    },
    {
      "cell_type": "code",
      "metadata": {
        "colab": {
          "base_uri": "https://localhost:8080/"
        },
        "id": "PLGNscnm5VEw",
        "outputId": "385eb251-f9f3-40c6-86dc-a876821119c1"
      },
      "source": [
        "name = \"Monica\"\n",
        "name.isalpha()"
      ],
      "execution_count": null,
      "outputs": [
        {
          "output_type": "execute_result",
          "data": {
            "text/plain": [
              "True"
            ]
          },
          "metadata": {
            "tags": []
          },
          "execution_count": 83
        }
      ]
    },
    {
      "cell_type": "code",
      "metadata": {
        "colab": {
          "base_uri": "https://localhost:8080/"
        },
        "id": "SSXjhWNN5gGT",
        "outputId": "1b3bc52f-4e27-4aca-d6f3-b1abac09f55f"
      },
      "source": [
        "# contains whitespace\n",
        "name = \"Monica Geller\"\n",
        "name.isalpha()"
      ],
      "execution_count": null,
      "outputs": [
        {
          "output_type": "execute_result",
          "data": {
            "text/plain": [
              "False"
            ]
          },
          "metadata": {
            "tags": []
          },
          "execution_count": 84
        }
      ]
    },
    {
      "cell_type": "code",
      "metadata": {
        "colab": {
          "base_uri": "https://localhost:8080/"
        },
        "id": "ojM75Kpd5qut",
        "outputId": "8dcaa6c5-170b-4a4e-bf3d-58b03367b795"
      },
      "source": [
        "# contains number\n",
        "name = \"Mo3nicaGell22er\"\n",
        "name.isalpha()"
      ],
      "execution_count": null,
      "outputs": [
        {
          "output_type": "execute_result",
          "data": {
            "text/plain": [
              "False"
            ]
          },
          "metadata": {
            "tags": []
          },
          "execution_count": 85
        }
      ]
    },
    {
      "cell_type": "code",
      "metadata": {
        "colab": {
          "base_uri": "https://localhost:8080/"
        },
        "id": "VyLgCzYN5rgp",
        "outputId": "4d316d73-d3d5-4434-ffbb-1cc2281e46ca"
      },
      "source": [
        "name = \"Mo3nicaGell22er\"\n",
        "name.isalnum()"
      ],
      "execution_count": null,
      "outputs": [
        {
          "output_type": "execute_result",
          "data": {
            "text/plain": [
              "True"
            ]
          },
          "metadata": {
            "tags": []
          },
          "execution_count": 88
        }
      ]
    },
    {
      "cell_type": "code",
      "metadata": {
        "colab": {
          "base_uri": "https://localhost:8080/"
        },
        "id": "mLqqelhC524k",
        "outputId": "a964fcf4-84a3-4ccf-d6da-81f300b093d9"
      },
      "source": [
        "name = \"Mo3nica Gell22er\"\n",
        "name.isalnum()"
      ],
      "execution_count": null,
      "outputs": [
        {
          "output_type": "execute_result",
          "data": {
            "text/plain": [
              "False"
            ]
          },
          "metadata": {
            "tags": []
          },
          "execution_count": 89
        }
      ]
    },
    {
      "cell_type": "markdown",
      "metadata": {
        "id": "tWrHTCsc6FvW"
      },
      "source": [
        "## Loops"
      ]
    },
    {
      "cell_type": "code",
      "metadata": {
        "colab": {
          "base_uri": "https://localhost:8080/"
        },
        "id": "UTibSqMG6BuM",
        "outputId": "7d4515b5-f4fb-47a7-e5cc-bd069eaad4cd"
      },
      "source": [
        "for i in range(0, 3):\n",
        "  print(i**3)"
      ],
      "execution_count": null,
      "outputs": [
        {
          "output_type": "stream",
          "text": [
            "0\n",
            "1\n",
            "8\n"
          ],
          "name": "stdout"
        }
      ]
    },
    {
      "cell_type": "code",
      "metadata": {
        "colab": {
          "base_uri": "https://localhost:8080/"
        },
        "id": "YVtoQ9oo6Nsq",
        "outputId": "96865be7-01db-43c9-b96f-23c8023f9bcc"
      },
      "source": [
        "i = 0\n",
        "while i < 4:\n",
        "  print(i**3)\n",
        "  i += 1"
      ],
      "execution_count": null,
      "outputs": [
        {
          "output_type": "stream",
          "text": [
            "0\n",
            "1\n",
            "8\n",
            "27\n"
          ],
          "name": "stdout"
        }
      ]
    },
    {
      "cell_type": "code",
      "metadata": {
        "id": "5qBY2vrQ6mFf"
      },
      "source": [
        "i = 0\n",
        "while i < nb:\n",
        "  if cond1:\n",
        "    break\n",
        "  elif cond2:\n",
        "    continue\n",
        "  else:\n",
        "    pass\n",
        "  i += 1"
      ],
      "execution_count": null,
      "outputs": []
    },
    {
      "cell_type": "code",
      "metadata": {
        "colab": {
          "base_uri": "https://localhost:8080/"
        },
        "id": "BJ4X8Azi7I6j",
        "outputId": "94785ebc-4e7f-4026-f494-1b3392afff05"
      },
      "source": [
        "st = input(\"Enter your name: \")\n",
        "print(f\"You're name is {st}\", \"test\", sep=\"---\", end=\"___\")"
      ],
      "execution_count": null,
      "outputs": [
        {
          "output_type": "stream",
          "text": [
            "Enter your name: Me\n",
            "You're name is Me---test___"
          ],
          "name": "stdout"
        }
      ]
    },
    {
      "cell_type": "markdown",
      "metadata": {
        "id": "aHhAMrcVBOR0"
      },
      "source": [
        "## Comprehensions"
      ]
    },
    {
      "cell_type": "code",
      "metadata": {
        "colab": {
          "base_uri": "https://localhost:8080/"
        },
        "id": "iwc7wU2Q7i8c",
        "outputId": "d16f8075-befe-4329-e189-d1d9bffda4df"
      },
      "source": [
        "[i for i in range(10) if i%2 == 0]"
      ],
      "execution_count": null,
      "outputs": [
        {
          "output_type": "execute_result",
          "data": {
            "text/plain": [
              "[0, 2, 4, 6, 8]"
            ]
          },
          "metadata": {
            "tags": []
          },
          "execution_count": 98
        }
      ]
    },
    {
      "cell_type": "code",
      "metadata": {
        "colab": {
          "base_uri": "https://localhost:8080/"
        },
        "id": "SlhH7bmgBdYO",
        "outputId": "9a4b59e8-c608-4100-c960-6462c91a09ca"
      },
      "source": [
        "[\"Even\" if i%2==0 else \"Odd\" for i in range(10)]"
      ],
      "execution_count": null,
      "outputs": [
        {
          "output_type": "execute_result",
          "data": {
            "text/plain": [
              "['Even', 'Odd', 'Even', 'Odd', 'Even', 'Odd', 'Even', 'Odd', 'Even', 'Odd']"
            ]
          },
          "metadata": {
            "tags": []
          },
          "execution_count": 100
        }
      ]
    },
    {
      "cell_type": "code",
      "metadata": {
        "colab": {
          "base_uri": "https://localhost:8080/"
        },
        "id": "YUf4UkIBBoqn",
        "outputId": "9ec31133-0e27-4d78-d1d8-9e53efd4b36e"
      },
      "source": [
        "d = {1: 10, 2: 20, 3: 30}\n",
        "{k**2: v+1 for (k, v) in d.items()}"
      ],
      "execution_count": null,
      "outputs": [
        {
          "output_type": "execute_result",
          "data": {
            "text/plain": [
              "{1: 11, 4: 21, 9: 31}"
            ]
          },
          "metadata": {
            "tags": []
          },
          "execution_count": 101
        }
      ]
    },
    {
      "cell_type": "code",
      "metadata": {
        "colab": {
          "base_uri": "https://localhost:8080/"
        },
        "id": "2QhM7JtlCaxt",
        "outputId": "7c22e498-d738-450d-b0f0-b58b290348bd"
      },
      "source": [
        "d = {1: 10, 2: 20, 3: 30}\n",
        "{v: k for (k, v) in d.items()}"
      ],
      "execution_count": null,
      "outputs": [
        {
          "output_type": "execute_result",
          "data": {
            "text/plain": [
              "{10: 1, 20: 2, 30: 3}"
            ]
          },
          "metadata": {
            "tags": []
          },
          "execution_count": 102
        }
      ]
    },
    {
      "cell_type": "code",
      "metadata": {
        "colab": {
          "base_uri": "https://localhost:8080/"
        },
        "id": "ge1wtlMuCowa",
        "outputId": "188ec9bd-e6fd-4e1f-f4e6-f45c36c73d90"
      },
      "source": [
        "lst = [1, 2, 3, 3, 2, 1]\n",
        "{i**2 for i in lst}"
      ],
      "execution_count": null,
      "outputs": [
        {
          "output_type": "execute_result",
          "data": {
            "text/plain": [
              "{1, 4, 9}"
            ]
          },
          "metadata": {
            "tags": []
          },
          "execution_count": 103
        }
      ]
    },
    {
      "cell_type": "markdown",
      "metadata": {
        "id": "mE42EGqXC-eP"
      },
      "source": [
        "## Case, switch statement"
      ]
    },
    {
      "cell_type": "code",
      "metadata": {
        "colab": {
          "base_uri": "https://localhost:8080/",
          "height": 35
        },
        "id": "vNnaEZ4DCy_g",
        "outputId": "f9b252f8-11ef-4d18-bd24-167f6be1a886"
      },
      "source": [
        "def zero():\n",
        "    return \"ZERO\"\n",
        " \n",
        "def one():\n",
        "    return \"ONE\"\n",
        " \n",
        "def two():\n",
        "    return \"TWO\"\n",
        " \n",
        "switcher = {\n",
        "        0: zero,\n",
        "        1: one,\n",
        "        2: two\n",
        "    }\n",
        " \n",
        " \n",
        "def numbers_to_strings(argument):\n",
        "    \"\"\"Returns the func from switcher dic\"\"\"\n",
        "    func = switcher.get(argument, \"nothing\")\n",
        "    return func()\n",
        " \n",
        "numbers_to_strings(1)"
      ],
      "execution_count": null,
      "outputs": [
        {
          "output_type": "execute_result",
          "data": {
            "application/vnd.google.colaboratory.intrinsic+json": {
              "type": "string"
            },
            "text/plain": [
              "'ONE'"
            ]
          },
          "metadata": {
            "tags": []
          },
          "execution_count": 107
        }
      ]
    },
    {
      "cell_type": "code",
      "metadata": {
        "colab": {
          "base_uri": "https://localhost:8080/",
          "height": 35
        },
        "id": "abWg56DZEPVP",
        "outputId": "752174a2-6891-41a9-981e-3b8d235d069b"
      },
      "source": [
        "#changing the switch case\n",
        "switcher[1]=two\n",
        "\n",
        "numbers_to_strings(1)"
      ],
      "execution_count": null,
      "outputs": [
        {
          "output_type": "execute_result",
          "data": {
            "application/vnd.google.colaboratory.intrinsic+json": {
              "type": "string"
            },
            "text/plain": [
              "'TWO'"
            ]
          },
          "metadata": {
            "tags": []
          },
          "execution_count": 108
        }
      ]
    },
    {
      "cell_type": "code",
      "metadata": {
        "colab": {
          "base_uri": "https://localhost:8080/",
          "height": 35
        },
        "id": "stMUGI0PFE5I",
        "outputId": "130e63a3-104e-45ac-d2bb-fb599c564173"
      },
      "source": [
        "switcher[0]()"
      ],
      "execution_count": null,
      "outputs": [
        {
          "output_type": "execute_result",
          "data": {
            "application/vnd.google.colaboratory.intrinsic+json": {
              "type": "string"
            },
            "text/plain": [
              "'ZERO'"
            ]
          },
          "metadata": {
            "tags": []
          },
          "execution_count": 110
        }
      ]
    },
    {
      "cell_type": "markdown",
      "metadata": {
        "id": "YXbOSJTioFth"
      },
      "source": [
        "## Functions"
      ]
    },
    {
      "cell_type": "code",
      "metadata": {
        "id": "fROWXaV1oJy4"
      },
      "source": [
        ""
      ],
      "execution_count": null,
      "outputs": []
    },
    {
      "cell_type": "code",
      "metadata": {
        "id": "a75kYuM_oJgp"
      },
      "source": [
        ""
      ],
      "execution_count": null,
      "outputs": []
    },
    {
      "cell_type": "code",
      "metadata": {
        "colab": {
          "base_uri": "https://localhost:8080/"
        },
        "id": "fB6LV2pAE8Zo",
        "outputId": "0cd7ba12-5192-44c8-c43f-4ed5184073ce"
      },
      "source": [
        "print(\"test\")"
      ],
      "execution_count": null,
      "outputs": [
        {
          "output_type": "stream",
          "text": [
            "test\n"
          ],
          "name": "stdout"
        }
      ]
    },
    {
      "cell_type": "code",
      "metadata": {
        "id": "HAmIzz6-FWaR"
      },
      "source": [
        ""
      ],
      "execution_count": null,
      "outputs": []
    },
    {
      "cell_type": "markdown",
      "metadata": {
        "id": "L4DSaQYlocuJ"
      },
      "source": [
        "## Exceptions\n",
        "\n",
        "Python Built-in Exceptions"
      ]
    },
    {
      "cell_type": "code",
      "metadata": {
        "colab": {
          "base_uri": "https://localhost:8080/"
        },
        "id": "HRDgp_LpoLfx",
        "outputId": "874dd588-3261-4119-9beb-a08c7e076fe8"
      },
      "source": [
        "print(dir(locals()['__builtins__']))"
      ],
      "execution_count": 1,
      "outputs": [
        {
          "output_type": "stream",
          "text": [
            "['ArithmeticError', 'AssertionError', 'AttributeError', 'BaseException', 'BlockingIOError', 'BrokenPipeError', 'BufferError', 'BytesWarning', 'ChildProcessError', 'ConnectionAbortedError', 'ConnectionError', 'ConnectionRefusedError', 'ConnectionResetError', 'DeprecationWarning', 'EOFError', 'Ellipsis', 'EnvironmentError', 'Exception', 'False', 'FileExistsError', 'FileNotFoundError', 'FloatingPointError', 'FutureWarning', 'GeneratorExit', 'IOError', 'ImportError', 'ImportWarning', 'IndentationError', 'IndexError', 'InterruptedError', 'IsADirectoryError', 'KeyError', 'KeyboardInterrupt', 'LookupError', 'MemoryError', 'ModuleNotFoundError', 'NameError', 'None', 'NotADirectoryError', 'NotImplemented', 'NotImplementedError', 'OSError', 'OverflowError', 'PendingDeprecationWarning', 'PermissionError', 'ProcessLookupError', 'RecursionError', 'ReferenceError', 'ResourceWarning', 'RuntimeError', 'RuntimeWarning', 'StopAsyncIteration', 'StopIteration', 'SyntaxError', 'SyntaxWarning', 'SystemError', 'SystemExit', 'TabError', 'TimeoutError', 'True', 'TypeError', 'UnboundLocalError', 'UnicodeDecodeError', 'UnicodeEncodeError', 'UnicodeError', 'UnicodeTranslateError', 'UnicodeWarning', 'UserWarning', 'ValueError', 'Warning', 'ZeroDivisionError', '__IPYTHON__', '__build_class__', '__debug__', '__doc__', '__import__', '__loader__', '__name__', '__package__', '__spec__', 'abs', 'all', 'any', 'ascii', 'bin', 'bool', 'breakpoint', 'bytearray', 'bytes', 'callable', 'chr', 'classmethod', 'compile', 'complex', 'copyright', 'credits', 'delattr', 'dict', 'dir', 'display', 'divmod', 'dreload', 'enumerate', 'eval', 'exec', 'execfile', 'filter', 'float', 'format', 'frozenset', 'get_ipython', 'getattr', 'globals', 'hasattr', 'hash', 'help', 'hex', 'id', 'input', 'int', 'isinstance', 'issubclass', 'iter', 'len', 'license', 'list', 'locals', 'map', 'max', 'memoryview', 'min', 'next', 'object', 'oct', 'open', 'ord', 'pow', 'print', 'property', 'range', 'repr', 'reversed', 'round', 'runfile', 'set', 'setattr', 'slice', 'sorted', 'staticmethod', 'str', 'sum', 'super', 'tuple', 'type', 'vars', 'zip']\n"
          ],
          "name": "stdout"
        }
      ]
    },
    {
      "cell_type": "markdown",
      "metadata": {
        "id": "EBHrFcOBpVbc"
      },
      "source": [
        "How to handle exceptions"
      ]
    },
    {
      "cell_type": "code",
      "metadata": {
        "id": "f0vwmkN_oi1x"
      },
      "source": [
        "try:\n",
        "   # do something\n",
        "except ValueError:\n",
        "   # handle ValueError exception\n",
        "except (TypeError, ZeroDivisionError):\n",
        "   # handle multiple exceptions\n",
        "   # TypeError and ZeroDivisionError\n",
        "except:\n",
        "   # handle all other exceptions\n",
        "else:\n",
        "  # if no exceptoin\n",
        "finally:\n",
        "  # for all cases"
      ],
      "execution_count": null,
      "outputs": []
    },
    {
      "cell_type": "markdown",
      "metadata": {
        "id": "TZ7eu66zpcDA"
      },
      "source": [
        "## Recursive functions"
      ]
    },
    {
      "cell_type": "code",
      "metadata": {
        "colab": {
          "base_uri": "https://localhost:8080/"
        },
        "id": "BaYj-klJpTRg",
        "outputId": "7eaf59af-b2aa-4fad-ba71-1b352270b443"
      },
      "source": [
        "def fact(n):\n",
        "  \"\"\"Calculates the factorial of n\"\"\"\n",
        "  if n == 1:\n",
        "    return 1\n",
        "  else:\n",
        "    return n * fact(n-1)\n",
        "\n",
        "fact(4)"
      ],
      "execution_count": 3,
      "outputs": [
        {
          "output_type": "execute_result",
          "data": {
            "text/plain": [
              "24"
            ]
          },
          "metadata": {
            "tags": []
          },
          "execution_count": 3
        }
      ]
    },
    {
      "cell_type": "code",
      "metadata": {
        "colab": {
          "base_uri": "https://localhost:8080/"
        },
        "id": "lrmuBk4vsfKp",
        "outputId": "76060317-fe8d-4b97-fe65-34921f56bf51"
      },
      "source": [
        "def cum_sum(n):\n",
        "  \"\"\"Calculates the cumulative\"\"\"\n",
        "  if n == 1:\n",
        "    return 1\n",
        "  nb = n\n",
        "  temp = cum_sum(n-1)\n",
        "  return nb + temp\n",
        "\n",
        "cum_sum(4)"
      ],
      "execution_count": 7,
      "outputs": [
        {
          "output_type": "execute_result",
          "data": {
            "text/plain": [
              "10"
            ]
          },
          "metadata": {
            "tags": []
          },
          "execution_count": 7
        }
      ]
    },
    {
      "cell_type": "markdown",
      "metadata": {
        "id": "x2xWdN4OtXGU"
      },
      "source": [
        "## Lambda / map / filter"
      ]
    },
    {
      "cell_type": "code",
      "metadata": {
        "colab": {
          "base_uri": "https://localhost:8080/"
        },
        "id": "WOsSluYZsy3E",
        "outputId": "9e74e1d7-42ce-4739-c8d4-e842072ca742"
      },
      "source": [
        "(lambda x, y: x + y)(2, 3)"
      ],
      "execution_count": 8,
      "outputs": [
        {
          "output_type": "execute_result",
          "data": {
            "text/plain": [
              "5"
            ]
          },
          "metadata": {
            "tags": []
          },
          "execution_count": 8
        }
      ]
    },
    {
      "cell_type": "code",
      "metadata": {
        "colab": {
          "base_uri": "https://localhost:8080/"
        },
        "id": "F5nz2Yzate1K",
        "outputId": "4c2b6c07-1cc5-453c-f339-6029155ee9ec"
      },
      "source": [
        "(lambda x: x**3)(2)"
      ],
      "execution_count": 9,
      "outputs": [
        {
          "output_type": "execute_result",
          "data": {
            "text/plain": [
              "8"
            ]
          },
          "metadata": {
            "tags": []
          },
          "execution_count": 9
        }
      ]
    },
    {
      "cell_type": "code",
      "metadata": {
        "colab": {
          "base_uri": "https://localhost:8080/"
        },
        "id": "aTHMc4Bktjzj",
        "outputId": "1f2bbda5-b81a-4cac-a5cc-b34948a89e8a"
      },
      "source": [
        "high_ord_func = lambda x, func: x + func(x)\n",
        "high_ord_func"
      ],
      "execution_count": 11,
      "outputs": [
        {
          "output_type": "execute_result",
          "data": {
            "text/plain": [
              "<function __main__.<lambda>>"
            ]
          },
          "metadata": {
            "tags": []
          },
          "execution_count": 11
        }
      ]
    },
    {
      "cell_type": "code",
      "metadata": {
        "colab": {
          "base_uri": "https://localhost:8080/"
        },
        "id": "CLZDkAN1tx-h",
        "outputId": "6f4b93cc-a527-4e8d-c0ec-ea6a04a5937d"
      },
      "source": [
        "high_ord_func(5, lambda x: x*x)"
      ],
      "execution_count": 12,
      "outputs": [
        {
          "output_type": "execute_result",
          "data": {
            "text/plain": [
              "30"
            ]
          },
          "metadata": {
            "tags": []
          },
          "execution_count": 12
        }
      ]
    },
    {
      "cell_type": "code",
      "metadata": {
        "colab": {
          "base_uri": "https://localhost:8080/"
        },
        "id": "XrKve8ILt-7g",
        "outputId": "a34e1179-b4ec-4a18-8212-602f1b7ea4dd"
      },
      "source": [
        "def sq(x):\n",
        "  return x**2\n",
        "\n",
        "print(map(sq, [1, 2, 3]))"
      ],
      "execution_count": 21,
      "outputs": [
        {
          "output_type": "stream",
          "text": [
            "<map object at 0x7ff8e5483550>\n"
          ],
          "name": "stdout"
        }
      ]
    },
    {
      "cell_type": "code",
      "metadata": {
        "colab": {
          "base_uri": "https://localhost:8080/"
        },
        "id": "jPtS6dyNu0Eg",
        "outputId": "3aa2cdd6-8a2a-4000-dca0-7289850d734d"
      },
      "source": [
        "list(map(sq, [1, 2, 3]))"
      ],
      "execution_count": 22,
      "outputs": [
        {
          "output_type": "execute_result",
          "data": {
            "text/plain": [
              "[1, 4, 9]"
            ]
          },
          "metadata": {
            "tags": []
          },
          "execution_count": 22
        }
      ]
    },
    {
      "cell_type": "code",
      "metadata": {
        "colab": {
          "base_uri": "https://localhost:8080/"
        },
        "id": "7qZJ3IQZu_JR",
        "outputId": "dcb6ec97-024b-4b42-8d74-9ed490cbcb9b"
      },
      "source": [
        "nb = (1, 2, 3, 4)\n",
        "set((lambda x: x*x, nb))"
      ],
      "execution_count": 23,
      "outputs": [
        {
          "output_type": "execute_result",
          "data": {
            "text/plain": [
              "{(1, 2, 3, 4), <function __main__.<lambda>>}"
            ]
          },
          "metadata": {
            "tags": []
          },
          "execution_count": 23
        }
      ]
    },
    {
      "cell_type": "code",
      "metadata": {
        "colab": {
          "base_uri": "https://localhost:8080/"
        },
        "id": "dvRPYg3uvTjY",
        "outputId": "9893a512-8904-49aa-fc0c-29adac7eb367"
      },
      "source": [
        "nb = (1, 2, 3, 4)\n",
        "res = map(lambda x: x*x, nb)\n",
        "set(res)"
      ],
      "execution_count": 26,
      "outputs": [
        {
          "output_type": "execute_result",
          "data": {
            "text/plain": [
              "{1, 4, 9, 16}"
            ]
          },
          "metadata": {
            "tags": []
          },
          "execution_count": 26
        }
      ]
    },
    {
      "cell_type": "code",
      "metadata": {
        "colab": {
          "base_uri": "https://localhost:8080/"
        },
        "id": "PvwxkOB2uJYK",
        "outputId": "a4efafb6-1919-4b77-ac5c-e8ed0fe37389"
      },
      "source": [
        "a = list(range(10))\n",
        "list(filter(lambda x: x%2 == 0, a))"
      ],
      "execution_count": 28,
      "outputs": [
        {
          "output_type": "execute_result",
          "data": {
            "text/plain": [
              "[0, 2, 4, 6, 8]"
            ]
          },
          "metadata": {
            "tags": []
          },
          "execution_count": 28
        }
      ]
    },
    {
      "cell_type": "code",
      "metadata": {
        "id": "AUW7eMJyuojP"
      },
      "source": [
        ""
      ],
      "execution_count": null,
      "outputs": []
    },
    {
      "cell_type": "markdown",
      "metadata": {
        "id": "-OXbOqrwwGxt"
      },
      "source": [
        "## PEP 8\n",
        "\n",
        "my_function\n",
        "\n",
        "my_var\n",
        "\n",
        "CONSTANT\n",
        "\n",
        "MyClass\n",
        "\n",
        "class_method\n",
        "\n",
        "sum = var + var_bis**3"
      ]
    },
    {
      "cell_type": "markdown",
      "metadata": {
        "id": "tuhIXPSUw1a1"
      },
      "source": [
        "## Files Operation"
      ]
    },
    {
      "cell_type": "code",
      "metadata": {
        "id": "JH_60ZUZwY-f"
      },
      "source": [
        "with open(\"file_path/dir\", \"w/r/a\", encoding='utf8') as f:\n",
        "  for line in f.readlines():\n",
        "    print(line.split(\"car\"), end=' ')"
      ],
      "execution_count": null,
      "outputs": []
    },
    {
      "cell_type": "code",
      "metadata": {
        "id": "awgSQODqxOxz"
      },
      "source": [
        "with open(\"file_path/dir\", \"w/r/a\", encoding='utf8') as f:\n",
        "  data = f.read().splitlines()"
      ],
      "execution_count": null,
      "outputs": []
    },
    {
      "cell_type": "code",
      "metadata": {
        "id": "q0CNe7Z_xOmJ"
      },
      "source": [
        "with open(\"file_path/dir\", \"w/r/a\", encoding='utf8') as f:\n",
        "  ...\n",
        "  f.write() # or\n",
        "  f.writelines()"
      ],
      "execution_count": null,
      "outputs": []
    },
    {
      "cell_type": "markdown",
      "metadata": {
        "id": "nMfo8EgexozP"
      },
      "source": [
        "## Tricks"
      ]
    },
    {
      "cell_type": "code",
      "metadata": {
        "colab": {
          "base_uri": "https://localhost:8080/",
          "height": 35
        },
        "id": "2pRO1O3txKyu",
        "outputId": "7ee71a91-9c4f-4225-8baa-684f007c7086"
      },
      "source": [
        "\"This is a string\"[::-1]"
      ],
      "execution_count": 29,
      "outputs": [
        {
          "output_type": "execute_result",
          "data": {
            "application/vnd.google.colaboratory.intrinsic+json": {
              "type": "string"
            },
            "text/plain": [
              "'gnirts a si sihT'"
            ]
          },
          "metadata": {
            "tags": []
          },
          "execution_count": 29
        }
      ]
    },
    {
      "cell_type": "code",
      "metadata": {
        "colab": {
          "base_uri": "https://localhost:8080/"
        },
        "id": "OS2BjXFZxsy7",
        "outputId": "c2b480d1-957b-4972-f8cf-ef14cd08b6a5"
      },
      "source": [
        "x, y = 0, 10\n",
        "if y == 10: x = 5\n",
        "x "
      ],
      "execution_count": 31,
      "outputs": [
        {
          "output_type": "execute_result",
          "data": {
            "text/plain": [
              "5"
            ]
          },
          "metadata": {
            "tags": []
          },
          "execution_count": 31
        }
      ]
    },
    {
      "cell_type": "code",
      "metadata": {
        "colab": {
          "base_uri": "https://localhost:8080/"
        },
        "id": "XqCcBMjXx0TB",
        "outputId": "0d72cd22-477a-4202-b310-e1510e1d00cb"
      },
      "source": [
        "i = {'a': 1, 'b': 2, 'c': 3}\n",
        "j = {'d': 4, 'e': 5}\n",
        "{**i, **j}"
      ],
      "execution_count": 32,
      "outputs": [
        {
          "output_type": "execute_result",
          "data": {
            "text/plain": [
              "{'a': 1, 'b': 2, 'c': 3, 'd': 4, 'e': 5}"
            ]
          },
          "metadata": {
            "tags": []
          },
          "execution_count": 32
        }
      ]
    },
    {
      "cell_type": "code",
      "metadata": {
        "colab": {
          "base_uri": "https://localhost:8080/"
        },
        "id": "yQl1dc6aySPs",
        "outputId": "6a7a2d31-2e27-413f-c302-6b78bfe4d4fa"
      },
      "source": [
        "import os\n",
        "print(os)"
      ],
      "execution_count": 33,
      "outputs": [
        {
          "output_type": "stream",
          "text": [
            "<module 'os' from '/usr/lib/python3.7/os.py'>\n"
          ],
          "name": "stdout"
        }
      ]
    },
    {
      "cell_type": "code",
      "metadata": {
        "colab": {
          "base_uri": "https://localhost:8080/",
          "height": 35
        },
        "id": "sPN4WnPiyXPS",
        "outputId": "a9f92f3f-528b-48b3-a5f3-ac4a038ee977"
      },
      "source": [
        "y = 10\n",
        "x = 'a' if y == 10 else 'b'\n",
        "x"
      ],
      "execution_count": 34,
      "outputs": [
        {
          "output_type": "execute_result",
          "data": {
            "application/vnd.google.colaboratory.intrinsic+json": {
              "type": "string"
            },
            "text/plain": [
              "'a'"
            ]
          },
          "metadata": {
            "tags": []
          },
          "execution_count": 34
        }
      ]
    },
    {
      "cell_type": "code",
      "metadata": {
        "colab": {
          "base_uri": "https://localhost:8080/",
          "height": 35
        },
        "id": "w67h3Oq3ykAD",
        "outputId": "c9b76d84-bfa5-4d51-e395-544f665b0cc5"
      },
      "source": [
        "y = 10\n",
        "x = 'a' if y != 10 else 'b'\n",
        "x"
      ],
      "execution_count": 35,
      "outputs": [
        {
          "output_type": "execute_result",
          "data": {
            "application/vnd.google.colaboratory.intrinsic+json": {
              "type": "string"
            },
            "text/plain": [
              "'b'"
            ]
          },
          "metadata": {
            "tags": []
          },
          "execution_count": 35
        }
      ]
    },
    {
      "cell_type": "code",
      "metadata": {
        "colab": {
          "base_uri": "https://localhost:8080/"
        },
        "id": "0bzC6Jl7ynHT",
        "outputId": "e7276f2e-6d09-4144-ad9c-71ef73204a6f"
      },
      "source": [
        "lst = ['a', 'b', 'b', 'c', 'c', 'c']\n",
        "freq_dict = {}\n",
        "\n",
        "for i in lst:\n",
        "  if i not in freq_dict.keys():\n",
        "    freq_dict[i] = 1\n",
        "  freq_dict[i] += 1\n",
        "\n",
        "freq_dict"
      ],
      "execution_count": 40,
      "outputs": [
        {
          "output_type": "execute_result",
          "data": {
            "text/plain": [
              "{'a': 2, 'b': 3, 'c': 4}"
            ]
          },
          "metadata": {
            "tags": []
          },
          "execution_count": 40
        }
      ]
    },
    {
      "cell_type": "code",
      "metadata": {
        "colab": {
          "base_uri": "https://localhost:8080/"
        },
        "id": "tCLyxKKczgTh",
        "outputId": "b83d55d6-3f80-4413-daf3-f27c0fc1dc47"
      },
      "source": [
        "from math import cosh\n",
        "help(cosh)"
      ],
      "execution_count": 41,
      "outputs": [
        {
          "output_type": "stream",
          "text": [
            "Help on built-in function cosh in module math:\n",
            "\n",
            "cosh(x, /)\n",
            "    Return the hyperbolic cosine of x.\n",
            "\n"
          ],
          "name": "stdout"
        }
      ]
    },
    {
      "cell_type": "code",
      "metadata": {
        "colab": {
          "base_uri": "https://localhost:8080/",
          "height": 35
        },
        "id": "8YVUz3xm2A5U",
        "outputId": "cc692728-a4b2-4f3a-f48e-35f7f239795d"
      },
      "source": [
        "lst = ['a', 'b', 'b', 'c', 'c', 'c']\n",
        "most_freq = max(set(lst), key=lst.count)\n",
        "most_freq"
      ],
      "execution_count": 47,
      "outputs": [
        {
          "output_type": "execute_result",
          "data": {
            "application/vnd.google.colaboratory.intrinsic+json": {
              "type": "string"
            },
            "text/plain": [
              "'c'"
            ]
          },
          "metadata": {
            "tags": []
          },
          "execution_count": 47
        }
      ]
    },
    {
      "cell_type": "code",
      "metadata": {
        "colab": {
          "base_uri": "https://localhost:8080/",
          "height": 35
        },
        "id": "s7NhCNW12QWm",
        "outputId": "fd95b6c7-fac2-4ebe-e679-89c0bd544877"
      },
      "source": [
        "def most_frequent(List):\n",
        "    return max(set(List), key = List.count)\n",
        "  \n",
        "most_frequent(['a', 'b', 'b', 'c', 'c', 'c'])"
      ],
      "execution_count": 45,
      "outputs": [
        {
          "output_type": "execute_result",
          "data": {
            "application/vnd.google.colaboratory.intrinsic+json": {
              "type": "string"
            },
            "text/plain": [
              "'c'"
            ]
          },
          "metadata": {
            "tags": []
          },
          "execution_count": 45
        }
      ]
    },
    {
      "cell_type": "code",
      "metadata": {
        "colab": {
          "base_uri": "https://localhost:8080/"
        },
        "id": "2viNHRm42alq",
        "outputId": "a7535b6c-bcd6-423b-f401-c39f756ff31a"
      },
      "source": [
        "class Car(object):\n",
        "  def __init__(self, value):\n",
        "    self.property = \"car\"\n",
        "    self.value = value\n",
        "\n",
        "class Plane(object):\n",
        "  def __init__(self, param):\n",
        "    self.property = \"plane\"\n",
        "    self.param = param\n",
        "\n",
        "y == 10\n",
        "x = (Car if y == 10 else Plane)(22)\n",
        "isinstance(x, Car)"
      ],
      "execution_count": 50,
      "outputs": [
        {
          "output_type": "execute_result",
          "data": {
            "text/plain": [
              "True"
            ]
          },
          "metadata": {
            "tags": []
          },
          "execution_count": 50
        }
      ]
    },
    {
      "cell_type": "code",
      "metadata": {
        "colab": {
          "base_uri": "https://localhost:8080/"
        },
        "id": "ymxrQAue3zPD",
        "outputId": "e7ffcb90-e9e3-4401-ecc6-355f86192427"
      },
      "source": [
        "z = (Car if y!= 10 else Plane)(33)\n",
        "z.property, z.param"
      ],
      "execution_count": 51,
      "outputs": [
        {
          "output_type": "execute_result",
          "data": {
            "text/plain": [
              "('plane', 33)"
            ]
          },
          "metadata": {
            "tags": []
          },
          "execution_count": 51
        }
      ]
    },
    {
      "cell_type": "code",
      "metadata": {
        "id": "etye6MAl4PxT"
      },
      "source": [
        ""
      ],
      "execution_count": null,
      "outputs": []
    }
  ]
}