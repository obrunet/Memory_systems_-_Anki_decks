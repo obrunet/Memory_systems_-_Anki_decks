{
 "cells": [
  {
   "cell_type": "markdown",
   "metadata": {
    "id": "6aQT7jRsy-zv"
   },
   "source": [
    "# An exhaustive Python cheat sheet\n",
    "\n",
    "You'll find below a summary of the most important key features of the Python programming language. Its clear syntax is illustrated trough simple examples. I'll probably make an other cheat sheet in the future with a focus on the __Object Oriented__ part of Python and on __functionnal programming__. You can find all of this content in a dedicated anki deck to help you memorizing it.\n",
    "\n",
    "\n",
    "## Design\n",
    "\n",
    "what are the characteristics of the Python programming language ?\n",
    "- interpreted\n",
    "- high-level\n",
    "- philosophy emphasizes on code readability (indentation)\n",
    "- object-oriented\n",
    "- dynamically-typed\n",
    "- garbage-collected\n",
    "- structured (procedural) \n",
    "- functional programming\n",
    "- described as a \"batteries included\""
   ]
  },
  {
   "cell_type": "markdown",
   "metadata": {},
   "source": [
    "### Definitions  \n",
    "Explain what means \"interpreted\" ?  \n",
    "An interpreter is a computer program that directly executes instructions written in a programming or scripting language, without requiring them previously to have been compiled into a machine language program. \n",
    "\n",
    "Explain what means \"high-level\" ?  \n",
    "A high-level programming language is a programming language with strong abstraction from the details of the computer.\n",
    "\n",
    "Explain what means \"object-oriented\" ?  \n",
    "Object Oriented programming (OOP) is a programming paradigm that relies on the concept of classes and objects. It is used to structure a software program into simple, reusable pieces of code blueprints (usually called classes), which are used to create individual instances of objects.\n",
    "\n",
    "Explain what means \"dynamically-typed\" ?  \n",
    "This means that the Python interpreter does type checking only as code runs, and the type of a variable is allowed to change over its lifetime.\n",
    "\n",
    "Explain what means \"garbage-collected\" ?  \n",
    "Garbage collection (GC) is a form of automatic memory management. The garbage collector attempts to reclaim memory which was allocated by the program, but is no longer referenced—also called garbage.\n",
    "\n",
    "Explain what means \"structured (procedural)\" ?   \n",
    "Structured programming is a programming paradigm aimed at improving the clarity, quality, and development time by making extensive use of the structured control flows and repetition, block structures.\n",
    "Procedural programming is an otherparadigm based on the concept of the routine or subroutine(series of computational steps). \n",
    "\n",
    "Explain what means \"functional programming\" ?  \n",
    "Functional programming is a paradigm where programs are constructed by applying and composing functions (rather than a sequence of imperative statements which update the running state of the program).\n",
    "\n",
    "Explain why Python is described as \"batteries included\" ?  \n",
    "This is due to its comprehensive standard library"
   ]
  },
  {
   "cell_type": "markdown",
   "metadata": {},
   "source": [
    "## Basic Types\n",
    "\n",
    "__Boolean__  \n",
    "What are the values of a boolean variable ?"
   ]
  },
  {
   "cell_type": "code",
   "execution_count": null,
   "metadata": {
    "colab": {
     "base_uri": "https://localhost:8080/"
    },
    "id": "jWXiIm5Py-hZ",
    "outputId": "07ed8b64-609a-4248-a02c-789fa21af72a"
   },
   "outputs": [
    {
     "data": {
      "text/plain": [
       "False"
      ]
     },
     "execution_count": 9,
     "metadata": {
      "tags": []
     },
     "output_type": "execute_result"
    }
   ],
   "source": [
    "True\n",
    "False"
   ]
  },
  {
   "cell_type": "markdown",
   "metadata": {
    "id": "EBDdeMIt0US_"
   },
   "source": [
    "__Integers__  \n",
    "Integer values - all kinds, also in binary or hex"
   ]
  },
  {
   "cell_type": "code",
   "execution_count": null,
   "metadata": {
    "colab": {
     "base_uri": "https://localhost:8080/"
    },
    "id": "G66UjsR7zZbE",
    "outputId": "5dbaa831-f7f1-4cfd-adb9-8f1d7f499490"
   },
   "outputs": [
    {
     "data": {
      "text/plain": [
       "243"
      ]
     },
     "execution_count": 4,
     "metadata": {
      "tags": []
     },
     "output_type": "execute_result"
    }
   ],
   "source": [
    "0\n",
    "-192\n",
    "0b010\n",
    "0xF3"
   ]
  },
  {
   "cell_type": "markdown",
   "metadata": {
    "id": "p4V7NeG30Y50"
   },
   "source": [
    "__Strings__   \n",
    "a basic string"
   ]
  },
  {
   "cell_type": "code",
   "execution_count": null,
   "metadata": {
    "colab": {
     "base_uri": "https://localhost:8080/",
     "height": 35
    },
    "id": "kNnUYeL4zmaJ",
    "outputId": "fa4c1747-c2db-4ee8-b4d2-05c397678cee"
   },
   "outputs": [
    {
     "data": {
      "application/vnd.google.colaboratory.intrinsic+json": {
       "type": "string"
      },
      "text/plain": [
       "'One\\tTwo\\nThree'"
      ]
     },
     "execution_count": 10,
     "metadata": {
      "tags": []
     },
     "output_type": "execute_result"
    }
   ],
   "source": [
    "\"One\\tTwo\\nThree\""
   ]
  },
  {
   "cell_type": "markdown",
   "metadata": {
    "id": "JOdj-mJr0dc3"
   },
   "source": [
    "a multiple line string"
   ]
  },
  {
   "cell_type": "code",
   "execution_count": null,
   "metadata": {
    "colab": {
     "base_uri": "https://localhost:8080/",
     "height": 35
    },
    "id": "Knz8FScbzw_G",
    "outputId": "f52420ed-fd4d-454d-f0a8-05a75e92d425"
   },
   "outputs": [
    {
     "data": {
      "application/vnd.google.colaboratory.intrinsic+json": {
       "type": "string"
      },
      "text/plain": [
       "'multiple \\nlines\\nlong\\nstring'"
      ]
     },
     "execution_count": 7,
     "metadata": {
      "tags": []
     },
     "output_type": "execute_result"
    }
   ],
   "source": [
    "\"\"\"multiple \n",
    "lines\n",
    "long\n",
    "string\"\"\""
   ]
  },
  {
   "cell_type": "markdown",
   "metadata": {},
   "source": [
    "a string with a single quote inside"
   ]
  },
  {
   "cell_type": "code",
   "execution_count": null,
   "metadata": {
    "colab": {
     "base_uri": "https://localhost:8080/",
     "height": 35
    },
    "id": "MoQazLguz8X4",
    "outputId": "d9639bad-7d53-4970-b102-e38beec4e2f3"
   },
   "outputs": [
    {
     "data": {
      "application/vnd.google.colaboratory.intrinsic+json": {
       "type": "string"
      },
      "text/plain": [
       "\"I'm\""
      ]
     },
     "execution_count": 6,
     "metadata": {
      "tags": []
     },
     "output_type": "execute_result"
    }
   ],
   "source": [
    "\"I'm\""
   ]
  },
  {
   "cell_type": "markdown",
   "metadata": {},
   "source": [
    "escape a single quote in a string"
   ]
  },
  {
   "cell_type": "code",
   "execution_count": null,
   "metadata": {
    "colab": {
     "base_uri": "https://localhost:8080/",
     "height": 35
    },
    "id": "xd5NfOpD0Afh",
    "outputId": "f6b3b37e-1102-4324-ae27-c5eb11d742d9"
   },
   "outputs": [
    {
     "data": {
      "application/vnd.google.colaboratory.intrinsic+json": {
       "type": "string"
      },
      "text/plain": [
       "\"I'm\""
      ]
     },
     "execution_count": 8,
     "metadata": {
      "tags": []
     },
     "output_type": "execute_result"
    }
   ],
   "source": [
    "'I\\'m'"
   ]
  },
  {
   "cell_type": "markdown",
   "metadata": {
    "id": "PMbiCkxQ1las"
   },
   "source": [
    "## Advanced Types / Containers"
   ]
  },
  {
   "cell_type": "markdown",
   "metadata": {
    "id": "dxnT-t4Q0_Pf"
   },
   "source": [
    "__Lists__  \n",
    "an empty list"
   ]
  },
  {
   "cell_type": "code",
   "execution_count": null,
   "metadata": {
    "colab": {
     "base_uri": "https://localhost:8080/"
    },
    "id": "qN4MQHQ00LIR",
    "outputId": "be18bdc4-4c5b-4ee2-c868-2b86fe7d9d02"
   },
   "outputs": [
    {
     "data": {
      "text/plain": [
       "[]"
      ]
     },
     "execution_count": 11,
     "metadata": {
      "tags": []
     },
     "output_type": "execute_result"
    }
   ],
   "source": [
    "[]"
   ]
  },
  {
   "cell_type": "markdown",
   "metadata": {},
   "source": [
    "a list with various values  "
   ]
  },
  {
   "cell_type": "code",
   "execution_count": null,
   "metadata": {
    "colab": {
     "base_uri": "https://localhost:8080/"
    },
    "id": "nE07iMW302Kd",
    "outputId": "f43cca17-4887-4564-b48c-8a7a90acb180"
   },
   "outputs": [
    {
     "data": {
      "text/plain": [
       "['x', 11, 8.9]"
      ]
     },
     "execution_count": 12,
     "metadata": {
      "tags": []
     },
     "output_type": "execute_result"
    }
   ],
   "source": [
    "['x', 11, 8.9]"
   ]
  },
  {
   "cell_type": "markdown",
   "metadata": {},
   "source": [
    "a list with a single element"
   ]
  },
  {
   "cell_type": "code",
   "execution_count": null,
   "metadata": {
    "colab": {
     "base_uri": "https://localhost:8080/"
    },
    "id": "IgJ6ebXN06Ix",
    "outputId": "b10da79c-d304-425d-8bd8-58b86f8627bd"
   },
   "outputs": [
    {
     "data": {
      "text/plain": [
       "['st']"
      ]
     },
     "execution_count": 13,
     "metadata": {
      "tags": []
     },
     "output_type": "execute_result"
    }
   ],
   "source": [
    "['st']"
   ]
  },
  {
   "cell_type": "markdown",
   "metadata": {
    "id": "yqyn7p081Fan"
   },
   "source": [
    "__Tuples__  \n",
    "an empty tuple"
   ]
  },
  {
   "cell_type": "code",
   "execution_count": null,
   "metadata": {
    "colab": {
     "base_uri": "https://localhost:8080/"
    },
    "id": "QGlKs3yH07uQ",
    "outputId": "53449d09-bf39-4bc6-e40a-3c6f3e485248"
   },
   "outputs": [
    {
     "data": {
      "text/plain": [
       "()"
      ]
     },
     "execution_count": 14,
     "metadata": {
      "tags": []
     },
     "output_type": "execute_result"
    }
   ],
   "source": [
    "()"
   ]
  },
  {
   "cell_type": "markdown",
   "metadata": {},
   "source": [
    "a tuple with various elements"
   ]
  },
  {
   "cell_type": "code",
   "execution_count": null,
   "metadata": {
    "colab": {
     "base_uri": "https://localhost:8080/"
    },
    "id": "tqBBbMFq1G8m",
    "outputId": "a7efdbfd-dcef-40cc-dfa1-d55485e30505"
   },
   "outputs": [
    {
     "data": {
      "text/plain": [
       "(11, 'y', 7.4)"
      ]
     },
     "execution_count": 15,
     "metadata": {
      "tags": []
     },
     "output_type": "execute_result"
    }
   ],
   "source": [
    "11, 'y', 7.4"
   ]
  },
  {
   "cell_type": "markdown",
   "metadata": {},
   "source": [
    "a tuple with a single element"
   ]
  },
  {
   "cell_type": "code",
   "execution_count": null,
   "metadata": {
    "colab": {
     "base_uri": "https://localhost:8080/",
     "height": 35
    },
    "id": "xoyJEwtd1JWg",
    "outputId": "c751eeb6-02c8-4426-b31c-baab74b017f5"
   },
   "outputs": [
    {
     "data": {
      "application/vnd.google.colaboratory.intrinsic+json": {
       "type": "string"
      },
      "text/plain": [
       "'st'"
      ]
     },
     "execution_count": 16,
     "metadata": {
      "tags": []
     },
     "output_type": "execute_result"
    }
   ],
   "source": [
    "('st')"
   ]
  },
  {
   "cell_type": "markdown",
   "metadata": {
    "id": "dGKyjdny1L4q"
   },
   "source": [
    "__Dictionnary__  \n",
    "an empty dictionnary"
   ]
  },
  {
   "cell_type": "code",
   "execution_count": null,
   "metadata": {
    "colab": {
     "base_uri": "https://localhost:8080/"
    },
    "id": "l-kjX-H81KxN",
    "outputId": "21ba051a-a188-4e8c-f332-ec019a8c9dd2"
   },
   "outputs": [
    {
     "data": {
      "text/plain": [
       "{}"
      ]
     },
     "execution_count": 17,
     "metadata": {
      "tags": []
     },
     "output_type": "execute_result"
    }
   ],
   "source": [
    "{}"
   ]
  },
  {
   "cell_type": "markdown",
   "metadata": {},
   "source": [
    "a dictionnary with 2 keys"
   ]
  },
  {
   "cell_type": "code",
   "execution_count": null,
   "metadata": {
    "colab": {
     "base_uri": "https://localhost:8080/"
    },
    "id": "6PVz63cd1Ovw",
    "outputId": "b4f26b61-9575-4612-eb0c-935144df13f0"
   },
   "outputs": [
    {
     "data": {
      "text/plain": [
       "{1: 'one', 'two': 2}"
      ]
     },
     "execution_count": 18,
     "metadata": {
      "tags": []
     },
     "output_type": "execute_result"
    }
   ],
   "source": [
    "{1: 'one', 'two': 2}"
   ]
  },
  {
   "cell_type": "markdown",
   "metadata": {
    "id": "Sl88TP5a1Ve9"
   },
   "source": [
    "__Set__  \n",
    "a set with various elements"
   ]
  },
  {
   "cell_type": "code",
   "execution_count": null,
   "metadata": {
    "colab": {
     "base_uri": "https://localhost:8080/"
    },
    "id": "_4ezrBh51Tqw",
    "outputId": "399b1f97-615d-424b-dffc-3038347a08d9"
   },
   "outputs": [
    {
     "data": {
      "text/plain": [
       "{1, 2, 3}"
      ]
     },
     "execution_count": 19,
     "metadata": {
      "tags": []
     },
     "output_type": "execute_result"
    }
   ],
   "source": [
    "{1, 1, 2, 3}"
   ]
  },
  {
   "cell_type": "markdown",
   "metadata": {
    "id": "e_XxBm4g1o8X"
   },
   "source": [
    "__Type conversion__  \n",
    "convert a flot to an integer"
   ]
  },
  {
   "cell_type": "code",
   "execution_count": null,
   "metadata": {
    "colab": {
     "base_uri": "https://localhost:8080/"
    },
    "id": "G48_8QGI1eES",
    "outputId": "7fec9988-36d2-4348-ffe2-8a8fa4320c2d"
   },
   "outputs": [
    {
     "data": {
      "text/plain": [
       "1"
      ]
     },
     "execution_count": 20,
     "metadata": {
      "tags": []
     },
     "output_type": "execute_result"
    }
   ],
   "source": [
    "int(1.2)"
   ]
  },
  {
   "cell_type": "markdown",
   "metadata": {},
   "source": [
    "convert an integer to a float"
   ]
  },
  {
   "cell_type": "code",
   "execution_count": null,
   "metadata": {
    "colab": {
     "base_uri": "https://localhost:8080/"
    },
    "id": "k7wXDYN_1rXF",
    "outputId": "1d435c66-3f1b-4385-8ff6-06a3d8cba43e"
   },
   "outputs": [
    {
     "data": {
      "text/plain": [
       "1.0"
      ]
     },
     "execution_count": 21,
     "metadata": {
      "tags": []
     },
     "output_type": "execute_result"
    }
   ],
   "source": [
    "float(1)"
   ]
  },
  {
   "cell_type": "markdown",
   "metadata": {},
   "source": [
    "convert an integer to a boolean of value True"
   ]
  },
  {
   "cell_type": "code",
   "execution_count": null,
   "metadata": {
    "colab": {
     "base_uri": "https://localhost:8080/"
    },
    "id": "wgfbkZVz1s0W",
    "outputId": "44f7c551-900a-40f6-ea2a-7e14757bf920"
   },
   "outputs": [
    {
     "data": {
      "text/plain": [
       "True"
      ]
     },
     "execution_count": 22,
     "metadata": {
      "tags": []
     },
     "output_type": "execute_result"
    }
   ],
   "source": [
    "bool(1)"
   ]
  },
  {
   "cell_type": "code",
   "execution_count": null,
   "metadata": {
    "colab": {
     "base_uri": "https://localhost:8080/"
    },
    "id": "O-zzCDhn1vg9",
    "outputId": "a5125189-deb9-4ab2-e62e-031a5b5a12dc"
   },
   "outputs": [
    {
     "data": {
      "text/plain": [
       "True"
      ]
     },
     "execution_count": 23,
     "metadata": {
      "tags": []
     },
     "output_type": "execute_result"
    }
   ],
   "source": [
    "bool(2)"
   ]
  },
  {
   "cell_type": "markdown",
   "metadata": {},
   "source": [
    "convert an integer to a boolean of value False"
   ]
  },
  {
   "cell_type": "code",
   "execution_count": null,
   "metadata": {
    "colab": {
     "base_uri": "https://localhost:8080/"
    },
    "id": "EIebWbCM1wNJ",
    "outputId": "4778d26f-1a5d-4e06-825e-c49d981ffa9a"
   },
   "outputs": [
    {
     "data": {
      "text/plain": [
       "False"
      ]
     },
     "execution_count": 24,
     "metadata": {
      "tags": []
     },
     "output_type": "execute_result"
    }
   ],
   "source": [
    "bool(0)"
   ]
  },
  {
   "cell_type": "markdown",
   "metadata": {},
   "source": [
    "convert an integer to a string"
   ]
  },
  {
   "cell_type": "code",
   "execution_count": null,
   "metadata": {
    "colab": {
     "base_uri": "https://localhost:8080/",
     "height": 35
    },
    "id": "RcOa55bB1w4M",
    "outputId": "dc159422-270c-432e-824a-83c894331733"
   },
   "outputs": [
    {
     "data": {
      "application/vnd.google.colaboratory.intrinsic+json": {
       "type": "string"
      },
      "text/plain": [
       "'123'"
      ]
     },
     "execution_count": 25,
     "metadata": {
      "tags": []
     },
     "output_type": "execute_result"
    }
   ],
   "source": [
    "str(123)"
   ]
  },
  {
   "cell_type": "markdown",
   "metadata": {},
   "source": [
    "convert a boolean to a string"
   ]
  },
  {
   "cell_type": "code",
   "execution_count": null,
   "metadata": {
    "colab": {
     "base_uri": "https://localhost:8080/",
     "height": 35
    },
    "id": "UOUEwzCe10LS",
    "outputId": "baf23db6-9715-43bc-97e0-dc3be64d9d9f"
   },
   "outputs": [
    {
     "data": {
      "application/vnd.google.colaboratory.intrinsic+json": {
       "type": "string"
      },
      "text/plain": [
       "'True'"
      ]
     },
     "execution_count": 26,
     "metadata": {
      "tags": []
     },
     "output_type": "execute_result"
    }
   ],
   "source": [
    "str(True)"
   ]
  },
  {
   "cell_type": "markdown",
   "metadata": {},
   "source": [
    "convert a set to a list"
   ]
  },
  {
   "cell_type": "code",
   "execution_count": null,
   "metadata": {
    "colab": {
     "base_uri": "https://localhost:8080/"
    },
    "id": "79B0XpMA13wU",
    "outputId": "5ab16531-b02b-4bdc-bda1-fbde7298986e"
   },
   "outputs": [
    {
     "data": {
      "text/plain": [
       "[1, 2, 3]"
      ]
     },
     "execution_count": 27,
     "metadata": {
      "tags": []
     },
     "output_type": "execute_result"
    }
   ],
   "source": [
    "list({1 ,2, 3})"
   ]
  },
  {
   "cell_type": "markdown",
   "metadata": {},
   "source": [
    "convert a string to a list"
   ]
  },
  {
   "cell_type": "code",
   "execution_count": null,
   "metadata": {
    "colab": {
     "base_uri": "https://localhost:8080/"
    },
    "id": "3VLvVu4t19b9",
    "outputId": "48d9b033-8eba-485a-ab4f-e9505e877c39"
   },
   "outputs": [
    {
     "data": {
      "text/plain": [
       "['a', 'd', 'f', 's']"
      ]
     },
     "execution_count": 28,
     "metadata": {
      "tags": []
     },
     "output_type": "execute_result"
    }
   ],
   "source": [
    "list(\"adfs\")"
   ]
  },
  {
   "cell_type": "markdown",
   "metadata": {},
   "source": [
    "convert a list to a string"
   ]
  },
  {
   "cell_type": "code",
   "execution_count": null,
   "metadata": {
    "colab": {
     "base_uri": "https://localhost:8080/"
    },
    "id": "e1dU-k5h1_fM",
    "outputId": "eff3e940-92e0-4ccc-e7a2-6653df85306d"
   },
   "outputs": [
    {
     "data": {
      "text/plain": [
       "['I', \"'\", 'l', 'o', 'v', 'e', ' ', 'u!']"
      ]
     },
     "execution_count": 32,
     "metadata": {
      "tags": []
     },
     "output_type": "execute_result"
    }
   ],
   "source": [
    "my_list = ['I', \"'\", 'l', 'o', 'v', 'e', ' ', 'u!']\n",
    "my_list"
   ]
  },
  {
   "cell_type": "code",
   "execution_count": null,
   "metadata": {
    "colab": {
     "base_uri": "https://localhost:8080/",
     "height": 35
    },
    "id": "vKzZ0ccX2Dz7",
    "outputId": "b4883460-1c48-449a-f6bf-6623fd987e1f"
   },
   "outputs": [
    {
     "data": {
      "application/vnd.google.colaboratory.intrinsic+json": {
       "type": "string"
      },
      "text/plain": [
       "\"I'love u!\""
      ]
     },
     "execution_count": 33,
     "metadata": {
      "tags": []
     },
     "output_type": "execute_result"
    }
   ],
   "source": [
    "''.join(my_list)"
   ]
  },
  {
   "cell_type": "markdown",
   "metadata": {
    "id": "Wi-eFC5O2t4T"
   },
   "source": [
    "__Iterables objects - properties__  \n",
    "\n",
    "- | List | Tuple | Set | Dict\n",
    "---|---|---|---|---\n",
    "symbol|[,]|(,)|{,}|{k: v,}\n",
    "type|ordered|ordered|unordered|unordered\n",
    "access|index|index|value|key\n",
    "property|mutable|immutable|unique values|keys/values\n",
    "\n",
    "\n",
    "---\n",
    "\n"
   ]
  },
  {
   "cell_type": "markdown",
   "metadata": {
    "id": "Zqor0jju4K4y"
   },
   "source": [
    "## Assignements"
   ]
  },
  {
   "cell_type": "markdown",
   "metadata": {},
   "source": [
    "multiple assignement of the same value to 3 different variables"
   ]
  },
  {
   "cell_type": "code",
   "execution_count": null,
   "metadata": {
    "colab": {
     "base_uri": "https://localhost:8080/"
    },
    "id": "MKk3VZLE2hNl",
    "outputId": "bca4c5f3-dfaa-4e8b-a02f-e0c76b66b942"
   },
   "outputs": [
    {
     "data": {
      "text/plain": [
       "(1, 0)"
      ]
     },
     "execution_count": 34,
     "metadata": {
      "tags": []
     },
     "output_type": "execute_result"
    }
   ],
   "source": [
    "a = b = c = 0\n",
    "a +=1\n",
    "a, b"
   ]
  },
  {
   "cell_type": "markdown",
   "metadata": {},
   "source": [
    "assign 2 different values to 2 differents variables in one line"
   ]
  },
  {
   "cell_type": "code",
   "execution_count": null,
   "metadata": {
    "colab": {
     "base_uri": "https://localhost:8080/"
    },
    "id": "O8ZCdp2x4R1U",
    "outputId": "43e01c2d-e4b2-4064-8b12-fbe4fde46b00"
   },
   "outputs": [
    {
     "data": {
      "text/plain": [
       "(1, 2)"
      ]
     },
     "execution_count": 38,
     "metadata": {
      "tags": []
     },
     "output_type": "execute_result"
    }
   ],
   "source": [
    "a, b = 1, 2\n",
    "a, b"
   ]
  },
  {
   "cell_type": "markdown",
   "metadata": {},
   "source": [
    "swap 2 variables' values"
   ]
  },
  {
   "cell_type": "code",
   "execution_count": null,
   "metadata": {
    "colab": {
     "base_uri": "https://localhost:8080/"
    },
    "id": "6feUd6V54V0i",
    "outputId": "8cb3bbba-62f9-416a-d1fb-469ee8c2cc03"
   },
   "outputs": [
    {
     "data": {
      "text/plain": [
       "(8, 2)"
      ]
     },
     "execution_count": 36,
     "metadata": {
      "tags": []
     },
     "output_type": "execute_result"
    }
   ],
   "source": [
    "a, b = 2, 8\n",
    "a, b = b, a\n",
    "a, b"
   ]
  },
  {
   "cell_type": "markdown",
   "metadata": {},
   "source": [
    "list unpacking"
   ]
  },
  {
   "cell_type": "code",
   "execution_count": null,
   "metadata": {
    "colab": {
     "base_uri": "https://localhost:8080/"
    },
    "id": "SevZiNeL4dFX",
    "outputId": "89d01b54-989c-4a11-f6f5-c071ade90eb1"
   },
   "outputs": [
    {
     "data": {
      "text/plain": [
       "(10, 20)"
      ]
     },
     "execution_count": 37,
     "metadata": {
      "tags": []
     },
     "output_type": "execute_result"
    }
   ],
   "source": [
    "x, *y, z = (10, 'a', 'b', 'b', 'c', 'd', 20)\n",
    "x, z"
   ]
  },
  {
   "cell_type": "markdown",
   "metadata": {},
   "source": [
    "string unpacking"
   ]
  },
  {
   "cell_type": "code",
   "execution_count": null,
   "metadata": {
    "colab": {
     "base_uri": "https://localhost:8080/"
    },
    "id": "XSwfly0r4rml",
    "outputId": "eae2a6d6-6e66-4c28-fdf6-09e6dbcc0194"
   },
   "outputs": [
    {
     "data": {
      "text/plain": [
       "('a', 'b')"
      ]
     },
     "execution_count": 39,
     "metadata": {
      "tags": []
     },
     "output_type": "execute_result"
    }
   ],
   "source": [
    "i, j = 'ab'\n",
    "i, j"
   ]
  },
  {
   "cell_type": "markdown",
   "metadata": {},
   "source": [
    "get the last line of a log"
   ]
  },
  {
   "cell_type": "code",
   "execution_count": null,
   "metadata": {
    "colab": {
     "base_uri": "https://localhost:8080/",
     "height": 35
    },
    "id": "Y7Ng-zug4zoA",
    "outputId": "1ccd7a70-36ea-4525-8097-2ba7e814787a"
   },
   "outputs": [
    {
     "data": {
      "application/vnd.google.colaboratory.intrinsic+json": {
       "type": "string"
      },
      "text/plain": [
       "'# UNCONFIGURED FSTAB FOR BASE SYSTEM\\n'"
      ]
     },
     "execution_count": 41,
     "metadata": {
      "tags": []
     },
     "output_type": "execute_result"
    }
   ],
   "source": [
    "*content, last_line = open('/etc/fstab')\n",
    "last_line"
   ]
  },
  {
   "cell_type": "markdown",
   "metadata": {},
   "source": [
    "decrement a variable"
   ]
  },
  {
   "cell_type": "code",
   "execution_count": null,
   "metadata": {
    "colab": {
     "base_uri": "https://localhost:8080/"
    },
    "id": "-6Hs1AuL47d9",
    "outputId": "b35ad4a5-87b1-4692-ae4d-9c6636a36187"
   },
   "outputs": [
    {
     "data": {
      "text/plain": [
       "-1"
      ]
     },
     "execution_count": 42,
     "metadata": {
      "tags": []
     },
     "output_type": "execute_result"
    }
   ],
   "source": [
    "a = 0\n",
    "a -= 1\n",
    "a"
   ]
  },
  {
   "cell_type": "markdown",
   "metadata": {},
   "source": [
    "find the remainder of a division"
   ]
  },
  {
   "cell_type": "code",
   "execution_count": null,
   "metadata": {
    "colab": {
     "base_uri": "https://localhost:8080/"
    },
    "id": "mC4Ybtp36CzL",
    "outputId": "5a0b932c-eefb-4c61-9813-c49464d6a6ec"
   },
   "outputs": [
    {
     "data": {
      "text/plain": [
       "1"
      ]
     },
     "execution_count": 43,
     "metadata": {
      "tags": []
     },
     "output_type": "execute_result"
    }
   ],
   "source": [
    "a = 16\n",
    "a %= 5\n",
    "a"
   ]
  },
  {
   "cell_type": "markdown",
   "metadata": {},
   "source": [
    "find the result of a division"
   ]
  },
  {
   "cell_type": "code",
   "execution_count": null,
   "metadata": {
    "colab": {
     "base_uri": "https://localhost:8080/"
    },
    "id": "LorAM5bj6LYV",
    "outputId": "cfb114f3-dd7c-4a35-806d-c32f6c36c4c5"
   },
   "outputs": [
    {
     "data": {
      "text/plain": [
       "3.2"
      ]
     },
     "execution_count": 44,
     "metadata": {
      "tags": []
     },
     "output_type": "execute_result"
    }
   ],
   "source": [
    "a = 16\n",
    "a /= 5\n",
    "a"
   ]
  },
  {
   "cell_type": "markdown",
   "metadata": {},
   "source": [
    "calculate the quotient of a division"
   ]
  },
  {
   "cell_type": "code",
   "execution_count": null,
   "metadata": {
    "colab": {
     "base_uri": "https://localhost:8080/"
    },
    "id": "iEey5bwx6S5R",
    "outputId": "7dc44ec6-a763-4c6a-fd04-18150e1bc602"
   },
   "outputs": [
    {
     "data": {
      "text/plain": [
       "3"
      ]
     },
     "execution_count": 45,
     "metadata": {
      "tags": []
     },
     "output_type": "execute_result"
    }
   ],
   "source": [
    "a = 16\n",
    "a //= 5\n",
    "a"
   ]
  },
  {
   "cell_type": "markdown",
   "metadata": {},
   "source": [
    "delete a variable"
   ]
  },
  {
   "cell_type": "code",
   "execution_count": null,
   "metadata": {
    "colab": {
     "base_uri": "https://localhost:8080/",
     "height": 195
    },
    "id": "tMN85q7Z6Uhq",
    "outputId": "166a5a99-de8a-47e9-ab4d-78bc88712690"
   },
   "outputs": [
    {
     "ename": "NameError",
     "evalue": "ignored",
     "output_type": "error",
     "traceback": [
      "\u001b[0;31m---------------------------------------------------------------------------\u001b[0m",
      "\u001b[0;31mNameError\u001b[0m                                 Traceback (most recent call last)",
      "\u001b[0;32m<ipython-input-46-c1e82bdf26d0>\u001b[0m in \u001b[0;36m<module>\u001b[0;34m()\u001b[0m\n\u001b[1;32m      1\u001b[0m \u001b[0ma\u001b[0m \u001b[0;34m=\u001b[0m \u001b[0;36m0\u001b[0m\u001b[0;34m\u001b[0m\u001b[0;34m\u001b[0m\u001b[0m\n\u001b[1;32m      2\u001b[0m \u001b[0;32mdel\u001b[0m \u001b[0ma\u001b[0m\u001b[0;34m\u001b[0m\u001b[0;34m\u001b[0m\u001b[0m\n\u001b[0;32m----> 3\u001b[0;31m \u001b[0ma\u001b[0m\u001b[0;34m\u001b[0m\u001b[0;34m\u001b[0m\u001b[0m\n\u001b[0m",
      "\u001b[0;31mNameError\u001b[0m: name 'a' is not defined"
     ]
    }
   ],
   "source": [
    "a = 0\n",
    "del a\n",
    "a"
   ]
  },
  {
   "cell_type": "markdown",
   "metadata": {},
   "source": [
    "delete a user-defined objects, lists etc"
   ]
  },
  {
   "cell_type": "code",
   "execution_count": 10,
   "metadata": {},
   "outputs": [
    {
     "ename": "NameError",
     "evalue": "name 'a' is not defined",
     "output_type": "error",
     "traceback": [
      "\u001b[1;31m---------------------------------------------------------------------------\u001b[0m",
      "\u001b[1;31mNameError\u001b[0m                                 Traceback (most recent call last)",
      "\u001b[1;32m<ipython-input-10-4d62949f80bf>\u001b[0m in \u001b[0;36m<module>\u001b[1;34m\u001b[0m\n\u001b[0;32m      1\u001b[0m \u001b[0ma\u001b[0m\u001b[1;33m,\u001b[0m \u001b[0ml\u001b[0m \u001b[1;33m=\u001b[0m \u001b[1;36m1\u001b[0m\u001b[1;33m,\u001b[0m \u001b[1;33m[\u001b[0m\u001b[1;36m1\u001b[0m\u001b[1;33m,\u001b[0m \u001b[1;36m2\u001b[0m\u001b[1;33m,\u001b[0m \u001b[1;36m3\u001b[0m\u001b[1;33m]\u001b[0m\u001b[1;33m\u001b[0m\u001b[1;33m\u001b[0m\u001b[0m\n\u001b[0;32m      2\u001b[0m \u001b[1;32mdel\u001b[0m \u001b[0ma\u001b[0m\u001b[1;33m,\u001b[0m \u001b[0ml\u001b[0m\u001b[1;33m\u001b[0m\u001b[1;33m\u001b[0m\u001b[0m\n\u001b[1;32m----> 3\u001b[1;33m \u001b[0ma\u001b[0m\u001b[1;33m,\u001b[0m \u001b[0ml\u001b[0m\u001b[1;33m\u001b[0m\u001b[1;33m\u001b[0m\u001b[0m\n\u001b[0m",
      "\u001b[1;31mNameError\u001b[0m: name 'a' is not defined"
     ]
    }
   ],
   "source": [
    "a, l = 1, [1, 2, 3]\n",
    "del a, l\n",
    "a, l"
   ]
  },
  {
   "cell_type": "markdown",
   "metadata": {},
   "source": [
    "delete items within lists, dictionaries"
   ]
  },
  {
   "cell_type": "code",
   "execution_count": 7,
   "metadata": {},
   "outputs": [
    {
     "data": {
      "text/plain": [
       "[1, 3]"
      ]
     },
     "execution_count": 7,
     "metadata": {},
     "output_type": "execute_result"
    }
   ],
   "source": [
    "l = [1, 2, 3]\n",
    "del l[1]\n",
    "l"
   ]
  },
  {
   "cell_type": "markdown",
   "metadata": {},
   "source": [
    "last value used by the interpreter"
   ]
  },
  {
   "cell_type": "code",
   "execution_count": 1,
   "metadata": {},
   "outputs": [
    {
     "data": {
      "text/plain": [
       "10"
      ]
     },
     "execution_count": 1,
     "metadata": {},
     "output_type": "execute_result"
    }
   ],
   "source": [
    "10"
   ]
  },
  {
   "cell_type": "code",
   "execution_count": 2,
   "metadata": {},
   "outputs": [
    {
     "data": {
      "text/plain": [
       "10"
      ]
     },
     "execution_count": 2,
     "metadata": {},
     "output_type": "execute_result"
    }
   ],
   "source": [
    "_"
   ]
  },
  {
   "cell_type": "markdown",
   "metadata": {
    "id": "FdXQLiUp6dl8"
   },
   "source": [
    "ignore a specific value"
   ]
  },
  {
   "cell_type": "code",
   "execution_count": 4,
   "metadata": {
    "colab": {
     "base_uri": "https://localhost:8080/"
    },
    "id": "ncv875Sz6dOn",
    "outputId": "6432cb3e-710d-4dbe-9f1e-9353c4375ac5"
   },
   "outputs": [
    {
     "data": {
      "text/plain": [
       "2"
      ]
     },
     "execution_count": 4,
     "metadata": {},
     "output_type": "execute_result"
    }
   ],
   "source": [
    "a, _, b = (1, 2, 3)\n",
    "_"
   ]
  },
  {
   "cell_type": "markdown",
   "metadata": {
    "id": "FdXQLiUp6dl8"
   },
   "source": [
    "ignore specific values"
   ]
  },
  {
   "cell_type": "code",
   "execution_count": 5,
   "metadata": {
    "colab": {
     "base_uri": "https://localhost:8080/"
    },
    "id": "ncv875Sz6dOn",
    "outputId": "6432cb3e-710d-4dbe-9f1e-9353c4375ac5"
   },
   "outputs": [
    {
     "data": {
      "text/plain": [
       "[2, 3, 4]"
      ]
     },
     "execution_count": 5,
     "metadata": {},
     "output_type": "execute_result"
    }
   ],
   "source": [
    "a, *_, b = (1, 2, 3, 4, 5)\n",
    "_"
   ]
  },
  {
   "cell_type": "markdown",
   "metadata": {
    "id": "1CMs5Mgj618X"
   },
   "source": [
    "## Calculation / Operators  \n",
    "\"+   -   *   /   **   %   //   ~\""
   ]
  },
  {
   "cell_type": "markdown",
   "metadata": {},
   "source": [
    "complementary"
   ]
  },
  {
   "cell_type": "code",
   "execution_count": null,
   "metadata": {
    "colab": {
     "base_uri": "https://localhost:8080/"
    },
    "id": "Ov2SxWmt6Y_H",
    "outputId": "705423bf-d480-4664-ce33-c917e9a31a82"
   },
   "outputs": [
    {
     "data": {
      "text/plain": [
       "-2"
      ]
     },
     "execution_count": 50,
     "metadata": {
      "tags": []
     },
     "output_type": "execute_result"
    }
   ],
   "source": [
    "~1"
   ]
  },
  {
   "cell_type": "markdown",
   "metadata": {
    "id": "8wUgvtCE7k24"
   },
   "source": [
    "check if two objects are the same object:"
   ]
  },
  {
   "cell_type": "code",
   "execution_count": null,
   "metadata": {
    "colab": {
     "base_uri": "https://localhost:8080/"
    },
    "id": "gYEDBVVq6yS4",
    "outputId": "1e63a67d-95d6-4f0b-a0ee-b473e72a23ec"
   },
   "outputs": [
    {
     "data": {
      "text/plain": [
       "True"
      ]
     },
     "execution_count": 54,
     "metadata": {
      "tags": []
     },
     "output_type": "execute_result"
    }
   ],
   "source": [
    "a = 'test'\n",
    "b = a\n",
    "a is b"
   ]
  },
  {
   "cell_type": "markdown",
   "metadata": {
    "id": "kDo2kuAQ9K-e"
   },
   "source": [
    "test if two objects that are equal, but not the same object:"
   ]
  },
  {
   "cell_type": "code",
   "execution_count": 12,
   "metadata": {
    "colab": {
     "base_uri": "https://localhost:8080/"
    },
    "id": "QsSnE0II8K4W",
    "outputId": "f71fa6b1-23c0-424f-f13a-d6131219d3b0"
   },
   "outputs": [
    {
     "data": {
      "text/plain": [
       "False"
      ]
     },
     "execution_count": 12,
     "metadata": {},
     "output_type": "execute_result"
    }
   ],
   "source": [
    "x = [\"apple\", \"banana\", \"cherry\"]\n",
    "y = [\"apple\", \"banana\", \"cherry\"]\n",
    "x is y"
   ]
  },
  {
   "cell_type": "code",
   "execution_count": 13,
   "metadata": {},
   "outputs": [
    {
     "data": {
      "text/plain": [
       "True"
      ]
     },
     "execution_count": 13,
     "metadata": {},
     "output_type": "execute_result"
    }
   ],
   "source": [
    "x is not y"
   ]
  },
  {
   "cell_type": "markdown",
   "metadata": {
    "id": "kDo2kuAQ9K-e"
   },
   "source": [
    "test if two objects are not the same object:"
   ]
  },
  {
   "cell_type": "code",
   "execution_count": null,
   "metadata": {
    "colab": {
     "base_uri": "https://localhost:8080/"
    },
    "id": "UZj2168z7S4d",
    "outputId": "aa1d025c-30bc-48c0-dd38-61f7694b394c"
   },
   "outputs": [
    {
     "data": {
      "text/plain": [
       "True"
      ]
     },
     "execution_count": 56,
     "metadata": {
      "tags": []
     },
     "output_type": "execute_result"
    }
   ],
   "source": [
    "a = 'test'\n",
    "b = 'TEST'\n",
    "a is not b"
   ]
  },
  {
   "cell_type": "markdown",
   "metadata": {},
   "source": [
    "test if an element is in a list"
   ]
  },
  {
   "cell_type": "code",
   "execution_count": null,
   "metadata": {
    "colab": {
     "base_uri": "https://localhost:8080/"
    },
    "id": "b-ScfeS77X-O",
    "outputId": "e5ebf53c-672a-4f47-e486-df41a3d606e0"
   },
   "outputs": [
    {
     "data": {
      "text/plain": [
       "True"
      ]
     },
     "execution_count": 57,
     "metadata": {
      "tags": []
     },
     "output_type": "execute_result"
    }
   ],
   "source": [
    "'a' in ['c', 'b', 'a']"
   ]
  },
  {
   "cell_type": "markdown",
   "metadata": {},
   "source": [
    "test if an element is not in a list"
   ]
  },
  {
   "cell_type": "code",
   "execution_count": null,
   "metadata": {
    "colab": {
     "base_uri": "https://localhost:8080/"
    },
    "id": "r6LK9TF976z2",
    "outputId": "74170432-b458-494e-ff03-bb2023a9c8b7"
   },
   "outputs": [
    {
     "data": {
      "text/plain": [
       "True"
      ]
     },
     "execution_count": 59,
     "metadata": {
      "tags": []
     },
     "output_type": "execute_result"
    }
   ],
   "source": [
    "'z' not in ['c', 'b', 'a']"
   ]
  },
  {
   "cell_type": "markdown",
   "metadata": {},
   "source": [
    "the opposite of True"
   ]
  },
  {
   "cell_type": "code",
   "execution_count": null,
   "metadata": {
    "colab": {
     "base_uri": "https://localhost:8080/"
    },
    "id": "vi2bZhCM7_s9",
    "outputId": "9a1eb823-e6d0-40d9-ec9e-b457a6e37e7f"
   },
   "outputs": [
    {
     "data": {
      "text/plain": [
       "False"
      ]
     },
     "execution_count": 60,
     "metadata": {
      "tags": []
     },
     "output_type": "execute_result"
    }
   ],
   "source": [
    "not True"
   ]
  },
  {
   "cell_type": "markdown",
   "metadata": {},
   "source": [
    "Or condition with 2 booleans "
   ]
  },
  {
   "cell_type": "code",
   "execution_count": null,
   "metadata": {
    "colab": {
     "base_uri": "https://localhost:8080/"
    },
    "id": "XWhfxXO08HJj",
    "outputId": "332e0f2b-9c7d-4f67-dc54-8422949e6c36"
   },
   "outputs": [
    {
     "data": {
      "text/plain": [
       "True"
      ]
     },
     "execution_count": 61,
     "metadata": {
      "tags": []
     },
     "output_type": "execute_result"
    }
   ],
   "source": [
    "True or False"
   ]
  },
  {
   "cell_type": "markdown",
   "metadata": {},
   "source": [
    "And condition with 2 booleans "
   ]
  },
  {
   "cell_type": "code",
   "execution_count": null,
   "metadata": {
    "colab": {
     "base_uri": "https://localhost:8080/"
    },
    "id": "qIMfAso18Inq",
    "outputId": "30740693-92e2-4017-a3ba-7967a3986614"
   },
   "outputs": [
    {
     "data": {
      "text/plain": [
       "True"
      ]
     },
     "execution_count": 62,
     "metadata": {
      "tags": []
     },
     "output_type": "execute_result"
    }
   ],
   "source": [
    "True and True"
   ]
  },
  {
   "cell_type": "markdown",
   "metadata": {
    "id": "ZA4SSI5h96h7"
   },
   "source": [
    "https://www.w3schools.com/python/python_operators.asp"
   ]
  },
  {
   "cell_type": "markdown",
   "metadata": {},
   "source": [
    "and bitwise operator"
   ]
  },
  {
   "cell_type": "code",
   "execution_count": null,
   "metadata": {
    "colab": {
     "base_uri": "https://localhost:8080/"
    },
    "id": "iyywavnw_srI",
    "outputId": "9f4ae236-29a8-4fe2-865e-5ded678b73bc"
   },
   "outputs": [
    {
     "data": {
      "text/plain": [
       "0"
      ]
     },
     "execution_count": 69,
     "metadata": {
      "tags": []
     },
     "output_type": "execute_result"
    }
   ],
   "source": [
    "0b0011 & 0b1100"
   ]
  },
  {
   "cell_type": "markdown",
   "metadata": {},
   "source": [
    "or bitwise operator"
   ]
  },
  {
   "cell_type": "code",
   "execution_count": null,
   "metadata": {
    "colab": {
     "base_uri": "https://localhost:8080/"
    },
    "id": "xN7BdtgyAKAL",
    "outputId": "9f87ebba-17fa-4f32-b61a-0898555277fd"
   },
   "outputs": [
    {
     "data": {
      "text/plain": [
       "15"
      ]
     },
     "execution_count": 70,
     "metadata": {
      "tags": []
     },
     "output_type": "execute_result"
    }
   ],
   "source": [
    "0b0011 | 0b1100"
   ]
  },
  {
   "cell_type": "markdown",
   "metadata": {},
   "source": [
    "Shift left by pushing zeros in from the right and let the leftmost bits fall off"
   ]
  },
  {
   "cell_type": "code",
   "execution_count": null,
   "metadata": {
    "colab": {
     "base_uri": "https://localhost:8080/"
    },
    "id": "jzTQo3RtAN0c",
    "outputId": "d4bef518-5480-4072-cbc8-3ac32fc28353"
   },
   "outputs": [
    {
     "data": {
      "text/plain": [
       "2"
      ]
     },
     "execution_count": 71,
     "metadata": {
      "tags": []
     },
     "output_type": "execute_result"
    }
   ],
   "source": [
    "0b0001 << 1"
   ]
  },
  {
   "cell_type": "markdown",
   "metadata": {},
   "source": [
    "Inverts all the bits"
   ]
  },
  {
   "cell_type": "code",
   "execution_count": null,
   "metadata": {
    "colab": {
     "base_uri": "https://localhost:8080/"
    },
    "id": "QSyzx3q2Ad9L",
    "outputId": "55920053-cd42-454d-a4e4-f8b8bdc3501a"
   },
   "outputs": [
    {
     "data": {
      "text/plain": [
       "-2"
      ]
     },
     "execution_count": 76,
     "metadata": {
      "tags": []
     },
     "output_type": "execute_result"
    }
   ],
   "source": [
    "~ 0b0001"
   ]
  },
  {
   "cell_type": "markdown",
   "metadata": {},
   "source": [
    "Sets each bit to 1 if only one of two bits is 1"
   ]
  },
  {
   "cell_type": "code",
   "execution_count": null,
   "metadata": {
    "colab": {
     "base_uri": "https://localhost:8080/"
    },
    "id": "vNVQ9_YhAzIj",
    "outputId": "b9932b42-f912-46d2-c207-a235bc2b38c2"
   },
   "outputs": [
    {
     "data": {
      "text/plain": [
       "1"
      ]
     },
     "execution_count": 78,
     "metadata": {
      "tags": []
     },
     "output_type": "execute_result"
    }
   ],
   "source": [
    "0b0001 ^ 0b0000"
   ]
  },
  {
   "cell_type": "markdown",
   "metadata": {},
   "source": [
    "test if 2 variables are equal"
   ]
  },
  {
   "cell_type": "code",
   "execution_count": null,
   "metadata": {
    "colab": {
     "base_uri": "https://localhost:8080/"
    },
    "id": "jcitQy-PA8-b",
    "outputId": "bcd05356-5560-4587-fbd4-05807a02a8aa"
   },
   "outputs": [
    {
     "data": {
      "text/plain": [
       "True"
      ]
     },
     "execution_count": 79,
     "metadata": {
      "tags": []
     },
     "output_type": "execute_result"
    }
   ],
   "source": [
    "a, b = 0, 0.0\n",
    "a == b"
   ]
  },
  {
   "cell_type": "markdown",
   "metadata": {},
   "source": [
    "test if 2 variables are different"
   ]
  },
  {
   "cell_type": "code",
   "execution_count": null,
   "metadata": {
    "colab": {
     "base_uri": "https://localhost:8080/"
    },
    "id": "I73aa8maBBjL",
    "outputId": "1e527cae-27a0-4bd9-ab9d-6536b6eede1a"
   },
   "outputs": [
    {
     "data": {
      "text/plain": [
       "True"
      ]
     },
     "execution_count": 80,
     "metadata": {
      "tags": []
     },
     "output_type": "execute_result"
    }
   ],
   "source": [
    "a, b = 1, 2\n",
    "a != b"
   ]
  },
  {
   "cell_type": "code",
   "execution_count": null,
   "metadata": {
    "colab": {
     "base_uri": "https://localhost:8080/"
    },
    "id": "Ac0Fe8HPwCxo",
    "outputId": "7b0cae45-9b3f-4ab7-c841-24bfe3e0b80d"
   },
   "outputs": [
    {
     "data": {
      "text/plain": [
       "True"
      ]
     },
     "execution_count": 1,
     "metadata": {
      "tags": []
     },
     "output_type": "execute_result"
    }
   ],
   "source": [
    "0 == False"
   ]
  },
  {
   "cell_type": "code",
   "execution_count": null,
   "metadata": {
    "colab": {
     "base_uri": "https://localhost:8080/"
    },
    "id": "Q3qGOeqGwNtb",
    "outputId": "359bdf99-b469-4a78-cc3f-201f99a10876"
   },
   "outputs": [
    {
     "data": {
      "text/plain": [
       "True"
      ]
     },
     "execution_count": 2,
     "metadata": {
      "tags": []
     },
     "output_type": "execute_result"
    }
   ],
   "source": [
    "# everything not equals to 0 is True\n",
    "0 != True"
   ]
  },
  {
   "cell_type": "markdown",
   "metadata": {
    "id": "_1TdL89b-Qw9"
   },
   "source": [
    "__Highest to lowest precedence of all the operators__\n",
    "\n",
    "**\n",
    "\n",
    "~ + - \n",
    "\n",
    "* / % //\n",
    "\n",
    "& ^ |\n",
    "\n",
    "<= < > >=\n",
    "\n",
    "== !=\n",
    "\n",
    "=\n",
    "\n",
    "%=  /=  -=  +=  *=  **="
   ]
  },
  {
   "cell_type": "markdown",
   "metadata": {},
   "source": [
    "concatenate 2 lists"
   ]
  },
  {
   "cell_type": "code",
   "execution_count": null,
   "metadata": {
    "colab": {
     "base_uri": "https://localhost:8080/"
    },
    "id": "WLp91fCq8_3H",
    "outputId": "5c63a027-6076-4100-ff0b-4dba4323d77b"
   },
   "outputs": [
    {
     "data": {
      "text/plain": [
       "['a', 'b', 1, 2]"
      ]
     },
     "execution_count": 81,
     "metadata": {
      "tags": []
     },
     "output_type": "execute_result"
    }
   ],
   "source": [
    "['a', 'b'] + [1, 2]"
   ]
  },
  {
   "cell_type": "markdown",
   "metadata": {},
   "source": [
    "concatenate strings"
   ]
  },
  {
   "cell_type": "code",
   "execution_count": null,
   "metadata": {
    "colab": {
     "base_uri": "https://localhost:8080/",
     "height": 35
    },
    "id": "rdZOVs2ED-jz",
    "outputId": "0a585807-c5aa-4468-a8db-9b21f5f3da58"
   },
   "outputs": [
    {
     "data": {
      "application/vnd.google.colaboratory.intrinsic+json": {
       "type": "string"
      },
      "text/plain": [
       "'thisishot'"
      ]
     },
     "execution_count": 82,
     "metadata": {
      "tags": []
     },
     "output_type": "execute_result"
    }
   ],
   "source": [
    "'this' + 'is' 'hot'"
   ]
  },
  {
   "cell_type": "markdown",
   "metadata": {},
   "source": [
    "repeat the same string three times"
   ]
  },
  {
   "cell_type": "code",
   "execution_count": null,
   "metadata": {
    "colab": {
     "base_uri": "https://localhost:8080/",
     "height": 35
    },
    "id": "-O8hhTzWECro",
    "outputId": "f69f0083-75d0-4dc8-9016-d8a435c349d3"
   },
   "outputs": [
    {
     "data": {
      "application/vnd.google.colaboratory.intrinsic+json": {
       "type": "string"
      },
      "text/plain": [
       "'test_test_test_'"
      ]
     },
     "execution_count": 83,
     "metadata": {
      "tags": []
     },
     "output_type": "execute_result"
    }
   ],
   "source": [
    "'test_' * 3"
   ]
  },
  {
   "cell_type": "markdown",
   "metadata": {},
   "source": [
    "repeat the same list three times"
   ]
  },
  {
   "cell_type": "code",
   "execution_count": null,
   "metadata": {
    "colab": {
     "base_uri": "https://localhost:8080/"
    },
    "id": "74BMravPEHSV",
    "outputId": "cb28303a-2667-4760-86ea-c415d0a7461d"
   },
   "outputs": [
    {
     "data": {
      "text/plain": [
       "[1, 2, 3, 1, 2, 3, 1, 2, 3]"
      ]
     },
     "execution_count": 84,
     "metadata": {
      "tags": []
     },
     "output_type": "execute_result"
    }
   ],
   "source": [
    "[1, 2, 3] * 3"
   ]
  },
  {
   "cell_type": "markdown",
   "metadata": {},
   "source": [
    "loop on the indexes & values of a list"
   ]
  },
  {
   "cell_type": "code",
   "execution_count": null,
   "metadata": {
    "colab": {
     "base_uri": "https://localhost:8080/"
    },
    "id": "ZI7KFwz2H3Mg",
    "outputId": "b088ade4-313c-4a3e-d9fc-789ef5f36cdd"
   },
   "outputs": [
    {
     "name": "stdout",
     "output_type": "stream",
     "text": [
      "index 0 & value a\n",
      "index 1 & value b\n",
      "index 2 & value c\n"
     ]
    }
   ],
   "source": [
    "lst = ['a', 'b', 'c']\n",
    "for i, j in enumerate(lst):\n",
    "  print(f'index {i} & value {j}')"
   ]
  },
  {
   "cell_type": "markdown",
   "metadata": {},
   "source": [
    "list integers from 0 to 10"
   ]
  },
  {
   "cell_type": "code",
   "execution_count": null,
   "metadata": {
    "colab": {
     "base_uri": "https://localhost:8080/"
    },
    "id": "7d7UPl2JWl4A",
    "outputId": "76a2e321-e9d9-4217-d4a5-3d6813dc515c"
   },
   "outputs": [
    {
     "data": {
      "text/plain": [
       "[0, 1, 2, 3, 4, 5, 6, 7, 8, 9]"
      ]
     },
     "execution_count": 97,
     "metadata": {
      "tags": []
     },
     "output_type": "execute_result"
    }
   ],
   "source": [
    "list(range(10))"
   ]
  },
  {
   "cell_type": "markdown",
   "metadata": {},
   "source": [
    "list integers from 2 to 5"
   ]
  },
  {
   "cell_type": "code",
   "execution_count": null,
   "metadata": {
    "colab": {
     "base_uri": "https://localhost:8080/"
    },
    "id": "4OoYWQJZbdyP",
    "outputId": "27efc0be-f081-4255-874f-c92d76905c16"
   },
   "outputs": [
    {
     "data": {
      "text/plain": [
       "[2, 3, 4, 5]"
      ]
     },
     "execution_count": 98,
     "metadata": {
      "tags": []
     },
     "output_type": "execute_result"
    }
   ],
   "source": [
    "list(range(2, 6))"
   ]
  },
  {
   "cell_type": "markdown",
   "metadata": {},
   "source": [
    "list integers with a step of 2"
   ]
  },
  {
   "cell_type": "code",
   "execution_count": null,
   "metadata": {
    "colab": {
     "base_uri": "https://localhost:8080/"
    },
    "id": "qKt-AUzdbiWJ",
    "outputId": "69c5cc9a-f7a4-465e-d043-701b99b06aae"
   },
   "outputs": [
    {
     "data": {
      "text/plain": [
       "[2, 4, 6]"
      ]
     },
     "execution_count": 99,
     "metadata": {
      "tags": []
     },
     "output_type": "execute_result"
    }
   ],
   "source": [
    "list(range(2, 7, 2))"
   ]
  },
  {
   "cell_type": "markdown",
   "metadata": {
    "id": "Kacy7myP1SVp"
   },
   "source": [
    "## Containers Ops"
   ]
  },
  {
   "cell_type": "markdown",
   "metadata": {},
   "source": [
    "get the min value of a list"
   ]
  },
  {
   "cell_type": "code",
   "execution_count": null,
   "metadata": {
    "colab": {
     "base_uri": "https://localhost:8080/"
    },
    "id": "K8UEugx5bllM",
    "outputId": "60802866-80c0-4cd9-cb42-4e3a8b04e601"
   },
   "outputs": [
    {
     "data": {
      "text/plain": [
       "1"
      ]
     },
     "execution_count": 3,
     "metadata": {
      "tags": []
     },
     "output_type": "execute_result"
    }
   ],
   "source": [
    "lst = [1, 2, 3]\n",
    "min(lst)"
   ]
  },
  {
   "cell_type": "markdown",
   "metadata": {},
   "source": [
    "get the max value of a list"
   ]
  },
  {
   "cell_type": "code",
   "execution_count": null,
   "metadata": {
    "colab": {
     "base_uri": "https://localhost:8080/"
    },
    "id": "5IyRPbi5wl1V",
    "outputId": "cda565c3-7a76-4122-8fe8-1b20990d990f"
   },
   "outputs": [
    {
     "data": {
      "text/plain": [
       "3"
      ]
     },
     "execution_count": 4,
     "metadata": {
      "tags": []
     },
     "output_type": "execute_result"
    }
   ],
   "source": [
    "lst = [1, 2, 3]\n",
    "max(lst)"
   ]
  },
  {
   "cell_type": "markdown",
   "metadata": {},
   "source": [
    "get the sum of all values of a list"
   ]
  },
  {
   "cell_type": "code",
   "execution_count": null,
   "metadata": {
    "colab": {
     "base_uri": "https://localhost:8080/"
    },
    "id": "t5S1jYwiwnQp",
    "outputId": "47f17b12-a218-436a-f812-337d7f93cfc5"
   },
   "outputs": [
    {
     "data": {
      "text/plain": [
       "6"
      ]
     },
     "execution_count": 5,
     "metadata": {
      "tags": []
     },
     "output_type": "execute_result"
    }
   ],
   "source": [
    "lst = [1, 2, 3]\n",
    "sum(lst)"
   ]
  },
  {
   "cell_type": "markdown",
   "metadata": {},
   "source": [
    "get the length of a list"
   ]
  },
  {
   "cell_type": "code",
   "execution_count": null,
   "metadata": {
    "colab": {
     "base_uri": "https://localhost:8080/"
    },
    "id": "qF_lOKfSwqas",
    "outputId": "fde67c5d-db8f-474b-cfd6-410bcf207982"
   },
   "outputs": [
    {
     "data": {
      "text/plain": [
       "4"
      ]
     },
     "execution_count": 7,
     "metadata": {
      "tags": []
     },
     "output_type": "execute_result"
    }
   ],
   "source": [
    "lst = [1, 2, 3, 4]\n",
    "len(lst)"
   ]
  },
  {
   "cell_type": "markdown",
   "metadata": {},
   "source": [
    "test if an element is in a list"
   ]
  },
  {
   "cell_type": "code",
   "execution_count": null,
   "metadata": {
    "colab": {
     "base_uri": "https://localhost:8080/"
    },
    "id": "AAIKpaQOwsxe",
    "outputId": "25bca9ec-fb18-46f8-fc70-a92c4397afe4"
   },
   "outputs": [
    {
     "data": {
      "text/plain": [
       "True"
      ]
     },
     "execution_count": 8,
     "metadata": {
      "tags": []
     },
     "output_type": "execute_result"
    }
   ],
   "source": [
    "lst = [1, 2, 3]\n",
    "1 in lst"
   ]
  },
  {
   "cell_type": "code",
   "execution_count": null,
   "metadata": {
    "colab": {
     "base_uri": "https://localhost:8080/"
    },
    "id": "C-DhZN0awzHv",
    "outputId": "9a24851b-388f-4042-b064-de5bc28b1d2f"
   },
   "outputs": [
    {
     "data": {
      "text/plain": [
       "False"
      ]
     },
     "execution_count": 9,
     "metadata": {
      "tags": []
     },
     "output_type": "execute_result"
    }
   ],
   "source": [
    "lst = [1, 2, 3]\n",
    "4 in lst"
   ]
  },
  {
   "cell_type": "markdown",
   "metadata": {},
   "source": [
    "get a sorted list"
   ]
  },
  {
   "cell_type": "code",
   "execution_count": null,
   "metadata": {
    "colab": {
     "base_uri": "https://localhost:8080/"
    },
    "id": "xCAslXudw2Wq",
    "outputId": "cb9e1b92-5344-42c8-fd53-4367652b1714"
   },
   "outputs": [
    {
     "data": {
      "text/plain": [
       "[1, 2, 3, 3]"
      ]
     },
     "execution_count": 10,
     "metadata": {
      "tags": []
     },
     "output_type": "execute_result"
    }
   ],
   "source": [
    "lst = [3, 1, 2, 3]\n",
    "sorted(lst)"
   ]
  },
  {
   "cell_type": "markdown",
   "metadata": {},
   "source": [
    "get a list of tuples from 2 list of the same lenght"
   ]
  },
  {
   "cell_type": "code",
   "execution_count": null,
   "metadata": {
    "colab": {
     "base_uri": "https://localhost:8080/"
    },
    "id": "DZQWDrlTw6aT",
    "outputId": "1a63b7c9-181d-4f32-f7af-677d58173d7c"
   },
   "outputs": [
    {
     "data": {
      "text/plain": [
       "[(1, 'a'), (2, 'b'), (3, 'c')]"
      ]
     },
     "execution_count": 16,
     "metadata": {
      "tags": []
     },
     "output_type": "execute_result"
    }
   ],
   "source": [
    "lst_1 = [1, 2, 3]\n",
    "lst_2 = ['a', 'b', 'c']\n",
    "list(zip(lst_1, lst_2))"
   ]
  },
  {
   "cell_type": "markdown",
   "metadata": {},
   "source": [
    "check if all the value of a list are True"
   ]
  },
  {
   "cell_type": "code",
   "execution_count": null,
   "metadata": {
    "colab": {
     "base_uri": "https://localhost:8080/"
    },
    "id": "HLocTzQOw9nJ",
    "outputId": "a62c2128-19c7-4768-dcd3-4e3af17c9b64"
   },
   "outputs": [
    {
     "data": {
      "text/plain": [
       "True"
      ]
     },
     "execution_count": 17,
     "metadata": {
      "tags": []
     },
     "output_type": "execute_result"
    }
   ],
   "source": [
    "lst = [True, True, True]\n",
    "all(lst)"
   ]
  },
  {
   "cell_type": "code",
   "execution_count": null,
   "metadata": {
    "colab": {
     "base_uri": "https://localhost:8080/"
    },
    "id": "Nl8X0o1RxgBX",
    "outputId": "ffad7cb9-2958-4f18-b3a6-534569d16ef7"
   },
   "outputs": [
    {
     "data": {
      "text/plain": [
       "False"
      ]
     },
     "execution_count": 18,
     "metadata": {
      "tags": []
     },
     "output_type": "execute_result"
    }
   ],
   "source": [
    "lst = [False, True, True]\n",
    "all(lst)"
   ]
  },
  {
   "cell_type": "markdown",
   "metadata": {},
   "source": [
    "check if at least one value of a list is True"
   ]
  },
  {
   "cell_type": "code",
   "execution_count": null,
   "metadata": {
    "colab": {
     "base_uri": "https://localhost:8080/"
    },
    "id": "g0vsj-6Lxitk",
    "outputId": "9c6e5ee8-ecda-48b5-e970-6fbeaf4b42d1"
   },
   "outputs": [
    {
     "data": {
      "text/plain": [
       "True"
      ]
     },
     "execution_count": 19,
     "metadata": {
      "tags": []
     },
     "output_type": "execute_result"
    }
   ],
   "source": [
    "lst = [False, False, True]\n",
    "any(lst)"
   ]
  },
  {
   "cell_type": "code",
   "execution_count": null,
   "metadata": {
    "colab": {
     "base_uri": "https://localhost:8080/"
    },
    "id": "WQ-nHubExmZg",
    "outputId": "9f979f4c-cad1-408d-94a3-35c5eee84f50"
   },
   "outputs": [
    {
     "data": {
      "text/plain": [
       "False"
      ]
     },
     "execution_count": 20,
     "metadata": {
      "tags": []
     },
     "output_type": "execute_result"
    }
   ],
   "source": [
    "lst = [False, False, False]\n",
    "any(lst)"
   ]
  },
  {
   "cell_type": "markdown",
   "metadata": {},
   "source": [
    "reverse a list"
   ]
  },
  {
   "cell_type": "code",
   "execution_count": null,
   "metadata": {
    "colab": {
     "base_uri": "https://localhost:8080/"
    },
    "id": "fulAAE31xo_J",
    "outputId": "34c39f86-1c05-4205-ea39-982a300ebafc"
   },
   "outputs": [
    {
     "data": {
      "text/plain": [
       "[3, 2, 1, 3]"
      ]
     },
     "execution_count": 23,
     "metadata": {
      "tags": []
     },
     "output_type": "execute_result"
    }
   ],
   "source": [
    "lst = [3, 1, 2, 3]\n",
    "list(reversed(lst))"
   ]
  },
  {
   "cell_type": "code",
   "execution_count": null,
   "metadata": {
    "colab": {
     "base_uri": "https://localhost:8080/"
    },
    "id": "7hQM3BSHxwbL",
    "outputId": "475ba509-9b5a-4611-ede1-131947687ff0"
   },
   "outputs": [
    {
     "data": {
      "text/plain": [
       "[3, 2, 1, 3]"
      ]
     },
     "execution_count": 24,
     "metadata": {
      "tags": []
     },
     "output_type": "execute_result"
    }
   ],
   "source": [
    "lst[::-1]"
   ]
  },
  {
   "cell_type": "markdown",
   "metadata": {},
   "source": [
    "repeat the same string three times"
   ]
  },
  {
   "cell_type": "code",
   "execution_count": null,
   "metadata": {
    "colab": {
     "base_uri": "https://localhost:8080/",
     "height": 35
    },
    "id": "Q_6gBxXxx7Ct",
    "outputId": "31b2d5b9-c6c7-4576-a3eb-0ac0acb91ceb"
   },
   "outputs": [
    {
     "data": {
      "application/vnd.google.colaboratory.intrinsic+json": {
       "type": "string"
      },
      "text/plain": [
       "'string__string__string__'"
      ]
     },
     "execution_count": 25,
     "metadata": {
      "tags": []
     },
     "output_type": "execute_result"
    }
   ],
   "source": [
    "s = \"string__\"\n",
    "s * 3"
   ]
  },
  {
   "cell_type": "markdown",
   "metadata": {},
   "source": [
    "concatenate two strings"
   ]
  },
  {
   "cell_type": "code",
   "execution_count": null,
   "metadata": {
    "colab": {
     "base_uri": "https://localhost:8080/",
     "height": 35
    },
    "id": "n6HJwDMEyA31",
    "outputId": "520f6594-459a-4225-d6e8-a290b89f154c"
   },
   "outputs": [
    {
     "data": {
      "application/vnd.google.colaboratory.intrinsic+json": {
       "type": "string"
      },
      "text/plain": [
       "'string___ test'"
      ]
     },
     "execution_count": 26,
     "metadata": {
      "tags": []
     },
     "output_type": "execute_result"
    }
   ],
   "source": [
    "\"string___\" + \" \" \"test\""
   ]
  },
  {
   "cell_type": "markdown",
   "metadata": {},
   "source": [
    "get the index of an element"
   ]
  },
  {
   "cell_type": "code",
   "execution_count": null,
   "metadata": {
    "colab": {
     "base_uri": "https://localhost:8080/"
    },
    "id": "93-GmKmuyLVX",
    "outputId": "bf05a3e4-14bc-420c-bd03-73b3a03453c3"
   },
   "outputs": [
    {
     "data": {
      "text/plain": [
       "1"
      ]
     },
     "execution_count": 28,
     "metadata": {
      "tags": []
     },
     "output_type": "execute_result"
    }
   ],
   "source": [
    "lst = [3, 1, 2, 3]\n",
    "lst.index(1)"
   ]
  },
  {
   "cell_type": "code",
   "execution_count": null,
   "metadata": {
    "colab": {
     "base_uri": "https://localhost:8080/"
    },
    "id": "E5V_96V0yS0Y",
    "outputId": "bff644e0-5500-46fd-aa20-d0a146b66b98"
   },
   "outputs": [
    {
     "data": {
      "text/plain": [
       "0"
      ]
     },
     "execution_count": 29,
     "metadata": {
      "tags": []
     },
     "output_type": "execute_result"
    }
   ],
   "source": [
    "lst = [3, 1, 2, 3]\n",
    "lst.index(3)"
   ]
  },
  {
   "cell_type": "markdown",
   "metadata": {},
   "source": [
    "count the number of an element"
   ]
  },
  {
   "cell_type": "code",
   "execution_count": null,
   "metadata": {
    "colab": {
     "base_uri": "https://localhost:8080/"
    },
    "id": "2-kRJTzByXRD",
    "outputId": "6e018282-cd9e-4a21-acc9-7138b5017613"
   },
   "outputs": [
    {
     "data": {
      "text/plain": [
       "1"
      ]
     },
     "execution_count": 30,
     "metadata": {
      "tags": []
     },
     "output_type": "execute_result"
    }
   ],
   "source": [
    "lst = [3, 1, 2, 3]\n",
    "lst.count(1)"
   ]
  },
  {
   "cell_type": "code",
   "execution_count": null,
   "metadata": {
    "colab": {
     "base_uri": "https://localhost:8080/"
    },
    "id": "jeOEGpRGybGL",
    "outputId": "46b73852-72ed-4783-bce9-26397ed9aebc"
   },
   "outputs": [
    {
     "data": {
      "text/plain": [
       "2"
      ]
     },
     "execution_count": 31,
     "metadata": {
      "tags": []
     },
     "output_type": "execute_result"
    }
   ],
   "source": [
    "lst = [3, 1, 2, 3]\n",
    "lst.count(3)"
   ]
  },
  {
   "cell_type": "markdown",
   "metadata": {
    "id": "QTP1ci-92FNq"
   },
   "source": [
    "## List Operators"
   ]
  },
  {
   "cell_type": "markdown",
   "metadata": {},
   "source": [
    "add an element at the end of a list"
   ]
  },
  {
   "cell_type": "code",
   "execution_count": null,
   "metadata": {
    "colab": {
     "base_uri": "https://localhost:8080/"
    },
    "id": "aQjWD7JByc1N",
    "outputId": "3a48d8a7-bb71-4e2a-8e41-67aedccc604d"
   },
   "outputs": [
    {
     "data": {
      "text/plain": [
       "[3, 1, 2, 3, 0]"
      ]
     },
     "execution_count": 33,
     "metadata": {
      "tags": []
     },
     "output_type": "execute_result"
    }
   ],
   "source": [
    "lst = [3, 1, 2, 3]\n",
    "lst.append(0)\n",
    "lst"
   ]
  },
  {
   "cell_type": "markdown",
   "metadata": {},
   "source": [
    "remove the 2nd element of a list"
   ]
  },
  {
   "cell_type": "code",
   "execution_count": null,
   "metadata": {
    "colab": {
     "base_uri": "https://localhost:8080/"
    },
    "id": "1JCGodGIy1F-",
    "outputId": "89e96af5-d482-4863-a726-a88c3bd1b9d5"
   },
   "outputs": [
    {
     "data": {
      "text/plain": [
       "[3, 2, 3]"
      ]
     },
     "execution_count": 34,
     "metadata": {
      "tags": []
     },
     "output_type": "execute_result"
    }
   ],
   "source": [
    "lst = [3, 1, 2, 3]\n",
    "lst.remove(1)\n",
    "lst"
   ]
  },
  {
   "cell_type": "markdown",
   "metadata": {},
   "source": [
    "reverse the elements of a list in the same variable"
   ]
  },
  {
   "cell_type": "code",
   "execution_count": null,
   "metadata": {
    "colab": {
     "base_uri": "https://localhost:8080/"
    },
    "id": "XsG-Mif6y7Mm",
    "outputId": "8c501f47-8006-48a8-f9fa-bb082f2ef8ae"
   },
   "outputs": [
    {
     "data": {
      "text/plain": [
       "[3, 2, 1, 4]"
      ]
     },
     "execution_count": 37,
     "metadata": {
      "tags": []
     },
     "output_type": "execute_result"
    }
   ],
   "source": [
    "lst = [4, 1, 2, 3]\n",
    "lst.reverse()\n",
    "lst"
   ]
  },
  {
   "cell_type": "markdown",
   "metadata": {},
   "source": [
    "sort the elements of a list in the same variable"
   ]
  },
  {
   "cell_type": "code",
   "execution_count": null,
   "metadata": {
    "colab": {
     "base_uri": "https://localhost:8080/"
    },
    "id": "mFFhVMwdzAu7",
    "outputId": "73aa081b-e06d-4dac-ad6f-2493ac93cf57"
   },
   "outputs": [
    {
     "data": {
      "text/plain": [
       "[1, 2, 3, 4]"
      ]
     },
     "execution_count": 38,
     "metadata": {
      "tags": []
     },
     "output_type": "execute_result"
    }
   ],
   "source": [
    "lst = [4, 1, 2, 3]\n",
    "lst.sort()\n",
    "lst"
   ]
  },
  {
   "cell_type": "code",
   "execution_count": 21,
   "metadata": {
    "id": "RpoXsOWKzL4L"
   },
   "outputs": [
    {
     "data": {
      "text/plain": [
       "[1, 2, 3, 4]"
      ]
     },
     "execution_count": 21,
     "metadata": {},
     "output_type": "execute_result"
    }
   ],
   "source": [
    "lst = [4, 1, 2, 3]\n",
    "sorted(lst)"
   ]
  },
  {
   "cell_type": "code",
   "execution_count": 22,
   "metadata": {},
   "outputs": [
    {
     "data": {
      "text/plain": [
       "[4, 1, 2, 3]"
      ]
     },
     "execution_count": 22,
     "metadata": {},
     "output_type": "execute_result"
    }
   ],
   "source": [
    "lst"
   ]
  },
  {
   "cell_type": "markdown",
   "metadata": {},
   "source": [
    "add a list at the end of an other list"
   ]
  },
  {
   "cell_type": "code",
   "execution_count": null,
   "metadata": {
    "colab": {
     "base_uri": "https://localhost:8080/"
    },
    "id": "RclmG-XpzPZM",
    "outputId": "38665869-cb02-4587-d20c-a19f65f8c422"
   },
   "outputs": [
    {
     "data": {
      "text/plain": [
       "[4, 1, 2, 3, 0, 0]"
      ]
     },
     "execution_count": 40,
     "metadata": {
      "tags": []
     },
     "output_type": "execute_result"
    }
   ],
   "source": [
    "lst = [4, 1, 2, 3]\n",
    "lst.extend([0, 0])\n",
    "lst"
   ]
  },
  {
   "cell_type": "markdown",
   "metadata": {},
   "source": [
    "add an element at the beginning of a list"
   ]
  },
  {
   "cell_type": "code",
   "execution_count": null,
   "metadata": {
    "colab": {
     "base_uri": "https://localhost:8080/"
    },
    "id": "fxkjetaxzW8r",
    "outputId": "77664389-cb15-46ee-9ae5-1e75ff714a0a"
   },
   "outputs": [
    {
     "data": {
      "text/plain": [
       "[7, 4, 1, 2, 3]"
      ]
     },
     "execution_count": 43,
     "metadata": {
      "tags": []
     },
     "output_type": "execute_result"
    }
   ],
   "source": [
    "lst = [4, 1, 2, 3]\n",
    "lst.insert(0, 7)\n",
    "lst"
   ]
  },
  {
   "cell_type": "markdown",
   "metadata": {},
   "source": [
    "add an element at the 2nd place of a list"
   ]
  },
  {
   "cell_type": "code",
   "execution_count": null,
   "metadata": {
    "colab": {
     "base_uri": "https://localhost:8080/"
    },
    "id": "CIcAGNdwzgJ6",
    "outputId": "5dc7f774-3cdc-42f4-dc25-296fe5d0611d"
   },
   "outputs": [
    {
     "data": {
      "text/plain": [
       "[4, 7, 1, 2, 3]"
      ]
     },
     "execution_count": 44,
     "metadata": {
      "tags": []
     },
     "output_type": "execute_result"
    }
   ],
   "source": [
    "lst = [4, 1, 2, 3]\n",
    "lst.insert(1, 7)\n",
    "lst"
   ]
  },
  {
   "cell_type": "markdown",
   "metadata": {},
   "source": [
    "add an element at the end of a list (with insert or plus)"
   ]
  },
  {
   "cell_type": "code",
   "execution_count": null,
   "metadata": {
    "colab": {
     "base_uri": "https://localhost:8080/"
    },
    "id": "hwRxL3xpzyKI",
    "outputId": "8725239b-2ee6-4fd1-9890-50f655ba1717"
   },
   "outputs": [
    {
     "data": {
      "text/plain": [
       "[4, 1, 2, 7, 3]"
      ]
     },
     "execution_count": 45,
     "metadata": {
      "tags": []
     },
     "output_type": "execute_result"
    }
   ],
   "source": [
    "lst = [4, 1, 2, 3]\n",
    "lst.insert(-1, 7)\n",
    "lst"
   ]
  },
  {
   "cell_type": "code",
   "execution_count": null,
   "metadata": {
    "colab": {
     "base_uri": "https://localhost:8080/"
    },
    "id": "YYUVTDW3z1Ad",
    "outputId": "e05824fa-0cc0-44dc-8d49-7535d4006324"
   },
   "outputs": [
    {
     "data": {
      "text/plain": [
       "[4, 1, 2, 3, 7]"
      ]
     },
     "execution_count": 47,
     "metadata": {
      "tags": []
     },
     "output_type": "execute_result"
    }
   ],
   "source": [
    "[4, 1, 2, 3] + [7]"
   ]
  },
  {
   "cell_type": "markdown",
   "metadata": {},
   "source": [
    "retrieve the 2nd element of a list and delete it"
   ]
  },
  {
   "cell_type": "code",
   "execution_count": null,
   "metadata": {
    "colab": {
     "base_uri": "https://localhost:8080/"
    },
    "id": "rM1nLIJNz-nH",
    "outputId": "6e2962ea-bf65-44dc-85a3-fa4e159e06e2"
   },
   "outputs": [
    {
     "data": {
      "text/plain": [
       "7"
      ]
     },
     "execution_count": 48,
     "metadata": {
      "tags": []
     },
     "output_type": "execute_result"
    }
   ],
   "source": [
    "lst = [4, 7, 1, 2, 3]\n",
    "lst.pop(1)"
   ]
  },
  {
   "cell_type": "code",
   "execution_count": null,
   "metadata": {
    "colab": {
     "base_uri": "https://localhost:8080/"
    },
    "id": "iA_2ZlTv0NAr",
    "outputId": "fe056e16-4bfd-4a7c-bab0-5f24e86dcb99"
   },
   "outputs": [
    {
     "data": {
      "text/plain": [
       "[4, 1, 2, 3]"
      ]
     },
     "execution_count": 49,
     "metadata": {
      "tags": []
     },
     "output_type": "execute_result"
    }
   ],
   "source": [
    "lst"
   ]
  },
  {
   "cell_type": "markdown",
   "metadata": {
    "id": "ZeYzr0CE2Vyp"
   },
   "source": [
    "## Dict Operators"
   ]
  },
  {
   "cell_type": "markdown",
   "metadata": {},
   "source": [
    "get the value of a corresponding dict key"
   ]
  },
  {
   "cell_type": "code",
   "execution_count": null,
   "metadata": {
    "colab": {
     "base_uri": "https://localhost:8080/"
    },
    "id": "AiFrd0HI0Nq6",
    "outputId": "9c39002e-ecb2-49a5-9279-9ade1e4f78f8"
   },
   "outputs": [
    {
     "data": {
      "text/plain": [
       "1"
      ]
     },
     "execution_count": 50,
     "metadata": {
      "tags": []
     },
     "output_type": "execute_result"
    }
   ],
   "source": [
    "d = {'a': 1, 'b': 2, 'c': 3}\n",
    "d['a']"
   ]
  },
  {
   "cell_type": "markdown",
   "metadata": {},
   "source": [
    "list all keys of a dict"
   ]
  },
  {
   "cell_type": "code",
   "execution_count": null,
   "metadata": {
    "colab": {
     "base_uri": "https://localhost:8080/"
    },
    "id": "wSTUlY2p2gAg",
    "outputId": "51469af5-4902-47f4-ce33-7d8594a2c532"
   },
   "outputs": [
    {
     "data": {
      "text/plain": [
       "dict_keys(['a', 'b', 'c'])"
      ]
     },
     "execution_count": 51,
     "metadata": {
      "tags": []
     },
     "output_type": "execute_result"
    }
   ],
   "source": [
    "d = {'a': 1, 'b': 2, 'c': 3}\n",
    "d.keys()"
   ]
  },
  {
   "cell_type": "markdown",
   "metadata": {},
   "source": [
    "list all values of a dict"
   ]
  },
  {
   "cell_type": "code",
   "execution_count": null,
   "metadata": {
    "colab": {
     "base_uri": "https://localhost:8080/"
    },
    "id": "R7FjOPiw2jam",
    "outputId": "de7bd1f6-2616-4cd1-8c2d-fb975a5a384f"
   },
   "outputs": [
    {
     "data": {
      "text/plain": [
       "dict_values([1, 2, 3])"
      ]
     },
     "execution_count": 52,
     "metadata": {
      "tags": []
     },
     "output_type": "execute_result"
    }
   ],
   "source": [
    "d = {'a': 1, 'b': 2, 'c': 3}\n",
    "d.values()"
   ]
  },
  {
   "cell_type": "markdown",
   "metadata": {},
   "source": [
    "list tuples (k, v) of a dict "
   ]
  },
  {
   "cell_type": "code",
   "execution_count": null,
   "metadata": {
    "colab": {
     "base_uri": "https://localhost:8080/"
    },
    "id": "p8bjvKpC2mWn",
    "outputId": "ee0a71d5-ca16-49ea-f459-42bcccc3bf92"
   },
   "outputs": [
    {
     "data": {
      "text/plain": [
       "dict_items([('a', 1), ('b', 2), ('c', 3)])"
      ]
     },
     "execution_count": 53,
     "metadata": {
      "tags": []
     },
     "output_type": "execute_result"
    }
   ],
   "source": [
    "d = {'a': 1, 'b': 2, 'c': 3}\n",
    "d.items()"
   ]
  },
  {
   "cell_type": "markdown",
   "metadata": {},
   "source": [
    "get the value of a corresponding dict key (with a default one)"
   ]
  },
  {
   "cell_type": "code",
   "execution_count": null,
   "metadata": {
    "colab": {
     "base_uri": "https://localhost:8080/"
    },
    "id": "NqeeKwxR2pQW",
    "outputId": "05e1edbf-4b84-4b3a-da3b-ff86e06d16b9"
   },
   "outputs": [
    {
     "data": {
      "text/plain": [
       "1"
      ]
     },
     "execution_count": 55,
     "metadata": {
      "tags": []
     },
     "output_type": "execute_result"
    }
   ],
   "source": [
    "d = {'a': 1, 'b': 2, 'c': 3}\n",
    "d.get('a', 7)"
   ]
  },
  {
   "cell_type": "code",
   "execution_count": null,
   "metadata": {
    "colab": {
     "base_uri": "https://localhost:8080/"
    },
    "id": "0PoxMUPI2091",
    "outputId": "b07f6148-bcaf-434d-b66f-ef44e303a542"
   },
   "outputs": [
    {
     "data": {
      "text/plain": [
       "7"
      ]
     },
     "execution_count": 56,
     "metadata": {
      "tags": []
     },
     "output_type": "execute_result"
    }
   ],
   "source": [
    "d = {'a': 1, 'b': 2, 'c': 3}\n",
    "d.get('z', 7)"
   ]
  },
  {
   "cell_type": "markdown",
   "metadata": {},
   "source": [
    "get the key of the min value in a dict"
   ]
  },
  {
   "cell_type": "code",
   "execution_count": null,
   "metadata": {
    "colab": {
     "base_uri": "https://localhost:8080/",
     "height": 35
    },
    "id": "oHGLbx8q3HL8",
    "outputId": "f9ce7913-6e40-4360-8b73-c6aedf85e3d1"
   },
   "outputs": [
    {
     "data": {
      "application/vnd.google.colaboratory.intrinsic+json": {
       "type": "string"
      },
      "text/plain": [
       "'c'"
      ]
     },
     "execution_count": 58,
     "metadata": {
      "tags": []
     },
     "output_type": "execute_result"
    }
   ],
   "source": [
    "d = {'a': 1, 'b': 2, 'c': 0}\n",
    "min(d, key=d.get)"
   ]
  },
  {
   "cell_type": "markdown",
   "metadata": {
    "id": "UGRush6V3zK7"
   },
   "source": [
    "removes the item that was last inserted into the dict & returns it"
   ]
  },
  {
   "cell_type": "code",
   "execution_count": null,
   "metadata": {
    "colab": {
     "base_uri": "https://localhost:8080/"
    },
    "id": "5ptYdGwH3P0w",
    "outputId": "2bb1938e-a132-4830-d705-08cb827cf942"
   },
   "outputs": [
    {
     "data": {
      "text/plain": [
       "('c', 3)"
      ]
     },
     "execution_count": 61,
     "metadata": {
      "tags": []
     },
     "output_type": "execute_result"
    }
   ],
   "source": [
    "d = {'a': 1, 'b': 2, 'c': 3}\n",
    "d.popitem()"
   ]
  },
  {
   "cell_type": "code",
   "execution_count": null,
   "metadata": {
    "colab": {
     "base_uri": "https://localhost:8080/"
    },
    "id": "OmG_bU3O3foy",
    "outputId": "c97931f2-da90-41c5-a142-02adcdd230ca"
   },
   "outputs": [
    {
     "data": {
      "text/plain": [
       "{'a': 1, 'b': 2}"
      ]
     },
     "execution_count": 62,
     "metadata": {
      "tags": []
     },
     "output_type": "execute_result"
    }
   ],
   "source": [
    "d"
   ]
  },
  {
   "cell_type": "markdown",
   "metadata": {
    "id": "UGRush6V3zK7"
   },
   "source": [
    "removes an item in the dict & returns it"
   ]
  },
  {
   "cell_type": "code",
   "execution_count": null,
   "metadata": {
    "colab": {
     "base_uri": "https://localhost:8080/"
    },
    "id": "eaO49mMu33ep",
    "outputId": "90209712-a466-4ba6-cb1f-c257f1ae44b4"
   },
   "outputs": [
    {
     "data": {
      "text/plain": [
       "2"
      ]
     },
     "execution_count": 63,
     "metadata": {
      "tags": []
     },
     "output_type": "execute_result"
    }
   ],
   "source": [
    "d = {'a': 1, 'b': 2, 'c': 3}\n",
    "d.pop('b')"
   ]
  },
  {
   "cell_type": "code",
   "execution_count": null,
   "metadata": {
    "colab": {
     "base_uri": "https://localhost:8080/"
    },
    "id": "DnNl95fR39vb",
    "outputId": "cadfc31b-54d8-4421-e7af-77ae31c20d3b"
   },
   "outputs": [
    {
     "data": {
      "text/plain": [
       "{'a': 1, 'c': 3}"
      ]
     },
     "execution_count": 64,
     "metadata": {
      "tags": []
     },
     "output_type": "execute_result"
    }
   ],
   "source": [
    "d"
   ]
  },
  {
   "cell_type": "markdown",
   "metadata": {
    "id": "pqjSpkLE4H5F"
   },
   "source": [
    "## String Operators"
   ]
  },
  {
   "cell_type": "markdown",
   "metadata": {},
   "source": [
    "convert a string in uppercase"
   ]
  },
  {
   "cell_type": "code",
   "execution_count": 6,
   "metadata": {
    "colab": {
     "base_uri": "https://localhost:8080/",
     "height": 35
    },
    "id": "aaTTmSzt3-5m",
    "outputId": "3c236e2a-0616-4832-9890-3007f898f888"
   },
   "outputs": [
    {
     "data": {
      "text/plain": [
       "'ABCDEFGH'"
      ]
     },
     "execution_count": 6,
     "metadata": {},
     "output_type": "execute_result"
    }
   ],
   "source": [
    "st = \"abcdefgh\"\n",
    "st.upper()"
   ]
  },
  {
   "cell_type": "code",
   "execution_count": 7,
   "metadata": {},
   "outputs": [
    {
     "data": {
      "text/plain": [
       "'abcdefgh'"
      ]
     },
     "execution_count": 7,
     "metadata": {},
     "output_type": "execute_result"
    }
   ],
   "source": [
    "st"
   ]
  },
  {
   "cell_type": "markdown",
   "metadata": {},
   "source": [
    "convert a string in lowercase"
   ]
  },
  {
   "cell_type": "code",
   "execution_count": null,
   "metadata": {
    "colab": {
     "base_uri": "https://localhost:8080/",
     "height": 35
    },
    "id": "5zy80Z2v4QYG",
    "outputId": "56dac288-5d56-4959-f3b5-48f623ca92bc"
   },
   "outputs": [
    {
     "data": {
      "application/vnd.google.colaboratory.intrinsic+json": {
       "type": "string"
      },
      "text/plain": [
       "'abcdefgh'"
      ]
     },
     "execution_count": 66,
     "metadata": {
      "tags": []
     },
     "output_type": "execute_result"
    }
   ],
   "source": [
    "st = \"ABCDEFGH\"\n",
    "st.lower()"
   ]
  },
  {
   "cell_type": "markdown",
   "metadata": {},
   "source": [
    "put a capital at the beginning of a string"
   ]
  },
  {
   "cell_type": "code",
   "execution_count": null,
   "metadata": {
    "colab": {
     "base_uri": "https://localhost:8080/",
     "height": 35
    },
    "id": "dMsEP04l4U2l",
    "outputId": "46b93767-2da9-4d1e-bedf-f242d61b082b"
   },
   "outputs": [
    {
     "data": {
      "application/vnd.google.colaboratory.intrinsic+json": {
       "type": "string"
      },
      "text/plain": [
       "'This is a test'"
      ]
     },
     "execution_count": 67,
     "metadata": {
      "tags": []
     },
     "output_type": "execute_result"
    }
   ],
   "source": [
    "st = \"this is a test\"\n",
    "st.capitalize()"
   ]
  },
  {
   "cell_type": "markdown",
   "metadata": {},
   "source": [
    "replace a char by an other in a string"
   ]
  },
  {
   "cell_type": "code",
   "execution_count": null,
   "metadata": {
    "colab": {
     "base_uri": "https://localhost:8080/",
     "height": 35
    },
    "id": "bh5GlWAj4a6g",
    "outputId": "5b64eb1d-fb9f-4e25-9614-336f411a213d"
   },
   "outputs": [
    {
     "data": {
      "application/vnd.google.colaboratory.intrinsic+json": {
       "type": "string"
      },
      "text/plain": [
       "'abcdZfgh'"
      ]
     },
     "execution_count": 68,
     "metadata": {
      "tags": []
     },
     "output_type": "execute_result"
    }
   ],
   "source": [
    "st = \"abcdefgh\"\n",
    "st.replace('e', 'Z')"
   ]
  },
  {
   "cell_type": "code",
   "execution_count": 8,
   "metadata": {
    "colab": {
     "base_uri": "https://localhost:8080/",
     "height": 35
    },
    "id": "bh5GlWAj4a6g",
    "outputId": "5b64eb1d-fb9f-4e25-9614-336f411a213d"
   },
   "outputs": [
    {
     "data": {
      "text/plain": [
       "'ZabcdZfghZ'"
      ]
     },
     "execution_count": 8,
     "metadata": {},
     "output_type": "execute_result"
    }
   ],
   "source": [
    "st = \"EabcdEfghE\"\n",
    "st.replace('E', 'Z')"
   ]
  },
  {
   "cell_type": "markdown",
   "metadata": {},
   "source": [
    "remove the spaces at the beginning / the end of a string"
   ]
  },
  {
   "cell_type": "code",
   "execution_count": null,
   "metadata": {
    "colab": {
     "base_uri": "https://localhost:8080/",
     "height": 35
    },
    "id": "0XP_I2Si4k-M",
    "outputId": "1cb37642-9ccc-401b-c590-4f711f1635c2"
   },
   "outputs": [
    {
     "data": {
      "application/vnd.google.colaboratory.intrinsic+json": {
       "type": "string"
      },
      "text/plain": [
       "'this is a test'"
      ]
     },
     "execution_count": 73,
     "metadata": {
      "tags": []
     },
     "output_type": "execute_result"
    }
   ],
   "source": [
    "st = \"  this is a test  \"\n",
    "st.strip(' ')"
   ]
  },
  {
   "cell_type": "markdown",
   "metadata": {},
   "source": [
    "create a title from a string"
   ]
  },
  {
   "cell_type": "code",
   "execution_count": null,
   "metadata": {
    "colab": {
     "base_uri": "https://localhost:8080/",
     "height": 35
    },
    "id": "ZnKHfmn74lo5",
    "outputId": "cd7cc02a-8460-4bfc-cbb2-4b26fa3b0fa1"
   },
   "outputs": [
    {
     "data": {
      "application/vnd.google.colaboratory.intrinsic+json": {
       "type": "string"
      },
      "text/plain": [
       "'This Is A Test'"
      ]
     },
     "execution_count": 74,
     "metadata": {
      "tags": []
     },
     "output_type": "execute_result"
    }
   ],
   "source": [
    "st = \"this is a test\"\n",
    "st.title()"
   ]
  },
  {
   "cell_type": "markdown",
   "metadata": {},
   "source": [
    "split lines in a string"
   ]
  },
  {
   "cell_type": "code",
   "execution_count": null,
   "metadata": {
    "colab": {
     "base_uri": "https://localhost:8080/"
    },
    "id": "MXEQGeVv42dI",
    "outputId": "19fb5d97-29d5-4a75-e219-54605f87fc4d"
   },
   "outputs": [
    {
     "data": {
      "text/plain": [
       "['this is a 1st line', 'this is a 2nd line']"
      ]
     },
     "execution_count": 75,
     "metadata": {
      "tags": []
     },
     "output_type": "execute_result"
    }
   ],
   "source": [
    "st = \"this is a 1st line\\nthis is a 2nd line\"\n",
    "st.splitlines()"
   ]
  },
  {
   "cell_type": "markdown",
   "metadata": {},
   "source": [
    "use an f_string with a float"
   ]
  },
  {
   "cell_type": "code",
   "execution_count": null,
   "metadata": {
    "colab": {
     "base_uri": "https://localhost:8080/",
     "height": 35
    },
    "id": "VYOsUC5S4_5m",
    "outputId": "4e40ba3d-0af6-41a1-e6e1-002f08332c42"
   },
   "outputs": [
    {
     "data": {
      "application/vnd.google.colaboratory.intrinsic+json": {
       "type": "string"
      },
      "text/plain": [
       "'value of Pi: 3.14'"
      ]
     },
     "execution_count": 76,
     "metadata": {
      "tags": []
     },
     "output_type": "execute_result"
    }
   ],
   "source": [
    "v = 3.14159\n",
    "f'value of Pi: {v:.2f}'"
   ]
  },
  {
   "cell_type": "markdown",
   "metadata": {},
   "source": [
    "test if a string contains only letters"
   ]
  },
  {
   "cell_type": "code",
   "execution_count": null,
   "metadata": {
    "colab": {
     "base_uri": "https://localhost:8080/"
    },
    "id": "PLGNscnm5VEw",
    "outputId": "385eb251-f9f3-40c6-86dc-a876821119c1"
   },
   "outputs": [
    {
     "data": {
      "text/plain": [
       "True"
      ]
     },
     "execution_count": 83,
     "metadata": {
      "tags": []
     },
     "output_type": "execute_result"
    }
   ],
   "source": [
    "name = \"Monica\"\n",
    "name.isalpha()"
   ]
  },
  {
   "cell_type": "code",
   "execution_count": null,
   "metadata": {
    "colab": {
     "base_uri": "https://localhost:8080/"
    },
    "id": "SSXjhWNN5gGT",
    "outputId": "1b3bc52f-4e27-4aca-d6f3-b1abac09f55f"
   },
   "outputs": [
    {
     "data": {
      "text/plain": [
       "False"
      ]
     },
     "execution_count": 84,
     "metadata": {
      "tags": []
     },
     "output_type": "execute_result"
    }
   ],
   "source": [
    "# contains whitespace\n",
    "name = \"Monica Geller\"\n",
    "name.isalpha()"
   ]
  },
  {
   "cell_type": "code",
   "execution_count": null,
   "metadata": {
    "colab": {
     "base_uri": "https://localhost:8080/"
    },
    "id": "ojM75Kpd5qut",
    "outputId": "8dcaa6c5-170b-4a4e-bf3d-58b03367b795"
   },
   "outputs": [
    {
     "data": {
      "text/plain": [
       "False"
      ]
     },
     "execution_count": 85,
     "metadata": {
      "tags": []
     },
     "output_type": "execute_result"
    }
   ],
   "source": [
    "# contains number\n",
    "name = \"Mo3nicaGell22er\"\n",
    "name.isalpha()"
   ]
  },
  {
   "cell_type": "markdown",
   "metadata": {},
   "source": [
    "test if a string contains only letters & numbers"
   ]
  },
  {
   "cell_type": "code",
   "execution_count": null,
   "metadata": {
    "colab": {
     "base_uri": "https://localhost:8080/"
    },
    "id": "VyLgCzYN5rgp",
    "outputId": "4d316d73-d3d5-4434-ffbb-1cc2281e46ca"
   },
   "outputs": [
    {
     "data": {
      "text/plain": [
       "True"
      ]
     },
     "execution_count": 88,
     "metadata": {
      "tags": []
     },
     "output_type": "execute_result"
    }
   ],
   "source": [
    "name = \"Mo3nicaGell22er\"\n",
    "name.isalnum()"
   ]
  },
  {
   "cell_type": "code",
   "execution_count": null,
   "metadata": {
    "colab": {
     "base_uri": "https://localhost:8080/"
    },
    "id": "mLqqelhC524k",
    "outputId": "a964fcf4-84a3-4ccf-d6da-81f300b093d9"
   },
   "outputs": [
    {
     "data": {
      "text/plain": [
       "False"
      ]
     },
     "execution_count": 89,
     "metadata": {
      "tags": []
     },
     "output_type": "execute_result"
    }
   ],
   "source": [
    "name = \"Mo3nica Gell22er\"\n",
    "name.isalnum()"
   ]
  },
  {
   "cell_type": "markdown",
   "metadata": {
    "id": "tWrHTCsc6FvW"
   },
   "source": [
    "## Loops"
   ]
  },
  {
   "cell_type": "markdown",
   "metadata": {},
   "source": [
    "a simple for loop"
   ]
  },
  {
   "cell_type": "code",
   "execution_count": null,
   "metadata": {
    "colab": {
     "base_uri": "https://localhost:8080/"
    },
    "id": "UTibSqMG6BuM",
    "outputId": "7d4515b5-f4fb-47a7-e5cc-bd069eaad4cd"
   },
   "outputs": [
    {
     "name": "stdout",
     "output_type": "stream",
     "text": [
      "0\n",
      "1\n",
      "8\n"
     ]
    }
   ],
   "source": [
    "for i in range(0, 3):\n",
    "  print(i**3)"
   ]
  },
  {
   "cell_type": "markdown",
   "metadata": {},
   "source": [
    "a simple while loop"
   ]
  },
  {
   "cell_type": "code",
   "execution_count": null,
   "metadata": {
    "colab": {
     "base_uri": "https://localhost:8080/"
    },
    "id": "YVtoQ9oo6Nsq",
    "outputId": "96865be7-01db-43c9-b96f-23c8023f9bcc"
   },
   "outputs": [
    {
     "name": "stdout",
     "output_type": "stream",
     "text": [
      "0\n",
      "1\n",
      "8\n",
      "27\n"
     ]
    }
   ],
   "source": [
    "i = 0\n",
    "while i < 4:\n",
    "  print(i**3)\n",
    "  i += 1"
   ]
  },
  {
   "cell_type": "markdown",
   "metadata": {},
   "source": [
    "a while loop with conditions to break / continue"
   ]
  },
  {
   "cell_type": "code",
   "execution_count": null,
   "metadata": {
    "id": "5qBY2vrQ6mFf"
   },
   "outputs": [],
   "source": [
    "i = 0\n",
    "while i < nb:\n",
    "  if cond1:\n",
    "    break\n",
    "  elif cond2:\n",
    "    continue\n",
    "  else:\n",
    "    pass\n",
    "  i += 1"
   ]
  },
  {
   "cell_type": "markdown",
   "metadata": {},
   "source": [
    "get user input"
   ]
  },
  {
   "cell_type": "code",
   "execution_count": null,
   "metadata": {
    "colab": {
     "base_uri": "https://localhost:8080/"
    },
    "id": "BJ4X8Azi7I6j",
    "outputId": "94785ebc-4e7f-4026-f494-1b3392afff05"
   },
   "outputs": [
    {
     "name": "stdout",
     "output_type": "stream",
     "text": [
      "Enter your name: Me\n",
      "You're name is Me---test___"
     ]
    }
   ],
   "source": [
    "st = input(\"Enter your name: \")\n",
    "print(f\"You're name is {st}\", \"test\", sep=\"---\", end=\"___\")"
   ]
  },
  {
   "cell_type": "markdown",
   "metadata": {
    "id": "aHhAMrcVBOR0"
   },
   "source": [
    "## Comprehensions"
   ]
  },
  {
   "cell_type": "markdown",
   "metadata": {},
   "source": [
    "a list comprehension to get even number with only a if (no elese) "
   ]
  },
  {
   "cell_type": "code",
   "execution_count": null,
   "metadata": {
    "colab": {
     "base_uri": "https://localhost:8080/"
    },
    "id": "iwc7wU2Q7i8c",
    "outputId": "d16f8075-befe-4329-e189-d1d9bffda4df"
   },
   "outputs": [
    {
     "data": {
      "text/plain": [
       "[0, 2, 4, 6, 8]"
      ]
     },
     "execution_count": 98,
     "metadata": {
      "tags": []
     },
     "output_type": "execute_result"
    }
   ],
   "source": [
    "[i for i in range(10) if i%2 == 0]"
   ]
  },
  {
   "cell_type": "markdown",
   "metadata": {},
   "source": [
    "a list comprehension to list even/odd number (with if and else cases)"
   ]
  },
  {
   "cell_type": "code",
   "execution_count": null,
   "metadata": {
    "colab": {
     "base_uri": "https://localhost:8080/"
    },
    "id": "SlhH7bmgBdYO",
    "outputId": "9a4b59e8-c608-4100-c960-6462c91a09ca"
   },
   "outputs": [
    {
     "data": {
      "text/plain": [
       "['Even', 'Odd', 'Even', 'Odd', 'Even', 'Odd', 'Even', 'Odd', 'Even', 'Odd']"
      ]
     },
     "execution_count": 100,
     "metadata": {
      "tags": []
     },
     "output_type": "execute_result"
    }
   ],
   "source": [
    "[\"Even\" if i%2==0 else \"Odd\" for i in range(10)]"
   ]
  },
  {
   "cell_type": "markdown",
   "metadata": {},
   "source": [
    "a dictionnary comprehension"
   ]
  },
  {
   "cell_type": "code",
   "execution_count": null,
   "metadata": {
    "colab": {
     "base_uri": "https://localhost:8080/"
    },
    "id": "YUf4UkIBBoqn",
    "outputId": "9ec31133-0e27-4d78-d1d8-9e53efd4b36e"
   },
   "outputs": [
    {
     "data": {
      "text/plain": [
       "{1: 11, 4: 21, 9: 31}"
      ]
     },
     "execution_count": 101,
     "metadata": {
      "tags": []
     },
     "output_type": "execute_result"
    }
   ],
   "source": [
    "d = {1: 10, 2: 20, 3: 30}\n",
    "{k**2: v+1 for (k, v) in d.items()}"
   ]
  },
  {
   "cell_type": "markdown",
   "metadata": {},
   "source": [
    "reverse keys/values with a comprehension"
   ]
  },
  {
   "cell_type": "code",
   "execution_count": null,
   "metadata": {
    "colab": {
     "base_uri": "https://localhost:8080/"
    },
    "id": "2QhM7JtlCaxt",
    "outputId": "7c22e498-d738-450d-b0f0-b58b290348bd"
   },
   "outputs": [
    {
     "data": {
      "text/plain": [
       "{10: 1, 20: 2, 30: 3}"
      ]
     },
     "execution_count": 102,
     "metadata": {
      "tags": []
     },
     "output_type": "execute_result"
    }
   ],
   "source": [
    "d = {1: 10, 2: 20, 3: 30}\n",
    "{v: k for (k, v) in d.items()}"
   ]
  },
  {
   "cell_type": "markdown",
   "metadata": {},
   "source": [
    "with a comprehension get a set of squared element from a list"
   ]
  },
  {
   "cell_type": "code",
   "execution_count": null,
   "metadata": {
    "colab": {
     "base_uri": "https://localhost:8080/"
    },
    "id": "ge1wtlMuCowa",
    "outputId": "188ec9bd-e6fd-4e1f-f4e6-f45c36c73d90"
   },
   "outputs": [
    {
     "data": {
      "text/plain": [
       "{1, 4, 9}"
      ]
     },
     "execution_count": 103,
     "metadata": {
      "tags": []
     },
     "output_type": "execute_result"
    }
   ],
   "source": [
    "lst = [1, 2, 3, 3, 2, 1]\n",
    "{i**2 for i in lst}"
   ]
  },
  {
   "cell_type": "markdown",
   "metadata": {
    "id": "mE42EGqXC-eP"
   },
   "source": [
    "## Case, switch statement"
   ]
  },
  {
   "cell_type": "markdown",
   "metadata": {},
   "source": [
    "a switch statement with default value"
   ]
  },
  {
   "cell_type": "code",
   "execution_count": null,
   "metadata": {
    "colab": {
     "base_uri": "https://localhost:8080/",
     "height": 35
    },
    "id": "vNnaEZ4DCy_g",
    "outputId": "f9b252f8-11ef-4d18-bd24-167f6be1a886"
   },
   "outputs": [
    {
     "data": {
      "application/vnd.google.colaboratory.intrinsic+json": {
       "type": "string"
      },
      "text/plain": [
       "'ONE'"
      ]
     },
     "execution_count": 107,
     "metadata": {
      "tags": []
     },
     "output_type": "execute_result"
    }
   ],
   "source": [
    "def zero():\n",
    "    return \"ZERO\"\n",
    " \n",
    "def one():\n",
    "    return \"ONE\"\n",
    " \n",
    "def two():\n",
    "    return \"TWO\"\n",
    " \n",
    "switcher = {\n",
    "        0: zero,\n",
    "        1: one,\n",
    "        2: two\n",
    "    }\n",
    " \n",
    " \n",
    "def numbers_to_strings(argument):\n",
    "    \"\"\"Returns the func from switcher dic\"\"\"\n",
    "    func = switcher.get(argument, \"nothing\")\n",
    "    return func()\n",
    " \n",
    "numbers_to_strings(1)"
   ]
  },
  {
   "cell_type": "code",
   "execution_count": null,
   "metadata": {
    "colab": {
     "base_uri": "https://localhost:8080/",
     "height": 35
    },
    "id": "abWg56DZEPVP",
    "outputId": "752174a2-6891-41a9-981e-3b8d235d069b"
   },
   "outputs": [
    {
     "data": {
      "application/vnd.google.colaboratory.intrinsic+json": {
       "type": "string"
      },
      "text/plain": [
       "'TWO'"
      ]
     },
     "execution_count": 108,
     "metadata": {
      "tags": []
     },
     "output_type": "execute_result"
    }
   ],
   "source": [
    "#changing the switch case\n",
    "switcher[1]=two\n",
    "\n",
    "numbers_to_strings(1)"
   ]
  },
  {
   "cell_type": "code",
   "execution_count": null,
   "metadata": {
    "colab": {
     "base_uri": "https://localhost:8080/",
     "height": 35
    },
    "id": "stMUGI0PFE5I",
    "outputId": "130e63a3-104e-45ac-d2bb-fb599c564173"
   },
   "outputs": [
    {
     "data": {
      "application/vnd.google.colaboratory.intrinsic+json": {
       "type": "string"
      },
      "text/plain": [
       "'ZERO'"
      ]
     },
     "execution_count": 110,
     "metadata": {
      "tags": []
     },
     "output_type": "execute_result"
    }
   ],
   "source": [
    "switcher[0]()"
   ]
  },
  {
   "cell_type": "markdown",
   "metadata": {
    "id": "L4DSaQYlocuJ"
   },
   "source": [
    "## Exceptions\n",
    "\n",
    "Python Built-in Exceptions"
   ]
  },
  {
   "cell_type": "code",
   "execution_count": 1,
   "metadata": {
    "colab": {
     "base_uri": "https://localhost:8080/"
    },
    "id": "HRDgp_LpoLfx",
    "outputId": "874dd588-3261-4119-9beb-a08c7e076fe8"
   },
   "outputs": [
    {
     "name": "stdout",
     "output_type": "stream",
     "text": [
      "['ArithmeticError', 'AssertionError', 'AttributeError', 'BaseException', 'BlockingIOError', 'BrokenPipeError', 'BufferError', 'BytesWarning', 'ChildProcessError', 'ConnectionAbortedError', 'ConnectionError', 'ConnectionRefusedError', 'ConnectionResetError', 'DeprecationWarning', 'EOFError', 'Ellipsis', 'EnvironmentError', 'Exception', 'False', 'FileExistsError', 'FileNotFoundError', 'FloatingPointError', 'FutureWarning', 'GeneratorExit', 'IOError', 'ImportError', 'ImportWarning', 'IndentationError', 'IndexError', 'InterruptedError', 'IsADirectoryError', 'KeyError', 'KeyboardInterrupt', 'LookupError', 'MemoryError', 'ModuleNotFoundError', 'NameError', 'None', 'NotADirectoryError', 'NotImplemented', 'NotImplementedError', 'OSError', 'OverflowError', 'PendingDeprecationWarning', 'PermissionError', 'ProcessLookupError', 'RecursionError', 'ReferenceError', 'ResourceWarning', 'RuntimeError', 'RuntimeWarning', 'StopAsyncIteration', 'StopIteration', 'SyntaxError', 'SyntaxWarning', 'SystemError', 'SystemExit', 'TabError', 'TimeoutError', 'True', 'TypeError', 'UnboundLocalError', 'UnicodeDecodeError', 'UnicodeEncodeError', 'UnicodeError', 'UnicodeTranslateError', 'UnicodeWarning', 'UserWarning', 'ValueError', 'Warning', 'ZeroDivisionError', '__IPYTHON__', '__build_class__', '__debug__', '__doc__', '__import__', '__loader__', '__name__', '__package__', '__spec__', 'abs', 'all', 'any', 'ascii', 'bin', 'bool', 'breakpoint', 'bytearray', 'bytes', 'callable', 'chr', 'classmethod', 'compile', 'complex', 'copyright', 'credits', 'delattr', 'dict', 'dir', 'display', 'divmod', 'dreload', 'enumerate', 'eval', 'exec', 'execfile', 'filter', 'float', 'format', 'frozenset', 'get_ipython', 'getattr', 'globals', 'hasattr', 'hash', 'help', 'hex', 'id', 'input', 'int', 'isinstance', 'issubclass', 'iter', 'len', 'license', 'list', 'locals', 'map', 'max', 'memoryview', 'min', 'next', 'object', 'oct', 'open', 'ord', 'pow', 'print', 'property', 'range', 'repr', 'reversed', 'round', 'runfile', 'set', 'setattr', 'slice', 'sorted', 'staticmethod', 'str', 'sum', 'super', 'tuple', 'type', 'vars', 'zip']\n"
     ]
    }
   ],
   "source": [
    "print(dir(locals()['__builtins__']))"
   ]
  },
  {
   "cell_type": "markdown",
   "metadata": {
    "id": "EBHrFcOBpVbc"
   },
   "source": [
    "how to handle exceptions"
   ]
  },
  {
   "cell_type": "code",
   "execution_count": null,
   "metadata": {
    "id": "f0vwmkN_oi1x"
   },
   "outputs": [],
   "source": [
    "try:\n",
    "   # do something\n",
    "except ValueError:\n",
    "   # handle ValueError exception\n",
    "except (TypeError, ZeroDivisionError):\n",
    "   # handle multiple exceptions\n",
    "   # TypeError and ZeroDivisionError\n",
    "except:\n",
    "   # handle all other exceptions\n",
    "else:\n",
    "  # if no exceptoin\n",
    "finally:\n",
    "  # for all cases"
   ]
  },
  {
   "cell_type": "markdown",
   "metadata": {
    "id": "TZ7eu66zpcDA"
   },
   "source": [
    "## Recursive functions"
   ]
  },
  {
   "cell_type": "markdown",
   "metadata": {},
   "source": [
    "factorial recursive function"
   ]
  },
  {
   "cell_type": "code",
   "execution_count": 14,
   "metadata": {
    "colab": {
     "base_uri": "https://localhost:8080/"
    },
    "id": "BaYj-klJpTRg",
    "outputId": "7eaf59af-b2aa-4fad-ba71-1b352270b443"
   },
   "outputs": [
    {
     "data": {
      "text/plain": [
       "24"
      ]
     },
     "execution_count": 14,
     "metadata": {},
     "output_type": "execute_result"
    }
   ],
   "source": [
    "def fact(n):\n",
    "  \"\"\"Calculates the factorial of n\"\"\"\n",
    "  if n == 1:\n",
    "    return 1\n",
    "  else:\n",
    "    return n * fact(n-1)\n",
    "\n",
    "\n",
    "fact(4)"
   ]
  },
  {
   "cell_type": "markdown",
   "metadata": {},
   "source": [
    "cumulative sum with a recursive function"
   ]
  },
  {
   "cell_type": "code",
   "execution_count": 15,
   "metadata": {
    "colab": {
     "base_uri": "https://localhost:8080/"
    },
    "id": "lrmuBk4vsfKp",
    "outputId": "76060317-fe8d-4b97-fe65-34921f56bf51"
   },
   "outputs": [
    {
     "data": {
      "text/plain": [
       "10"
      ]
     },
     "execution_count": 15,
     "metadata": {},
     "output_type": "execute_result"
    }
   ],
   "source": [
    "def cum_sum(n):\n",
    "  \"\"\"Calculates the cumulative\"\"\"\n",
    "  if n == 1:\n",
    "    return 1\n",
    "  nb = n\n",
    "  temp = cum_sum(n-1)\n",
    "  return nb + temp\n",
    "\n",
    "\n",
    "cum_sum(4)"
   ]
  },
  {
   "cell_type": "markdown",
   "metadata": {
    "id": "x2xWdN4OtXGU"
   },
   "source": [
    "## Lambda / map / filter"
   ]
  },
  {
   "cell_type": "markdown",
   "metadata": {},
   "source": [
    "a simple lambda function with a tuple as input"
   ]
  },
  {
   "cell_type": "code",
   "execution_count": 8,
   "metadata": {
    "colab": {
     "base_uri": "https://localhost:8080/"
    },
    "id": "WOsSluYZsy3E",
    "outputId": "9e74e1d7-42ce-4739-c8d4-e842072ca742"
   },
   "outputs": [
    {
     "data": {
      "text/plain": [
       "5"
      ]
     },
     "execution_count": 8,
     "metadata": {
      "tags": []
     },
     "output_type": "execute_result"
    }
   ],
   "source": [
    "(lambda x, y: x + y)(2, 3)"
   ]
  },
  {
   "cell_type": "markdown",
   "metadata": {},
   "source": [
    "a lambda function that return the square of a value"
   ]
  },
  {
   "cell_type": "code",
   "execution_count": 9,
   "metadata": {
    "colab": {
     "base_uri": "https://localhost:8080/"
    },
    "id": "F5nz2Yzate1K",
    "outputId": "4c2b6c07-1cc5-453c-f339-6029155ee9ec"
   },
   "outputs": [
    {
     "data": {
      "text/plain": [
       "8"
      ]
     },
     "execution_count": 9,
     "metadata": {
      "tags": []
     },
     "output_type": "execute_result"
    }
   ],
   "source": [
    "(lambda x: x**3)(2)"
   ]
  },
  {
   "cell_type": "code",
   "execution_count": 11,
   "metadata": {
    "colab": {
     "base_uri": "https://localhost:8080/"
    },
    "id": "aTHMc4Bktjzj",
    "outputId": "1f2bbda5-b81a-4cac-a5cc-b34948a89e8a"
   },
   "outputs": [
    {
     "data": {
      "text/plain": [
       "<function __main__.<lambda>>"
      ]
     },
     "execution_count": 11,
     "metadata": {
      "tags": []
     },
     "output_type": "execute_result"
    }
   ],
   "source": [
    "high_ord_func = lambda x, func: x + func(x)\n",
    "high_ord_func"
   ]
  },
  {
   "cell_type": "code",
   "execution_count": 12,
   "metadata": {
    "colab": {
     "base_uri": "https://localhost:8080/"
    },
    "id": "CLZDkAN1tx-h",
    "outputId": "6f4b93cc-a527-4e8d-c0ec-ea6a04a5937d"
   },
   "outputs": [
    {
     "data": {
      "text/plain": [
       "30"
      ]
     },
     "execution_count": 12,
     "metadata": {
      "tags": []
     },
     "output_type": "execute_result"
    }
   ],
   "source": [
    "high_ord_func(5, lambda x: x*x)"
   ]
  },
  {
   "cell_type": "code",
   "execution_count": 21,
   "metadata": {
    "colab": {
     "base_uri": "https://localhost:8080/"
    },
    "id": "XrKve8ILt-7g",
    "outputId": "a34e1179-b4ec-4a18-8212-602f1b7ea4dd"
   },
   "outputs": [
    {
     "name": "stdout",
     "output_type": "stream",
     "text": [
      "<map object at 0x7ff8e5483550>\n"
     ]
    }
   ],
   "source": [
    "def sq(x):\n",
    "  return x**2\n",
    "\n",
    "print(map(sq, [1, 2, 3]))"
   ]
  },
  {
   "cell_type": "code",
   "execution_count": 22,
   "metadata": {
    "colab": {
     "base_uri": "https://localhost:8080/"
    },
    "id": "jPtS6dyNu0Eg",
    "outputId": "3aa2cdd6-8a2a-4000-dca0-7289850d734d"
   },
   "outputs": [
    {
     "data": {
      "text/plain": [
       "[1, 4, 9]"
      ]
     },
     "execution_count": 22,
     "metadata": {
      "tags": []
     },
     "output_type": "execute_result"
    }
   ],
   "source": [
    "list(map(sq, [1, 2, 3]))"
   ]
  },
  {
   "cell_type": "code",
   "execution_count": 23,
   "metadata": {
    "colab": {
     "base_uri": "https://localhost:8080/"
    },
    "id": "7qZJ3IQZu_JR",
    "outputId": "dcb6ec97-024b-4b42-8d74-9ed490cbcb9b"
   },
   "outputs": [
    {
     "data": {
      "text/plain": [
       "{(1, 2, 3, 4), <function __main__.<lambda>>}"
      ]
     },
     "execution_count": 23,
     "metadata": {
      "tags": []
     },
     "output_type": "execute_result"
    }
   ],
   "source": [
    "nb = (1, 2, 3, 4)\n",
    "set((lambda x: x*x, nb))"
   ]
  },
  {
   "cell_type": "code",
   "execution_count": 26,
   "metadata": {
    "colab": {
     "base_uri": "https://localhost:8080/"
    },
    "id": "dvRPYg3uvTjY",
    "outputId": "9893a512-8904-49aa-fc0c-29adac7eb367"
   },
   "outputs": [
    {
     "data": {
      "text/plain": [
       "{1, 4, 9, 16}"
      ]
     },
     "execution_count": 26,
     "metadata": {
      "tags": []
     },
     "output_type": "execute_result"
    }
   ],
   "source": [
    "nb = (1, 2, 3, 4)\n",
    "res = map(lambda x: x*x, nb)\n",
    "set(res)"
   ]
  },
  {
   "cell_type": "code",
   "execution_count": 28,
   "metadata": {
    "colab": {
     "base_uri": "https://localhost:8080/"
    },
    "id": "PvwxkOB2uJYK",
    "outputId": "a4efafb6-1919-4b77-ac5c-e8ed0fe37389"
   },
   "outputs": [
    {
     "data": {
      "text/plain": [
       "[0, 2, 4, 6, 8]"
      ]
     },
     "execution_count": 28,
     "metadata": {
      "tags": []
     },
     "output_type": "execute_result"
    }
   ],
   "source": [
    "a = list(range(10))\n",
    "list(filter(lambda x: x%2 == 0, a))"
   ]
  },
  {
   "cell_type": "markdown",
   "metadata": {
    "id": "-OXbOqrwwGxt"
   },
   "source": [
    "## PEP 8\n",
    "\n",
    "table here:  \n",
    "https://realpython.com/python-pep8/\n",
    "\n",
    "my_function\n",
    "\n",
    "my_var\n",
    "\n",
    "CONSTANT\n",
    "\n",
    "MyClass\n",
    "\n",
    "class_method\n",
    "\n",
    "sum = var + var_bis**3  \n",
    "\n",
    "_single_leading_underscore  \n",
    "This convention is used for declaring private variables, functions, methods and classes in a module. Anything with this convention are ignored in from module import *. \n",
    "\n",
    "single_trailing_underscore_  \n",
    "This convention could be used for avoiding conflict with Python keywords or built-ins. You might not use it often.\n",
    "\n",
    "\\__\\__double_leading_and_trailing_underscore\\__\\__    \n",
    "This convention is used for special variables or methods (so-called “magic method”) such as__init__, \\__\\__len\\__\\__. These methods provides special syntactic features or does special things. For example, \\__\\__file\\__\\__ indicates the location of Python file, \\__\\__eq\\__\\__ is executed when a == b expression is excuted. \n",
    "A user of course can make custom special method, it is very rare case, but often might modify the some built-in special methods. (e.g. You should initialize the class with \\__\\__init\\__\\__ that will be executed at first when a instance of class is created.)"
   ]
  },
  {
   "cell_type": "markdown",
   "metadata": {
    "id": "tuhIXPSUw1a1"
   },
   "source": [
    "## Files Operation"
   ]
  },
  {
   "cell_type": "markdown",
   "metadata": {},
   "source": [
    "open a file & print line one by one"
   ]
  },
  {
   "cell_type": "code",
   "execution_count": null,
   "metadata": {
    "id": "JH_60ZUZwY-f"
   },
   "outputs": [],
   "source": [
    "with open(\"file_path/dir\", \"w/r/a\", encoding='utf8') as f:\n",
    "  for line in f.readlines():\n",
    "    print(line.split(\"car\"), end=' ')"
   ]
  },
  {
   "cell_type": "markdown",
   "metadata": {},
   "source": [
    "open a file & read lines"
   ]
  },
  {
   "cell_type": "code",
   "execution_count": null,
   "metadata": {
    "id": "awgSQODqxOxz"
   },
   "outputs": [],
   "source": [
    "with open(\"file_path/dir\", \"w/r/a\", encoding='utf8') as f:\n",
    "  data = f.read().splitlines()"
   ]
  },
  {
   "cell_type": "markdown",
   "metadata": {},
   "source": [
    "open a file & write line one by one or all together"
   ]
  },
  {
   "cell_type": "code",
   "execution_count": null,
   "metadata": {
    "id": "q0CNe7Z_xOmJ"
   },
   "outputs": [],
   "source": [
    "with open(\"file_path/dir\", \"w/r/a\", encoding='utf8') as f:\n",
    "  ...\n",
    "  f.write() # or\n",
    "  f.writelines()"
   ]
  },
  {
   "cell_type": "markdown",
   "metadata": {
    "id": "nMfo8EgexozP"
   },
   "source": [
    "## Various Tricks"
   ]
  },
  {
   "cell_type": "markdown",
   "metadata": {},
   "source": [
    "reverse a string"
   ]
  },
  {
   "cell_type": "code",
   "execution_count": 29,
   "metadata": {
    "colab": {
     "base_uri": "https://localhost:8080/",
     "height": 35
    },
    "id": "2pRO1O3txKyu",
    "outputId": "7ee71a91-9c4f-4225-8baa-684f007c7086"
   },
   "outputs": [
    {
     "data": {
      "application/vnd.google.colaboratory.intrinsic+json": {
       "type": "string"
      },
      "text/plain": [
       "'gnirts a si sihT'"
      ]
     },
     "execution_count": 29,
     "metadata": {
      "tags": []
     },
     "output_type": "execute_result"
    }
   ],
   "source": [
    "\"This is a string\"[::-1]"
   ]
  },
  {
   "cell_type": "markdown",
   "metadata": {},
   "source": [
    "conditional assignement in one line (without 'else')"
   ]
  },
  {
   "cell_type": "code",
   "execution_count": 31,
   "metadata": {
    "colab": {
     "base_uri": "https://localhost:8080/"
    },
    "id": "OS2BjXFZxsy7",
    "outputId": "c2b480d1-957b-4972-f8cf-ef14cd08b6a5"
   },
   "outputs": [
    {
     "data": {
      "text/plain": [
       "5"
      ]
     },
     "execution_count": 31,
     "metadata": {
      "tags": []
     },
     "output_type": "execute_result"
    }
   ],
   "source": [
    "x, y = 0, 10\n",
    "if y == 10: x = 5\n",
    "x "
   ]
  },
  {
   "cell_type": "markdown",
   "metadata": {},
   "source": [
    "concatenate 2 dictionnaries"
   ]
  },
  {
   "cell_type": "code",
   "execution_count": 32,
   "metadata": {
    "colab": {
     "base_uri": "https://localhost:8080/"
    },
    "id": "XqCcBMjXx0TB",
    "outputId": "0d72cd22-477a-4202-b310-e1510e1d00cb"
   },
   "outputs": [
    {
     "data": {
      "text/plain": [
       "{'a': 1, 'b': 2, 'c': 3, 'd': 4, 'e': 5}"
      ]
     },
     "execution_count": 32,
     "metadata": {
      "tags": []
     },
     "output_type": "execute_result"
    }
   ],
   "source": [
    "i = {'a': 1, 'b': 2, 'c': 3}\n",
    "j = {'d': 4, 'e': 5}\n",
    "{**i, **j}"
   ]
  },
  {
   "cell_type": "markdown",
   "metadata": {},
   "source": [
    "print the path of the 'os' module"
   ]
  },
  {
   "cell_type": "code",
   "execution_count": 33,
   "metadata": {
    "colab": {
     "base_uri": "https://localhost:8080/"
    },
    "id": "yQl1dc6aySPs",
    "outputId": "6a7a2d31-2e27-413f-c302-6b78bfe4d4fa"
   },
   "outputs": [
    {
     "name": "stdout",
     "output_type": "stream",
     "text": [
      "<module 'os' from '/usr/lib/python3.7/os.py'>\n"
     ]
    }
   ],
   "source": [
    "import os\n",
    "print(os)"
   ]
  },
  {
   "cell_type": "markdown",
   "metadata": {},
   "source": [
    "conditional assignement in one line with 'else' case"
   ]
  },
  {
   "cell_type": "code",
   "execution_count": 34,
   "metadata": {
    "colab": {
     "base_uri": "https://localhost:8080/",
     "height": 35
    },
    "id": "sPN4WnPiyXPS",
    "outputId": "a9f92f3f-528b-48b3-a5f3-ac4a038ee977"
   },
   "outputs": [
    {
     "data": {
      "application/vnd.google.colaboratory.intrinsic+json": {
       "type": "string"
      },
      "text/plain": [
       "'a'"
      ]
     },
     "execution_count": 34,
     "metadata": {
      "tags": []
     },
     "output_type": "execute_result"
    }
   ],
   "source": [
    "y = 10\n",
    "x = 'a' if y == 10 else 'b'\n",
    "x"
   ]
  },
  {
   "cell_type": "code",
   "execution_count": 35,
   "metadata": {
    "colab": {
     "base_uri": "https://localhost:8080/",
     "height": 35
    },
    "id": "w67h3Oq3ykAD",
    "outputId": "c9b76d84-bfa5-4d51-e395-544f665b0cc5"
   },
   "outputs": [
    {
     "data": {
      "application/vnd.google.colaboratory.intrinsic+json": {
       "type": "string"
      },
      "text/plain": [
       "'b'"
      ]
     },
     "execution_count": 35,
     "metadata": {
      "tags": []
     },
     "output_type": "execute_result"
    }
   ],
   "source": [
    "y = 10\n",
    "x = 'a' if y != 10 else 'b'\n",
    "x"
   ]
  },
  {
   "cell_type": "markdown",
   "metadata": {},
   "source": [
    "compute the frequency of a list elements"
   ]
  },
  {
   "cell_type": "code",
   "execution_count": 40,
   "metadata": {
    "colab": {
     "base_uri": "https://localhost:8080/"
    },
    "id": "0bzC6Jl7ynHT",
    "outputId": "e7276f2e-6d09-4144-ad9c-71ef73204a6f"
   },
   "outputs": [
    {
     "data": {
      "text/plain": [
       "{'a': 2, 'b': 3, 'c': 4}"
      ]
     },
     "execution_count": 40,
     "metadata": {
      "tags": []
     },
     "output_type": "execute_result"
    }
   ],
   "source": [
    "lst = ['a', 'b', 'b', 'c', 'c', 'c']\n",
    "freq_dict = {}\n",
    "\n",
    "for i in lst:\n",
    "  if i not in freq_dict.keys():\n",
    "    freq_dict[i] = 1\n",
    "  freq_dict[i] += 1\n",
    "\n",
    "\n",
    "freq_dict"
   ]
  },
  {
   "cell_type": "markdown",
   "metadata": {},
   "source": [
    "get the help of a module function"
   ]
  },
  {
   "cell_type": "code",
   "execution_count": 41,
   "metadata": {
    "colab": {
     "base_uri": "https://localhost:8080/"
    },
    "id": "tCLyxKKczgTh",
    "outputId": "b83d55d6-3f80-4413-daf3-f27c0fc1dc47"
   },
   "outputs": [
    {
     "name": "stdout",
     "output_type": "stream",
     "text": [
      "Help on built-in function cosh in module math:\n",
      "\n",
      "cosh(x, /)\n",
      "    Return the hyperbolic cosine of x.\n",
      "\n"
     ]
    }
   ],
   "source": [
    "from math import cosh\n",
    "help(cosh)"
   ]
  },
  {
   "cell_type": "markdown",
   "metadata": {},
   "source": [
    "retrieve most frequent element of a list"
   ]
  },
  {
   "cell_type": "code",
   "execution_count": 47,
   "metadata": {
    "colab": {
     "base_uri": "https://localhost:8080/",
     "height": 35
    },
    "id": "8YVUz3xm2A5U",
    "outputId": "cc692728-a4b2-4f3a-f48e-35f7f239795d"
   },
   "outputs": [
    {
     "data": {
      "application/vnd.google.colaboratory.intrinsic+json": {
       "type": "string"
      },
      "text/plain": [
       "'c'"
      ]
     },
     "execution_count": 47,
     "metadata": {
      "tags": []
     },
     "output_type": "execute_result"
    }
   ],
   "source": [
    "lst = ['a', 'b', 'b', 'c', 'c', 'c']\n",
    "most_freq = max(set(lst), key=lst.count)\n",
    "most_freq"
   ]
  },
  {
   "cell_type": "code",
   "execution_count": 45,
   "metadata": {
    "colab": {
     "base_uri": "https://localhost:8080/",
     "height": 35
    },
    "id": "s7NhCNW12QWm",
    "outputId": "fd95b6c7-fac2-4ebe-e679-89c0bd544877"
   },
   "outputs": [
    {
     "data": {
      "application/vnd.google.colaboratory.intrinsic+json": {
       "type": "string"
      },
      "text/plain": [
       "'c'"
      ]
     },
     "execution_count": 45,
     "metadata": {
      "tags": []
     },
     "output_type": "execute_result"
    }
   ],
   "source": [
    "def most_frequent(List):\n",
    "    return max(set(List), key = List.count)\n",
    "  \n",
    "most_frequent(['a', 'b', 'b', 'c', 'c', 'c'])"
   ]
  },
  {
   "cell_type": "markdown",
   "metadata": {},
   "source": [
    "declare a Car & a Plane classes, create an instance of one of the two classes depending on an other value "
   ]
  },
  {
   "cell_type": "code",
   "execution_count": 50,
   "metadata": {
    "colab": {
     "base_uri": "https://localhost:8080/"
    },
    "id": "2viNHRm42alq",
    "outputId": "a7535b6c-bcd6-423b-f401-c39f756ff31a"
   },
   "outputs": [
    {
     "data": {
      "text/plain": [
       "True"
      ]
     },
     "execution_count": 50,
     "metadata": {
      "tags": []
     },
     "output_type": "execute_result"
    }
   ],
   "source": [
    "class Car(object):\n",
    "  def __init__(self, value):\n",
    "    self.property = \"car\"\n",
    "    self.value = value\n",
    "\n",
    "class Plane(object):\n",
    "  def __init__(self, param):\n",
    "    self.property = \"plane\"\n",
    "    self.param = param\n",
    "\n",
    "y == 10\n",
    "x = (Car if y == 10 else Plane)(22)\n",
    "isinstance(x, Car)"
   ]
  },
  {
   "cell_type": "code",
   "execution_count": 51,
   "metadata": {
    "colab": {
     "base_uri": "https://localhost:8080/"
    },
    "id": "ymxrQAue3zPD",
    "outputId": "e7ffcb90-e9e3-4401-ecc6-355f86192427"
   },
   "outputs": [
    {
     "data": {
      "text/plain": [
       "('plane', 33)"
      ]
     },
     "execution_count": 51,
     "metadata": {
      "tags": []
     },
     "output_type": "execute_result"
    }
   ],
   "source": [
    "z = (Car if y!= 10 else Plane)(33)\n",
    "z.property, z.param"
   ]
  }
 ],
 "metadata": {
  "colab": {
   "collapsed_sections": [],
   "name": "python_cheat_sheet.ipynb",
   "provenance": []
  },
  "kernelspec": {
   "display_name": "Python 3",
   "language": "python",
   "name": "python3"
  },
  "language_info": {
   "codemirror_mode": {
    "name": "ipython",
    "version": 3
   },
   "file_extension": ".py",
   "mimetype": "text/x-python",
   "name": "python",
   "nbconvert_exporter": "python",
   "pygments_lexer": "ipython3",
   "version": "3.8.8"
  }
 },
 "nbformat": 4,
 "nbformat_minor": 1
}
