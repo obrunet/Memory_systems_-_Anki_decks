{
 "cells": [
  {
   "cell_type": "markdown",
   "id": "274adb54",
   "metadata": {},
   "source": [
    "# modifications la baule"
   ]
  },
  {
   "cell_type": "markdown",
   "id": "6aa25a44",
   "metadata": {},
   "source": [
    "\n",
    "1. parking ext voiture plot\n",
    "2. porte entrée immeuble \n",
    "3. porte entrée / escalier\n",
    "4. entrée \n",
    "5. 1ère chambre [ lavabo \n",
    "6. 1er lit superposé bas \n",
    "7. 2ème lit milieu \n",
    "8. 3ème lit en haut] \n",
    "9. 2ème chambre [armoire \n",
    "10. lit double \n",
    "11. secrétaire \n",
    "12. balcon] \n",
    "13. salon [canapé \n",
    "14. blibliothèque /  secrétaire \n",
    "15. table en coin arrondi  \n",
    "16. table à manger] \n",
    "17. cuisine [ four \n",
    "18. évier \n",
    "19. plaques chauffantes \n",
    "20. frigo & congélo          \n",
    "21. salle de bain [douche \n",
    "22. toilettes \n",
    "23. évier] \n",
    "24. sortie apparte & ascenseur\n",
    "25. couleur sombre\n",
    "26. sortie côté plage\n",
    "27. allée extérieure\n",
    "28. plage + mer\n",
    "29. club de l'étoile ou Mickey\n",
    "30. petite piscine"
   ]
  },
  {
   "cell_type": "markdown",
   "id": "c736e968",
   "metadata": {},
   "source": [
    "# Chez Matou à Triel-sur-Seine"
   ]
  },
  {
   "cell_type": "markdown",
   "id": "c239e4a9",
   "metadata": {},
   "source": [
    "1. rue / porte entrée ext\n",
    "2. allée / porte maison\n",
    "3. entrée maison porte manteau\n",
    "4. salon canapé + fauteuil\n",
    "5. salon pas TV mais projo + jouets\n",
    "6. table cuisine\n",
    "7. table à manger verrandas\n",
    "8. toboggan dans le jardin\n",
    "9. trampoline\n",
    "10. chaises près de la haie\n",
    "11. potager\n",
    "12. babyfoot verrandas\n",
    "13. rameur\n",
    "14. cuisine\n",
    "15. escalier sous sol\n",
    "16. sous sol & réserves\n",
    "17. salle de bain avec baignoire\n",
    "18. salle d'amis lit biblio ikea armoire\n",
    "19. garage\n",
    "20. autre pièce canapé\n",
    "21. toilettes\n",
    "22. escalier en bois\n",
    "23. chambre lit\n",
    "24. bureau + pendrie\n",
    "25. salle de bain douche\n",
    "26. chambre hugo tipi"
   ]
  },
  {
   "cell_type": "markdown",
   "id": "e2ba340a",
   "metadata": {},
   "source": [
    "# La baule parents\n",
    "\n",
    "1. devant la porte dans le couloir\n",
    "2. entré apparte\n",
    "3. kitchenette\n",
    "4. canapé\n",
    "5. balcon\n",
    "6. TV & bibliothèque\n",
    "7. table a manger\n",
    "8. salle de bain [ lavabo\n",
    "9. douche\n",
    "10. machine & produits\n",
    "11. wc\n",
    "12. chambre [ secrétaire\n",
    "13. lit\n",
    "14. armoire\n",
    "15. couleur sortie apparte\n",
    "\n"
   ]
  },
  {
   "cell_type": "markdown",
   "id": "f960b10e",
   "metadata": {},
   "source": [
    "# Festieux\n",
    "\n",
    "1. portail\n",
    "2. entrée jardin\n",
    "3. salle rangement\n",
    "4. entrée maison baby\n",
    "5. wc\n",
    "6. douche\n",
    "7. canape TV\n",
    "6. canape table basse\n",
    "7. piano\n",
    "8. cuisine\n",
    "9. table à manger\n",
    "10. bureau\n",
    "11. fauteuil\n",
    "12. escalier accès 1er étage\n",
    "13. 1ère chambre\n",
    "14. cagibi\n",
    "15. 2ème chambre lit surélevé\n",
    "16. 3ème chambre [ lit\n",
    "17. douche ]\n",
    "18. 4ème chambre canape TV\n",
    "19. couloir peinture machine à coudre\n",
    "20. salle de bain / baignoire / lavabo\n",
    "21. wc romain\n",
    "22. salle de jeux\n",
    "23. passage cabane coussins\n",
    "24. 5ème chambre lit superposés + lit enfant\n",
    "25. 6ème chambre bébé\n",
    "26. lustre pour sortir\n",
    "27. table dehors / terrasse pavée \n",
    "28. jardin\n",
    "29. ancienne grange\n",
    "30. piscine\n",
    "31. chaises longues\n",
    "31. jardin déco\n",
    "32. emplacement voiture"
   ]
  },
  {
   "cell_type": "code",
   "execution_count": null,
   "id": "8ff2f6ad",
   "metadata": {},
   "outputs": [],
   "source": []
  }
 ],
 "metadata": {
  "kernelspec": {
   "display_name": "Python 3",
   "language": "python",
   "name": "python3"
  },
  "language_info": {
   "codemirror_mode": {
    "name": "ipython",
    "version": 3
   },
   "file_extension": ".py",
   "mimetype": "text/x-python",
   "name": "python",
   "nbconvert_exporter": "python",
   "pygments_lexer": "ipython3",
   "version": "3.8.8"
  }
 },
 "nbformat": 4,
 "nbformat_minor": 5
}
