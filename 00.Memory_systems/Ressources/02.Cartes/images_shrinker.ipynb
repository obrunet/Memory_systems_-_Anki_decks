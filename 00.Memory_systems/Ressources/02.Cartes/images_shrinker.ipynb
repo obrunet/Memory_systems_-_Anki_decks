{
  "nbformat": 4,
  "nbformat_minor": 0,
  "metadata": {
    "colab": {
      "name": "images_shrinker.ipynb",
      "provenance": [],
      "collapsed_sections": []
    },
    "kernelspec": {
      "name": "python3",
      "display_name": "Python 3"
    },
    "language_info": {
      "name": "python"
    }
  },
  "cells": [
    {
      "cell_type": "markdown",
      "metadata": {
        "id": "-uSP-Ehv0nZA"
      },
      "source": [
        "Access to google drive files (cards pics)"
      ]
    },
    {
      "cell_type": "code",
      "metadata": {
        "colab": {
          "base_uri": "https://localhost:8080/"
        },
        "id": "9HfwFSiCwhlB",
        "outputId": "ba9f014e-d143-47a0-f3d8-069c1af28057"
      },
      "source": [
        "from google.colab import drive\n",
        "drive.mount('/content/drive')"
      ],
      "execution_count": 2,
      "outputs": [
        {
          "output_type": "stream",
          "text": [
            "Mounted at /content/drive\n"
          ],
          "name": "stdout"
        }
      ]
    },
    {
      "cell_type": "code",
      "metadata": {
        "colab": {
          "base_uri": "https://localhost:8080/"
        },
        "id": "Rj2VnMLnwgOh",
        "outputId": "b7df551b-0865-4602-aee0-8cb26ef39a3d"
      },
      "source": [
        "!ls drive/MyDrive/Spark\\ Lynda/cards/JPEG"
      ],
      "execution_count": 25,
      "outputs": [
        {
          "output_type": "stream",
          "text": [
            " 10C.jpg   3C.jpg   5C.jpg   7C.jpg   9C.jpg  'Copie de 2C.jpg'   KS.jpg\n",
            " 10D.jpg   3D.jpg   5D.jpg   7D.jpg   9D.jpg   JC.jpg\t\t  QC.jpg\n",
            " 10H.jpg   3H.jpg   5H.jpg   7H.jpg   9H.jpg   JD.jpg\t\t  QD.jpg\n",
            " 10S.jpg   3S.jpg   5S.jpg   7S.jpg   9S.jpg   JH.jpg\t\t  QH.jpg\n",
            " 2C.jpg    4C.jpg   6C.jpg   8C.jpg   AC.jpg   JS.jpg\t\t  QS.jpg\n",
            " 2D.jpg    4D.jpg   6D.jpg   8D.jpg   AD.jpg   KC.jpg\n",
            " 2H.jpg    4H.jpg   6H.jpg   8H.jpg   AH.jpg   KD.jpg\n",
            " 2S.jpg    4S.jpg   6S.jpg   8S.jpg   AS.jpg   KH.jpg\n"
          ],
          "name": "stdout"
        }
      ]
    },
    {
      "cell_type": "code",
      "metadata": {
        "colab": {
          "base_uri": "https://localhost:8080/"
        },
        "id": "56CewcNYwy8l",
        "outputId": "fb442842-0da4-4516-ade0-d295ce791867"
      },
      "source": [
        "!ls -alh drive/MyDrive/Spark\\ Lynda/cards/JPEG | wc -l"
      ],
      "execution_count": 11,
      "outputs": [
        {
          "output_type": "stream",
          "text": [
            "53\n"
          ],
          "name": "stdout"
        }
      ]
    },
    {
      "cell_type": "code",
      "metadata": {
        "colab": {
          "base_uri": "https://localhost:8080/",
          "height": 35
        },
        "id": "vZt6QK40xSUe",
        "outputId": "ff625e19-0dc6-4c26-b4b0-5348353c8423"
      },
      "source": [
        "from os import listdir\n",
        "from os.path import isfile, join\n",
        "\n",
        "my_path = 'drive/MyDrive/Spark Lynda/cards/JPEG'\n",
        "only_files = [f for f in listdir(my_path) if isfile(join(my_path, f))]\n",
        "only_files[-1]"
      ],
      "execution_count": 16,
      "outputs": [
        {
          "output_type": "execute_result",
          "data": {
            "application/vnd.google.colaboratory.intrinsic+json": {
              "type": "string"
            },
            "text/plain": [
              "'8H.jpg'"
            ]
          },
          "metadata": {
            "tags": []
          },
          "execution_count": 16
        }
      ]
    },
    {
      "cell_type": "code",
      "metadata": {
        "colab": {
          "base_uri": "https://localhost:8080/"
        },
        "id": "K_mK2dPY0jvp",
        "outputId": "4403f642-4456-403b-8d84-73d82da0dc05"
      },
      "source": [
        "len(only_files)"
      ],
      "execution_count": 24,
      "outputs": [
        {
          "output_type": "execute_result",
          "data": {
            "text/plain": [
              "52"
            ]
          },
          "metadata": {
            "tags": []
          },
          "execution_count": 24
        }
      ]
    },
    {
      "cell_type": "markdown",
      "metadata": {
        "id": "tLmNqtmf0wyk"
      },
      "source": [
        "Just a test to skrink the size of a specific picture"
      ]
    },
    {
      "cell_type": "code",
      "metadata": {
        "colab": {
          "base_uri": "https://localhost:8080/"
        },
        "id": "2cz4zqgIxlNa",
        "outputId": "d8accc7f-534f-4955-b1a5-64258bce6cc8"
      },
      "source": [
        "from PIL import Image\n",
        "\n",
        "test_path = 'drive/MyDrive/Spark Lynda/cards/JPEG/Copie de 2C.jpg'\n",
        "\n",
        "def picture_size(path):\n",
        "  \"\"\"Returns a tuple (width, height) of the picture provided in the input (path)\"\"\"\n",
        "  im = Image.open(path)\n",
        "  width, height = im.size\n",
        "  print(width, height)\n",
        "\n",
        "picture_size(test_path)"
      ],
      "execution_count": 28,
      "outputs": [
        {
          "output_type": "stream",
          "text": [
            "691 1056\n"
          ],
          "name": "stdout"
        }
      ]
    },
    {
      "cell_type": "code",
      "metadata": {
        "colab": {
          "base_uri": "https://localhost:8080/"
        },
        "id": "rcmoXS6dyLfi",
        "outputId": "d054a17e-c12a-4214-a19d-19c2d00c2999"
      },
      "source": [
        "def reduce_picture(path, factor):\n",
        "  \"\"\"Reduce the image whose path is provided as input by the factor parameter\"\"\"\n",
        "  im = Image.open(path)\n",
        "  im = im.resize((int(width/factor), int(height/factor)), Image.ANTIALIAS)\n",
        "  im.save(path, quality=100)\n",
        "\n",
        "reduce_picture(test_path, 3)\n",
        "picture_size(test_path)"
      ],
      "execution_count": 31,
      "outputs": [
        {
          "output_type": "stream",
          "text": [
            "230 352\n"
          ],
          "name": "stdout"
        }
      ]
    },
    {
      "cell_type": "markdown",
      "metadata": {
        "id": "K6A2wku72RvE"
      },
      "source": [
        "Apply all the changes to all the pictures in the JPEG folder "
      ]
    },
    {
      "cell_type": "code",
      "metadata": {
        "id": "UP0Bu8qf2M3k"
      },
      "source": [
        "for img in only_files:\n",
        "  reduce_picture(join(my_path, img), 3)"
      ],
      "execution_count": 32,
      "outputs": []
    }
  ]
}